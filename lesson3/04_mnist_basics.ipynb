{
  "cells": [
    {
      "cell_type": "code",
      "execution_count": 1,
      "metadata": {
        "colab": {
          "base_uri": "https://localhost:8080/"
        },
        "id": "V-PsbA-bL1b-",
        "outputId": "9671569c-e2f7-4ff2-dd8f-43fa431af01d"
      },
      "outputs": [
        {
          "output_type": "stream",
          "name": "stdout",
          "text": [
            "\u001b[2K     \u001b[90m━━━━━━━━━━━━━━━━━━━━━━━━━━━━━━━━━━━━━━━\u001b[0m \u001b[32m719.8/719.8 kB\u001b[0m \u001b[31m4.2 MB/s\u001b[0m eta \u001b[36m0:00:00\u001b[0m\n",
            "\u001b[2K     \u001b[90m━━━━━━━━━━━━━━━━━━━━━━━━━━━━━━━━━━━━━━━━\u001b[0m \u001b[32m7.5/7.5 MB\u001b[0m \u001b[31m56.9 MB/s\u001b[0m eta \u001b[36m0:00:00\u001b[0m\n",
            "\u001b[2K     \u001b[90m━━━━━━━━━━━━━━━━━━━━━━━━━━━━━━━━━━━━━━\u001b[0m \u001b[32m519.3/519.3 kB\u001b[0m \u001b[31m25.9 MB/s\u001b[0m eta \u001b[36m0:00:00\u001b[0m\n",
            "\u001b[2K     \u001b[90m━━━━━━━━━━━━━━━━━━━━━━━━━━━━━━━━━━━━━━━━\u001b[0m \u001b[32m1.3/1.3 MB\u001b[0m \u001b[31m38.0 MB/s\u001b[0m eta \u001b[36m0:00:00\u001b[0m\n",
            "\u001b[2K     \u001b[90m━━━━━━━━━━━━━━━━━━━━━━━━━━━━━━━━━━━━━━━\u001b[0m \u001b[32m115.3/115.3 kB\u001b[0m \u001b[31m9.9 MB/s\u001b[0m eta \u001b[36m0:00:00\u001b[0m\n",
            "\u001b[2K     \u001b[90m━━━━━━━━━━━━━━━━━━━━━━━━━━━━━━━━━━━━━━\u001b[0m \u001b[32m194.1/194.1 kB\u001b[0m \u001b[31m11.4 MB/s\u001b[0m eta \u001b[36m0:00:00\u001b[0m\n",
            "\u001b[2K     \u001b[90m━━━━━━━━━━━━━━━━━━━━━━━━━━━━━━━━━━━━━━\u001b[0m \u001b[32m134.8/134.8 kB\u001b[0m \u001b[31m11.4 MB/s\u001b[0m eta \u001b[36m0:00:00\u001b[0m\n",
            "\u001b[2K     \u001b[90m━━━━━━━━━━━━━━━━━━━━━━━━━━━━━━━━━━━━━━\u001b[0m \u001b[32m268.8/268.8 kB\u001b[0m \u001b[31m25.5 MB/s\u001b[0m eta \u001b[36m0:00:00\u001b[0m\n",
            "\u001b[2K     \u001b[90m━━━━━━━━━━━━━━━━━━━━━━━━━━━━━━━━━━━━━━━━\u001b[0m \u001b[32m7.8/7.8 MB\u001b[0m \u001b[31m29.2 MB/s\u001b[0m eta \u001b[36m0:00:00\u001b[0m\n",
            "\u001b[2K     \u001b[90m━━━━━━━━━━━━━━━━━━━━━━━━━━━━━━━━━━━━━━━━\u001b[0m \u001b[32m1.3/1.3 MB\u001b[0m \u001b[31m41.6 MB/s\u001b[0m eta \u001b[36m0:00:00\u001b[0m\n",
            "\u001b[2K     \u001b[90m━━━━━━━━━━━━━━━━━━━━━━━━━━━━━━━━━━━━━━━━\u001b[0m \u001b[32m1.6/1.6 MB\u001b[0m \u001b[31m59.5 MB/s\u001b[0m eta \u001b[36m0:00:00\u001b[0m\n",
            "\u001b[?25hMounted at /content/gdrive\n"
          ]
        }
      ],
      "source": [
        "#hide\n",
        "! [ -e /content ] && pip install -Uqq fastbook\n",
        "import fastbook\n",
        "fastbook.setup_book()"
      ]
    },
    {
      "cell_type": "code",
      "execution_count": 2,
      "metadata": {
        "id": "w22AsHVYL1b_"
      },
      "outputs": [],
      "source": [
        "#hide\n",
        "from fastai.vision.all import *\n",
        "from fastbook import *\n",
        "\n",
        "matplotlib.rc('image', cmap='Greys')"
      ]
    },
    {
      "cell_type": "markdown",
      "metadata": {
        "id": "ep1YrBYKL1b_"
      },
      "source": [
        "# Under the Hood: Training a Digit Classifier"
      ]
    },
    {
      "cell_type": "markdown",
      "metadata": {
        "id": "xoU-zhNcL1cA"
      },
      "source": [
        "## Pixels: The Foundations of Computer Vision"
      ]
    },
    {
      "cell_type": "markdown",
      "metadata": {
        "id": "9crQ7QDQL1cA"
      },
      "source": [
        "## Sidebar: Tenacity and Deep Learning"
      ]
    },
    {
      "cell_type": "markdown",
      "metadata": {
        "id": "z72dKfUvL1cA"
      },
      "source": [
        "## End sidebar"
      ]
    },
    {
      "cell_type": "code",
      "execution_count": 3,
      "metadata": {
        "colab": {
          "base_uri": "https://localhost:8080/",
          "height": 37
        },
        "id": "w4LH1uFbL1cA",
        "outputId": "bb0b1ebe-fd4f-421f-ac5c-b82a2402efed"
      },
      "outputs": [
        {
          "output_type": "display_data",
          "data": {
            "text/plain": [
              "<IPython.core.display.HTML object>"
            ],
            "text/html": [
              "\n",
              "<style>\n",
              "    /* Turns off some styling */\n",
              "    progress {\n",
              "        /* gets rid of default border in Firefox and Opera. */\n",
              "        border: none;\n",
              "        /* Needs to be in here for Safari polyfill so background images work as expected. */\n",
              "        background-size: auto;\n",
              "    }\n",
              "    progress:not([value]), progress:not([value])::-webkit-progress-bar {\n",
              "        background: repeating-linear-gradient(45deg, #7e7e7e, #7e7e7e 10px, #5c5c5c 10px, #5c5c5c 20px);\n",
              "    }\n",
              "    .progress-bar-interrupted, .progress-bar-interrupted::-webkit-progress-bar {\n",
              "        background: #F44336;\n",
              "    }\n",
              "</style>\n"
            ]
          },
          "metadata": {}
        },
        {
          "output_type": "display_data",
          "data": {
            "text/plain": [
              "<IPython.core.display.HTML object>"
            ],
            "text/html": [
              "\n",
              "    <div>\n",
              "      <progress value='3219456' class='' max='3214948' style='width:300px; height:20px; vertical-align: middle;'></progress>\n",
              "      100.14% [3219456/3214948 00:00&lt;00:00]\n",
              "    </div>\n",
              "    "
            ]
          },
          "metadata": {}
        }
      ],
      "source": [
        "path = untar_data(URLs.MNIST_SAMPLE)"
      ]
    },
    {
      "cell_type": "code",
      "execution_count": 4,
      "metadata": {
        "id": "-jnOcxv2L1cA"
      },
      "outputs": [],
      "source": [
        "#hide\n",
        "Path.BASE_PATH = path"
      ]
    },
    {
      "cell_type": "code",
      "execution_count": 5,
      "metadata": {
        "colab": {
          "base_uri": "https://localhost:8080/"
        },
        "id": "-9-1FZkGL1cA",
        "outputId": "7ad5e7c1-09ad-4599-e187-757396d1fc0b"
      },
      "outputs": [
        {
          "output_type": "execute_result",
          "data": {
            "text/plain": [
              "(#3) [Path('valid'),Path('labels.csv'),Path('train')]"
            ]
          },
          "metadata": {},
          "execution_count": 5
        }
      ],
      "source": [
        "path.ls()"
      ]
    },
    {
      "cell_type": "code",
      "execution_count": 10,
      "metadata": {
        "colab": {
          "base_uri": "https://localhost:8080/"
        },
        "id": "VSn7tzKpL1cA",
        "outputId": "9bb27fe2-d381-4eeb-d859-f9a457661666"
      },
      "outputs": [
        {
          "output_type": "execute_result",
          "data": {
            "text/plain": [
              "(#2) [Path('train/3'),Path('train/7')]"
            ]
          },
          "metadata": {},
          "execution_count": 10
        }
      ],
      "source": [
        "(path/'train').ls()"
      ]
    },
    {
      "cell_type": "code",
      "execution_count": 11,
      "metadata": {
        "colab": {
          "base_uri": "https://localhost:8080/"
        },
        "id": "1CCWysnkL1cA",
        "outputId": "82207ba0-9c33-4799-d41d-93b8537ac038"
      },
      "outputs": [
        {
          "output_type": "execute_result",
          "data": {
            "text/plain": [
              "(#6131) [Path('train/3/10.png'),Path('train/3/10000.png'),Path('train/3/10011.png'),Path('train/3/10031.png'),Path('train/3/10034.png'),Path('train/3/10042.png'),Path('train/3/10052.png'),Path('train/3/1007.png'),Path('train/3/10074.png'),Path('train/3/10091.png')...]"
            ]
          },
          "metadata": {},
          "execution_count": 11
        }
      ],
      "source": [
        "threes = (path/'train'/'3').ls().sorted()\n",
        "sevens = (path/'train'/'7').ls().sorted()\n",
        "threes"
      ]
    },
    {
      "cell_type": "code",
      "execution_count": 14,
      "metadata": {
        "colab": {
          "base_uri": "https://localhost:8080/",
          "height": 45
        },
        "id": "0uy06hK8L1cB",
        "outputId": "e9449156-4ac6-40e5-f067-90f3189894ec"
      },
      "outputs": [
        {
          "output_type": "execute_result",
          "data": {
            "text/plain": [
              "<PIL.PngImagePlugin.PngImageFile image mode=L size=28x28>"
            ],
            "image/png": "[encoded data removed]"
          },
          "metadata": {},
          "execution_count": 14
        }
      ],
      "source": [
        "im3_path = threes[1]\n",
        "im3 = Image.open(im3_path)\n",
        "im3"
      ]
    },
    {
      "cell_type": "code",
      "execution_count": 15,
      "metadata": {
        "colab": {
          "base_uri": "https://localhost:8080/"
        },
        "id": "7MdfzibtL1cB",
        "outputId": "d6a69220-c5dd-4221-c161-ed685cec8e49"
      },
      "outputs": [
        {
          "output_type": "execute_result",
          "data": {
            "text/plain": [
              "array([[  0,   0,   0,   0,   0,   0],\n",
              "       [  0,   0,   0,   0,   0,  29],\n",
              "       [  0,   0,   0,  48, 166, 224],\n",
              "       [  0,  93, 244, 249, 253, 187],\n",
              "       [  0, 107, 253, 253, 230,  48],\n",
              "       [  0,   3,  20,  20,  15,   0]], dtype=uint8)"
            ]
          },
          "metadata": {},
          "execution_count": 15
        }
      ],
      "source": [
        "array(im3)[4:10,4:10]"
      ]
    },
    {
      "cell_type": "code",
      "execution_count": 16,
      "metadata": {
        "colab": {
          "base_uri": "https://localhost:8080/"
        },
        "id": "dPbj1ESnL1cB",
        "outputId": "6b5731a6-2c57-4557-c713-542f987505e0"
      },
      "outputs": [
        {
          "output_type": "execute_result",
          "data": {
            "text/plain": [
              "tensor([[  0,   0,   0,   0,   0,   0],\n",
              "        [  0,   0,   0,   0,   0,  29],\n",
              "        [  0,   0,   0,  48, 166, 224],\n",
              "        [  0,  93, 244, 249, 253, 187],\n",
              "        [  0, 107, 253, 253, 230,  48],\n",
              "        [  0,   3,  20,  20,  15,   0]], dtype=torch.uint8)"
            ]
          },
          "metadata": {},
          "execution_count": 16
        }
      ],
      "source": [
        "tensor(im3)[4:10,4:10]"
      ]
    },
    {
      "cell_type": "code",
      "execution_count": 17,
      "metadata": {
        "colab": {
          "base_uri": "https://localhost:8080/",
          "height": 394
        },
        "id": "Vu0HOJR-L1cB",
        "outputId": "3674a823-6bf9-4426-b234-168f0971f448"
      },
      "outputs": [
        {
          "output_type": "execute_result",
          "data": {
            "text/plain": [
              "<pandas.io.formats.style.Styler at 0x789f8800d120>"
            ],
            "text/html": [
              "<style type=\"text/css\">\n",
              "#T_fbcb5_row0_col0, #T_fbcb5_row0_col1, #T_fbcb5_row0_col2, #T_fbcb5_row0_col3, #T_fbcb5_row0_col4, #T_fbcb5_row0_col5, #T_fbcb5_row0_col6, #T_fbcb5_row0_col7, #T_fbcb5_row0_col8, #T_fbcb5_row0_col9, #T_fbcb5_row0_col10, #T_fbcb5_row0_col11, #T_fbcb5_row0_col12, #T_fbcb5_row0_col13, #T_fbcb5_row0_col14, #T_fbcb5_row0_col15, #T_fbcb5_row0_col16, #T_fbcb5_row0_col17, #T_fbcb5_row1_col0, #T_fbcb5_row1_col1, #T_fbcb5_row1_col2, #T_fbcb5_row1_col3, #T_fbcb5_row1_col4, #T_fbcb5_row1_col15, #T_fbcb5_row1_col16, #T_fbcb5_row1_col17, #T_fbcb5_row2_col0, #T_fbcb5_row2_col1, #T_fbcb5_row2_col2, #T_fbcb5_row2_col15, #T_fbcb5_row2_col16, #T_fbcb5_row2_col17, #T_fbcb5_row3_col0, #T_fbcb5_row3_col15, #T_fbcb5_row3_col16, #T_fbcb5_row3_col17, #T_fbcb5_row4_col0, #T_fbcb5_row4_col6, #T_fbcb5_row4_col7, #T_fbcb5_row4_col8, #T_fbcb5_row4_col9, #T_fbcb5_row4_col10, #T_fbcb5_row4_col15, #T_fbcb5_row4_col16, #T_fbcb5_row4_col17, #T_fbcb5_row5_col0, #T_fbcb5_row5_col5, #T_fbcb5_row5_col6, #T_fbcb5_row5_col7, #T_fbcb5_row5_col8, #T_fbcb5_row5_col9, #T_fbcb5_row5_col15, #T_fbcb5_row5_col16, #T_fbcb5_row5_col17, #T_fbcb5_row6_col0, #T_fbcb5_row6_col1, #T_fbcb5_row6_col2, #T_fbcb5_row6_col3, #T_fbcb5_row6_col4, #T_fbcb5_row6_col5, #T_fbcb5_row6_col6, #T_fbcb5_row6_col7, #T_fbcb5_row6_col8, #T_fbcb5_row6_col9, #T_fbcb5_row6_col14, #T_fbcb5_row6_col15, #T_fbcb5_row6_col16, #T_fbcb5_row6_col17, #T_fbcb5_row7_col0, #T_fbcb5_row7_col1, #T_fbcb5_row7_col2, #T_fbcb5_row7_col3, #T_fbcb5_row7_col4, #T_fbcb5_row7_col5, #T_fbcb5_row7_col6, #T_fbcb5_row7_col13, #T_fbcb5_row7_col14, #T_fbcb5_row7_col15, #T_fbcb5_row7_col16, #T_fbcb5_row7_col17, #T_fbcb5_row8_col0, #T_fbcb5_row8_col1, #T_fbcb5_row8_col2, #T_fbcb5_row8_col3, #T_fbcb5_row8_col4, #T_fbcb5_row8_col13, #T_fbcb5_row8_col14, #T_fbcb5_row8_col15, #T_fbcb5_row8_col16, #T_fbcb5_row8_col17, #T_fbcb5_row9_col0, #T_fbcb5_row9_col1, #T_fbcb5_row9_col2, #T_fbcb5_row9_col3, #T_fbcb5_row9_col4, #T_fbcb5_row9_col16, #T_fbcb5_row9_col17, #T_fbcb5_row10_col0, #T_fbcb5_row10_col1, #T_fbcb5_row10_col2, #T_fbcb5_row10_col3, #T_fbcb5_row10_col4, #T_fbcb5_row10_col5, #T_fbcb5_row10_col6, #T_fbcb5_row10_col17 {\n",
              "  font-size: 6pt;\n",
              "  background-color: #ffffff;\n",
              "  color: #000000;\n",
              "}\n",
              "#T_fbcb5_row1_col5 {\n",
              "  font-size: 6pt;\n",
              "  background-color: #efefef;\n",
              "  color: #000000;\n",
              "}\n",
              "#T_fbcb5_row1_col6, #T_fbcb5_row1_col13 {\n",
              "  font-size: 6pt;\n",
              "  background-color: #7c7c7c;\n",
              "  color: #f1f1f1;\n",
              "}\n",
              "#T_fbcb5_row1_col7 {\n",
              "  font-size: 6pt;\n",
              "  background-color: #4a4a4a;\n",
              "  color: #f1f1f1;\n",
              "}\n",
              "#T_fbcb5_row1_col8, #T_fbcb5_row1_col9, #T_fbcb5_row1_col10, #T_fbcb5_row2_col5, #T_fbcb5_row2_col6, #T_fbcb5_row2_col7, #T_fbcb5_row2_col11, #T_fbcb5_row2_col12, #T_fbcb5_row2_col13, #T_fbcb5_row3_col4, #T_fbcb5_row3_col12, #T_fbcb5_row3_col13, #T_fbcb5_row4_col1, #T_fbcb5_row4_col2, #T_fbcb5_row4_col3, #T_fbcb5_row4_col12, #T_fbcb5_row4_col13, #T_fbcb5_row5_col12, #T_fbcb5_row6_col11, #T_fbcb5_row9_col11, #T_fbcb5_row10_col11, #T_fbcb5_row10_col12, #T_fbcb5_row10_col13, #T_fbcb5_row10_col14, #T_fbcb5_row10_col15, #T_fbcb5_row10_col16 {\n",
              "  font-size: 6pt;\n",
              "  background-color: #000000;\n",
              "  color: #f1f1f1;\n",
              "}\n",
              "#T_fbcb5_row1_col11 {\n",
              "  font-size: 6pt;\n",
              "  background-color: #606060;\n",
              "  color: #f1f1f1;\n",
              "}\n",
              "#T_fbcb5_row1_col12 {\n",
              "  font-size: 6pt;\n",
              "  background-color: #4d4d4d;\n",
              "  color: #f1f1f1;\n",
              "}\n",
              "#T_fbcb5_row1_col14 {\n",
              "  font-size: 6pt;\n",
              "  background-color: #bbbbbb;\n",
              "  color: #000000;\n",
              "}\n",
              "#T_fbcb5_row2_col3 {\n",
              "  font-size: 6pt;\n",
              "  background-color: #e4e4e4;\n",
              "  color: #000000;\n",
              "}\n",
              "#T_fbcb5_row2_col4, #T_fbcb5_row8_col6 {\n",
              "  font-size: 6pt;\n",
              "  background-color: #6b6b6b;\n",
              "  color: #f1f1f1;\n",
              "}\n",
              "#T_fbcb5_row2_col8, #T_fbcb5_row2_col14, #T_fbcb5_row3_col14 {\n",
              "  font-size: 6pt;\n",
              "  background-color: #171717;\n",
              "  color: #f1f1f1;\n",
              "}\n",
              "#T_fbcb5_row2_col9, #T_fbcb5_row3_col11 {\n",
              "  font-size: 6pt;\n",
              "  background-color: #4b4b4b;\n",
              "  color: #f1f1f1;\n",
              "}\n",
              "#T_fbcb5_row2_col10, #T_fbcb5_row7_col10, #T_fbcb5_row8_col8, #T_fbcb5_row8_col10, #T_fbcb5_row9_col8, #T_fbcb5_row9_col10 {\n",
              "  font-size: 6pt;\n",
              "  background-color: #010101;\n",
              "  color: #f1f1f1;\n",
              "}\n",
              "#T_fbcb5_row3_col1 {\n",
              "  font-size: 6pt;\n",
              "  background-color: #272727;\n",
              "  color: #f1f1f1;\n",
              "}\n",
              "#T_fbcb5_row3_col2 {\n",
              "  font-size: 6pt;\n",
              "  background-color: #0a0a0a;\n",
              "  color: #f1f1f1;\n",
              "}\n",
              "#T_fbcb5_row3_col3 {\n",
              "  font-size: 6pt;\n",
              "  background-color: #050505;\n",
              "  color: #f1f1f1;\n",
              "}\n",
              "#T_fbcb5_row3_col5 {\n",
              "  font-size: 6pt;\n",
              "  background-color: #333333;\n",
              "  color: #f1f1f1;\n",
              "}\n",
              "#T_fbcb5_row3_col6 {\n",
              "  font-size: 6pt;\n",
              "  background-color: #e6e6e6;\n",
              "  color: #000000;\n",
              "}\n",
              "#T_fbcb5_row3_col7, #T_fbcb5_row3_col10 {\n",
              "  font-size: 6pt;\n",
              "  background-color: #fafafa;\n",
              "  color: #000000;\n",
              "}\n",
              "#T_fbcb5_row3_col8 {\n",
              "  font-size: 6pt;\n",
              "  background-color: #fbfbfb;\n",
              "  color: #000000;\n",
              "}\n",
              "#T_fbcb5_row3_col9 {\n",
              "  font-size: 6pt;\n",
              "  background-color: #fdfdfd;\n",
              "  color: #000000;\n",
              "}\n",
              "#T_fbcb5_row4_col4 {\n",
              "  font-size: 6pt;\n",
              "  background-color: #1b1b1b;\n",
              "  color: #f1f1f1;\n",
              "}\n",
              "#T_fbcb5_row4_col5 {\n",
              "  font-size: 6pt;\n",
              "  background-color: #e0e0e0;\n",
              "  color: #000000;\n",
              "}\n",
              "#T_fbcb5_row4_col11 {\n",
              "  font-size: 6pt;\n",
              "  background-color: #4e4e4e;\n",
              "  color: #f1f1f1;\n",
              "}\n",
              "#T_fbcb5_row4_col14 {\n",
              "  font-size: 6pt;\n",
              "  background-color: #767676;\n",
              "  color: #f1f1f1;\n",
              "}\n",
              "#T_fbcb5_row5_col1 {\n",
              "  font-size: 6pt;\n",
              "  background-color: #fcfcfc;\n",
              "  color: #000000;\n",
              "}\n",
              "#T_fbcb5_row5_col2, #T_fbcb5_row5_col3 {\n",
              "  font-size: 6pt;\n",
              "  background-color: #f6f6f6;\n",
              "  color: #000000;\n",
              "}\n",
              "#T_fbcb5_row5_col4, #T_fbcb5_row7_col7 {\n",
              "  font-size: 6pt;\n",
              "  background-color: #f8f8f8;\n",
              "  color: #000000;\n",
              "}\n",
              "#T_fbcb5_row5_col10, #T_fbcb5_row10_col7 {\n",
              "  font-size: 6pt;\n",
              "  background-color: #e8e8e8;\n",
              "  color: #000000;\n",
              "}\n",
              "#T_fbcb5_row5_col11 {\n",
              "  font-size: 6pt;\n",
              "  background-color: #222222;\n",
              "  color: #f1f1f1;\n",
              "}\n",
              "#T_fbcb5_row5_col13, #T_fbcb5_row6_col12 {\n",
              "  font-size: 6pt;\n",
              "  background-color: #090909;\n",
              "  color: #f1f1f1;\n",
              "}\n",
              "#T_fbcb5_row5_col14 {\n",
              "  font-size: 6pt;\n",
              "  background-color: #d0d0d0;\n",
              "  color: #000000;\n",
              "}\n",
              "#T_fbcb5_row6_col10, #T_fbcb5_row7_col11, #T_fbcb5_row9_col6 {\n",
              "  font-size: 6pt;\n",
              "  background-color: #060606;\n",
              "  color: #f1f1f1;\n",
              "}\n",
              "#T_fbcb5_row6_col13 {\n",
              "  font-size: 6pt;\n",
              "  background-color: #979797;\n",
              "  color: #f1f1f1;\n",
              "}\n",
              "#T_fbcb5_row7_col8 {\n",
              "  font-size: 6pt;\n",
              "  background-color: #b6b6b6;\n",
              "  color: #000000;\n",
              "}\n",
              "#T_fbcb5_row7_col9 {\n",
              "  font-size: 6pt;\n",
              "  background-color: #252525;\n",
              "  color: #f1f1f1;\n",
              "}\n",
              "#T_fbcb5_row7_col12 {\n",
              "  font-size: 6pt;\n",
              "  background-color: #999999;\n",
              "  color: #f1f1f1;\n",
              "}\n",
              "#T_fbcb5_row8_col5 {\n",
              "  font-size: 6pt;\n",
              "  background-color: #f9f9f9;\n",
              "  color: #000000;\n",
              "}\n",
              "#T_fbcb5_row8_col7 {\n",
              "  font-size: 6pt;\n",
              "  background-color: #101010;\n",
              "  color: #f1f1f1;\n",
              "}\n",
              "#T_fbcb5_row8_col9, #T_fbcb5_row9_col9 {\n",
              "  font-size: 6pt;\n",
              "  background-color: #020202;\n",
              "  color: #f1f1f1;\n",
              "}\n",
              "#T_fbcb5_row8_col11 {\n",
              "  font-size: 6pt;\n",
              "  background-color: #545454;\n",
              "  color: #f1f1f1;\n",
              "}\n",
              "#T_fbcb5_row8_col12 {\n",
              "  font-size: 6pt;\n",
              "  background-color: #f1f1f1;\n",
              "  color: #000000;\n",
              "}\n",
              "#T_fbcb5_row9_col5 {\n",
              "  font-size: 6pt;\n",
              "  background-color: #f7f7f7;\n",
              "  color: #000000;\n",
              "}\n",
              "#T_fbcb5_row9_col7 {\n",
              "  font-size: 6pt;\n",
              "  background-color: #030303;\n",
              "  color: #f1f1f1;\n",
              "}\n",
              "#T_fbcb5_row9_col12 {\n",
              "  font-size: 6pt;\n",
              "  background-color: #181818;\n",
              "  color: #f1f1f1;\n",
              "}\n",
              "#T_fbcb5_row9_col13 {\n",
              "  font-size: 6pt;\n",
              "  background-color: #303030;\n",
              "  color: #f1f1f1;\n",
              "}\n",
              "#T_fbcb5_row9_col14 {\n",
              "  font-size: 6pt;\n",
              "  background-color: #a9a9a9;\n",
              "  color: #f1f1f1;\n",
              "}\n",
              "#T_fbcb5_row9_col15 {\n",
              "  font-size: 6pt;\n",
              "  background-color: #fefefe;\n",
              "  color: #000000;\n",
              "}\n",
              "#T_fbcb5_row10_col8, #T_fbcb5_row10_col9 {\n",
              "  font-size: 6pt;\n",
              "  background-color: #bababa;\n",
              "  color: #000000;\n",
              "}\n",
              "#T_fbcb5_row10_col10 {\n",
              "  font-size: 6pt;\n",
              "  background-color: #393939;\n",
              "  color: #f1f1f1;\n",
              "}\n",
              "</style>\n",
              "<table id=\"T_fbcb5\" class=\"dataframe\">\n",
              "  <thead>\n",
              "    <tr>\n",
              "      <th class=\"blank level0\" >&nbsp;</th>\n",
              "      <th id=\"T_fbcb5_level0_col0\" class=\"col_heading level0 col0\" >0</th>\n",
              "      <th id=\"T_fbcb5_level0_col1\" class=\"col_heading level0 col1\" >1</th>\n",
              "      <th id=\"T_fbcb5_level0_col2\" class=\"col_heading level0 col2\" >2</th>\n",
              "      <th id=\"T_fbcb5_level0_col3\" class=\"col_heading level0 col3\" >3</th>\n",
              "      <th id=\"T_fbcb5_level0_col4\" class=\"col_heading level0 col4\" >4</th>\n",
              "      <th id=\"T_fbcb5_level0_col5\" class=\"col_heading level0 col5\" >5</th>\n",
              "      <th id=\"T_fbcb5_level0_col6\" class=\"col_heading level0 col6\" >6</th>\n",
              "      <th id=\"T_fbcb5_level0_col7\" class=\"col_heading level0 col7\" >7</th>\n",
              "      <th id=\"T_fbcb5_level0_col8\" class=\"col_heading level0 col8\" >8</th>\n",
              "      <th id=\"T_fbcb5_level0_col9\" class=\"col_heading level0 col9\" >9</th>\n",
              "      <th id=\"T_fbcb5_level0_col10\" class=\"col_heading level0 col10\" >10</th>\n",
              "      <th id=\"T_fbcb5_level0_col11\" class=\"col_heading level0 col11\" >11</th>\n",
              "      <th id=\"T_fbcb5_level0_col12\" class=\"col_heading level0 col12\" >12</th>\n",
              "      <th id=\"T_fbcb5_level0_col13\" class=\"col_heading level0 col13\" >13</th>\n",
              "      <th id=\"T_fbcb5_level0_col14\" class=\"col_heading level0 col14\" >14</th>\n",
              "      <th id=\"T_fbcb5_level0_col15\" class=\"col_heading level0 col15\" >15</th>\n",
              "      <th id=\"T_fbcb5_level0_col16\" class=\"col_heading level0 col16\" >16</th>\n",
              "      <th id=\"T_fbcb5_level0_col17\" class=\"col_heading level0 col17\" >17</th>\n",
              "    </tr>\n",
              "  </thead>\n",
              "  <tbody>\n",
              "    <tr>\n",
              "      <th id=\"T_fbcb5_level0_row0\" class=\"row_heading level0 row0\" >0</th>\n",
              "      <td id=\"T_fbcb5_row0_col0\" class=\"data row0 col0\" >0</td>\n",
              "      <td id=\"T_fbcb5_row0_col1\" class=\"data row0 col1\" >0</td>\n",
              "      <td id=\"T_fbcb5_row0_col2\" class=\"data row0 col2\" >0</td>\n",
              "      <td id=\"T_fbcb5_row0_col3\" class=\"data row0 col3\" >0</td>\n",
              "      <td id=\"T_fbcb5_row0_col4\" class=\"data row0 col4\" >0</td>\n",
              "      <td id=\"T_fbcb5_row0_col5\" class=\"data row0 col5\" >0</td>\n",
              "      <td id=\"T_fbcb5_row0_col6\" class=\"data row0 col6\" >0</td>\n",
              "      <td id=\"T_fbcb5_row0_col7\" class=\"data row0 col7\" >0</td>\n",
              "      <td id=\"T_fbcb5_row0_col8\" class=\"data row0 col8\" >0</td>\n",
              "      <td id=\"T_fbcb5_row0_col9\" class=\"data row0 col9\" >0</td>\n",
              "      <td id=\"T_fbcb5_row0_col10\" class=\"data row0 col10\" >0</td>\n",
              "      <td id=\"T_fbcb5_row0_col11\" class=\"data row0 col11\" >0</td>\n",
              "      <td id=\"T_fbcb5_row0_col12\" class=\"data row0 col12\" >0</td>\n",
              "      <td id=\"T_fbcb5_row0_col13\" class=\"data row0 col13\" >0</td>\n",
              "      <td id=\"T_fbcb5_row0_col14\" class=\"data row0 col14\" >0</td>\n",
              "      <td id=\"T_fbcb5_row0_col15\" class=\"data row0 col15\" >0</td>\n",
              "      <td id=\"T_fbcb5_row0_col16\" class=\"data row0 col16\" >0</td>\n",
              "      <td id=\"T_fbcb5_row0_col17\" class=\"data row0 col17\" >0</td>\n",
              "    </tr>\n",
              "    <tr>\n",
              "      <th id=\"T_fbcb5_level0_row1\" class=\"row_heading level0 row1\" >1</th>\n",
              "      <td id=\"T_fbcb5_row1_col0\" class=\"data row1 col0\" >0</td>\n",
              "      <td id=\"T_fbcb5_row1_col1\" class=\"data row1 col1\" >0</td>\n",
              "      <td id=\"T_fbcb5_row1_col2\" class=\"data row1 col2\" >0</td>\n",
              "      <td id=\"T_fbcb5_row1_col3\" class=\"data row1 col3\" >0</td>\n",
              "      <td id=\"T_fbcb5_row1_col4\" class=\"data row1 col4\" >0</td>\n",
              "      <td id=\"T_fbcb5_row1_col5\" class=\"data row1 col5\" >29</td>\n",
              "      <td id=\"T_fbcb5_row1_col6\" class=\"data row1 col6\" >150</td>\n",
              "      <td id=\"T_fbcb5_row1_col7\" class=\"data row1 col7\" >195</td>\n",
              "      <td id=\"T_fbcb5_row1_col8\" class=\"data row1 col8\" >254</td>\n",
              "      <td id=\"T_fbcb5_row1_col9\" class=\"data row1 col9\" >255</td>\n",
              "      <td id=\"T_fbcb5_row1_col10\" class=\"data row1 col10\" >254</td>\n",
              "      <td id=\"T_fbcb5_row1_col11\" class=\"data row1 col11\" >176</td>\n",
              "      <td id=\"T_fbcb5_row1_col12\" class=\"data row1 col12\" >193</td>\n",
              "      <td id=\"T_fbcb5_row1_col13\" class=\"data row1 col13\" >150</td>\n",
              "      <td id=\"T_fbcb5_row1_col14\" class=\"data row1 col14\" >96</td>\n",
              "      <td id=\"T_fbcb5_row1_col15\" class=\"data row1 col15\" >0</td>\n",
              "      <td id=\"T_fbcb5_row1_col16\" class=\"data row1 col16\" >0</td>\n",
              "      <td id=\"T_fbcb5_row1_col17\" class=\"data row1 col17\" >0</td>\n",
              "    </tr>\n",
              "    <tr>\n",
              "      <th id=\"T_fbcb5_level0_row2\" class=\"row_heading level0 row2\" >2</th>\n",
              "      <td id=\"T_fbcb5_row2_col0\" class=\"data row2 col0\" >0</td>\n",
              "      <td id=\"T_fbcb5_row2_col1\" class=\"data row2 col1\" >0</td>\n",
              "      <td id=\"T_fbcb5_row2_col2\" class=\"data row2 col2\" >0</td>\n",
              "      <td id=\"T_fbcb5_row2_col3\" class=\"data row2 col3\" >48</td>\n",
              "      <td id=\"T_fbcb5_row2_col4\" class=\"data row2 col4\" >166</td>\n",
              "      <td id=\"T_fbcb5_row2_col5\" class=\"data row2 col5\" >224</td>\n",
              "      <td id=\"T_fbcb5_row2_col6\" class=\"data row2 col6\" >253</td>\n",
              "      <td id=\"T_fbcb5_row2_col7\" class=\"data row2 col7\" >253</td>\n",
              "      <td id=\"T_fbcb5_row2_col8\" class=\"data row2 col8\" >234</td>\n",
              "      <td id=\"T_fbcb5_row2_col9\" class=\"data row2 col9\" >196</td>\n",
              "      <td id=\"T_fbcb5_row2_col10\" class=\"data row2 col10\" >253</td>\n",
              "      <td id=\"T_fbcb5_row2_col11\" class=\"data row2 col11\" >253</td>\n",
              "      <td id=\"T_fbcb5_row2_col12\" class=\"data row2 col12\" >253</td>\n",
              "      <td id=\"T_fbcb5_row2_col13\" class=\"data row2 col13\" >253</td>\n",
              "      <td id=\"T_fbcb5_row2_col14\" class=\"data row2 col14\" >233</td>\n",
              "      <td id=\"T_fbcb5_row2_col15\" class=\"data row2 col15\" >0</td>\n",
              "      <td id=\"T_fbcb5_row2_col16\" class=\"data row2 col16\" >0</td>\n",
              "      <td id=\"T_fbcb5_row2_col17\" class=\"data row2 col17\" >0</td>\n",
              "    </tr>\n",
              "    <tr>\n",
              "      <th id=\"T_fbcb5_level0_row3\" class=\"row_heading level0 row3\" >3</th>\n",
              "      <td id=\"T_fbcb5_row3_col0\" class=\"data row3 col0\" >0</td>\n",
              "      <td id=\"T_fbcb5_row3_col1\" class=\"data row3 col1\" >93</td>\n",
              "      <td id=\"T_fbcb5_row3_col2\" class=\"data row3 col2\" >244</td>\n",
              "      <td id=\"T_fbcb5_row3_col3\" class=\"data row3 col3\" >249</td>\n",
              "      <td id=\"T_fbcb5_row3_col4\" class=\"data row3 col4\" >253</td>\n",
              "      <td id=\"T_fbcb5_row3_col5\" class=\"data row3 col5\" >187</td>\n",
              "      <td id=\"T_fbcb5_row3_col6\" class=\"data row3 col6\" >46</td>\n",
              "      <td id=\"T_fbcb5_row3_col7\" class=\"data row3 col7\" >10</td>\n",
              "      <td id=\"T_fbcb5_row3_col8\" class=\"data row3 col8\" >8</td>\n",
              "      <td id=\"T_fbcb5_row3_col9\" class=\"data row3 col9\" >4</td>\n",
              "      <td id=\"T_fbcb5_row3_col10\" class=\"data row3 col10\" >10</td>\n",
              "      <td id=\"T_fbcb5_row3_col11\" class=\"data row3 col11\" >194</td>\n",
              "      <td id=\"T_fbcb5_row3_col12\" class=\"data row3 col12\" >253</td>\n",
              "      <td id=\"T_fbcb5_row3_col13\" class=\"data row3 col13\" >253</td>\n",
              "      <td id=\"T_fbcb5_row3_col14\" class=\"data row3 col14\" >233</td>\n",
              "      <td id=\"T_fbcb5_row3_col15\" class=\"data row3 col15\" >0</td>\n",
              "      <td id=\"T_fbcb5_row3_col16\" class=\"data row3 col16\" >0</td>\n",
              "      <td id=\"T_fbcb5_row3_col17\" class=\"data row3 col17\" >0</td>\n",
              "    </tr>\n",
              "    <tr>\n",
              "      <th id=\"T_fbcb5_level0_row4\" class=\"row_heading level0 row4\" >4</th>\n",
              "      <td id=\"T_fbcb5_row4_col0\" class=\"data row4 col0\" >0</td>\n",
              "      <td id=\"T_fbcb5_row4_col1\" class=\"data row4 col1\" >107</td>\n",
              "      <td id=\"T_fbcb5_row4_col2\" class=\"data row4 col2\" >253</td>\n",
              "      <td id=\"T_fbcb5_row4_col3\" class=\"data row4 col3\" >253</td>\n",
              "      <td id=\"T_fbcb5_row4_col4\" class=\"data row4 col4\" >230</td>\n",
              "      <td id=\"T_fbcb5_row4_col5\" class=\"data row4 col5\" >48</td>\n",
              "      <td id=\"T_fbcb5_row4_col6\" class=\"data row4 col6\" >0</td>\n",
              "      <td id=\"T_fbcb5_row4_col7\" class=\"data row4 col7\" >0</td>\n",
              "      <td id=\"T_fbcb5_row4_col8\" class=\"data row4 col8\" >0</td>\n",
              "      <td id=\"T_fbcb5_row4_col9\" class=\"data row4 col9\" >0</td>\n",
              "      <td id=\"T_fbcb5_row4_col10\" class=\"data row4 col10\" >0</td>\n",
              "      <td id=\"T_fbcb5_row4_col11\" class=\"data row4 col11\" >192</td>\n",
              "      <td id=\"T_fbcb5_row4_col12\" class=\"data row4 col12\" >253</td>\n",
              "      <td id=\"T_fbcb5_row4_col13\" class=\"data row4 col13\" >253</td>\n",
              "      <td id=\"T_fbcb5_row4_col14\" class=\"data row4 col14\" >156</td>\n",
              "      <td id=\"T_fbcb5_row4_col15\" class=\"data row4 col15\" >0</td>\n",
              "      <td id=\"T_fbcb5_row4_col16\" class=\"data row4 col16\" >0</td>\n",
              "      <td id=\"T_fbcb5_row4_col17\" class=\"data row4 col17\" >0</td>\n",
              "    </tr>\n",
              "    <tr>\n",
              "      <th id=\"T_fbcb5_level0_row5\" class=\"row_heading level0 row5\" >5</th>\n",
              "      <td id=\"T_fbcb5_row5_col0\" class=\"data row5 col0\" >0</td>\n",
              "      <td id=\"T_fbcb5_row5_col1\" class=\"data row5 col1\" >3</td>\n",
              "      <td id=\"T_fbcb5_row5_col2\" class=\"data row5 col2\" >20</td>\n",
              "      <td id=\"T_fbcb5_row5_col3\" class=\"data row5 col3\" >20</td>\n",
              "      <td id=\"T_fbcb5_row5_col4\" class=\"data row5 col4\" >15</td>\n",
              "      <td id=\"T_fbcb5_row5_col5\" class=\"data row5 col5\" >0</td>\n",
              "      <td id=\"T_fbcb5_row5_col6\" class=\"data row5 col6\" >0</td>\n",
              "      <td id=\"T_fbcb5_row5_col7\" class=\"data row5 col7\" >0</td>\n",
              "      <td id=\"T_fbcb5_row5_col8\" class=\"data row5 col8\" >0</td>\n",
              "      <td id=\"T_fbcb5_row5_col9\" class=\"data row5 col9\" >0</td>\n",
              "      <td id=\"T_fbcb5_row5_col10\" class=\"data row5 col10\" >43</td>\n",
              "      <td id=\"T_fbcb5_row5_col11\" class=\"data row5 col11\" >224</td>\n",
              "      <td id=\"T_fbcb5_row5_col12\" class=\"data row5 col12\" >253</td>\n",
              "      <td id=\"T_fbcb5_row5_col13\" class=\"data row5 col13\" >245</td>\n",
              "      <td id=\"T_fbcb5_row5_col14\" class=\"data row5 col14\" >74</td>\n",
              "      <td id=\"T_fbcb5_row5_col15\" class=\"data row5 col15\" >0</td>\n",
              "      <td id=\"T_fbcb5_row5_col16\" class=\"data row5 col16\" >0</td>\n",
              "      <td id=\"T_fbcb5_row5_col17\" class=\"data row5 col17\" >0</td>\n",
              "    </tr>\n",
              "    <tr>\n",
              "      <th id=\"T_fbcb5_level0_row6\" class=\"row_heading level0 row6\" >6</th>\n",
              "      <td id=\"T_fbcb5_row6_col0\" class=\"data row6 col0\" >0</td>\n",
              "      <td id=\"T_fbcb5_row6_col1\" class=\"data row6 col1\" >0</td>\n",
              "      <td id=\"T_fbcb5_row6_col2\" class=\"data row6 col2\" >0</td>\n",
              "      <td id=\"T_fbcb5_row6_col3\" class=\"data row6 col3\" >0</td>\n",
              "      <td id=\"T_fbcb5_row6_col4\" class=\"data row6 col4\" >0</td>\n",
              "      <td id=\"T_fbcb5_row6_col5\" class=\"data row6 col5\" >0</td>\n",
              "      <td id=\"T_fbcb5_row6_col6\" class=\"data row6 col6\" >0</td>\n",
              "      <td id=\"T_fbcb5_row6_col7\" class=\"data row6 col7\" >0</td>\n",
              "      <td id=\"T_fbcb5_row6_col8\" class=\"data row6 col8\" >0</td>\n",
              "      <td id=\"T_fbcb5_row6_col9\" class=\"data row6 col9\" >0</td>\n",
              "      <td id=\"T_fbcb5_row6_col10\" class=\"data row6 col10\" >249</td>\n",
              "      <td id=\"T_fbcb5_row6_col11\" class=\"data row6 col11\" >253</td>\n",
              "      <td id=\"T_fbcb5_row6_col12\" class=\"data row6 col12\" >245</td>\n",
              "      <td id=\"T_fbcb5_row6_col13\" class=\"data row6 col13\" >126</td>\n",
              "      <td id=\"T_fbcb5_row6_col14\" class=\"data row6 col14\" >0</td>\n",
              "      <td id=\"T_fbcb5_row6_col15\" class=\"data row6 col15\" >0</td>\n",
              "      <td id=\"T_fbcb5_row6_col16\" class=\"data row6 col16\" >0</td>\n",
              "      <td id=\"T_fbcb5_row6_col17\" class=\"data row6 col17\" >0</td>\n",
              "    </tr>\n",
              "    <tr>\n",
              "      <th id=\"T_fbcb5_level0_row7\" class=\"row_heading level0 row7\" >7</th>\n",
              "      <td id=\"T_fbcb5_row7_col0\" class=\"data row7 col0\" >0</td>\n",
              "      <td id=\"T_fbcb5_row7_col1\" class=\"data row7 col1\" >0</td>\n",
              "      <td id=\"T_fbcb5_row7_col2\" class=\"data row7 col2\" >0</td>\n",
              "      <td id=\"T_fbcb5_row7_col3\" class=\"data row7 col3\" >0</td>\n",
              "      <td id=\"T_fbcb5_row7_col4\" class=\"data row7 col4\" >0</td>\n",
              "      <td id=\"T_fbcb5_row7_col5\" class=\"data row7 col5\" >0</td>\n",
              "      <td id=\"T_fbcb5_row7_col6\" class=\"data row7 col6\" >0</td>\n",
              "      <td id=\"T_fbcb5_row7_col7\" class=\"data row7 col7\" >14</td>\n",
              "      <td id=\"T_fbcb5_row7_col8\" class=\"data row7 col8\" >101</td>\n",
              "      <td id=\"T_fbcb5_row7_col9\" class=\"data row7 col9\" >223</td>\n",
              "      <td id=\"T_fbcb5_row7_col10\" class=\"data row7 col10\" >253</td>\n",
              "      <td id=\"T_fbcb5_row7_col11\" class=\"data row7 col11\" >248</td>\n",
              "      <td id=\"T_fbcb5_row7_col12\" class=\"data row7 col12\" >124</td>\n",
              "      <td id=\"T_fbcb5_row7_col13\" class=\"data row7 col13\" >0</td>\n",
              "      <td id=\"T_fbcb5_row7_col14\" class=\"data row7 col14\" >0</td>\n",
              "      <td id=\"T_fbcb5_row7_col15\" class=\"data row7 col15\" >0</td>\n",
              "      <td id=\"T_fbcb5_row7_col16\" class=\"data row7 col16\" >0</td>\n",
              "      <td id=\"T_fbcb5_row7_col17\" class=\"data row7 col17\" >0</td>\n",
              "    </tr>\n",
              "    <tr>\n",
              "      <th id=\"T_fbcb5_level0_row8\" class=\"row_heading level0 row8\" >8</th>\n",
              "      <td id=\"T_fbcb5_row8_col0\" class=\"data row8 col0\" >0</td>\n",
              "      <td id=\"T_fbcb5_row8_col1\" class=\"data row8 col1\" >0</td>\n",
              "      <td id=\"T_fbcb5_row8_col2\" class=\"data row8 col2\" >0</td>\n",
              "      <td id=\"T_fbcb5_row8_col3\" class=\"data row8 col3\" >0</td>\n",
              "      <td id=\"T_fbcb5_row8_col4\" class=\"data row8 col4\" >0</td>\n",
              "      <td id=\"T_fbcb5_row8_col5\" class=\"data row8 col5\" >11</td>\n",
              "      <td id=\"T_fbcb5_row8_col6\" class=\"data row8 col6\" >166</td>\n",
              "      <td id=\"T_fbcb5_row8_col7\" class=\"data row8 col7\" >239</td>\n",
              "      <td id=\"T_fbcb5_row8_col8\" class=\"data row8 col8\" >253</td>\n",
              "      <td id=\"T_fbcb5_row8_col9\" class=\"data row8 col9\" >253</td>\n",
              "      <td id=\"T_fbcb5_row8_col10\" class=\"data row8 col10\" >253</td>\n",
              "      <td id=\"T_fbcb5_row8_col11\" class=\"data row8 col11\" >187</td>\n",
              "      <td id=\"T_fbcb5_row8_col12\" class=\"data row8 col12\" >30</td>\n",
              "      <td id=\"T_fbcb5_row8_col13\" class=\"data row8 col13\" >0</td>\n",
              "      <td id=\"T_fbcb5_row8_col14\" class=\"data row8 col14\" >0</td>\n",
              "      <td id=\"T_fbcb5_row8_col15\" class=\"data row8 col15\" >0</td>\n",
              "      <td id=\"T_fbcb5_row8_col16\" class=\"data row8 col16\" >0</td>\n",
              "      <td id=\"T_fbcb5_row8_col17\" class=\"data row8 col17\" >0</td>\n",
              "    </tr>\n",
              "    <tr>\n",
              "      <th id=\"T_fbcb5_level0_row9\" class=\"row_heading level0 row9\" >9</th>\n",
              "      <td id=\"T_fbcb5_row9_col0\" class=\"data row9 col0\" >0</td>\n",
              "      <td id=\"T_fbcb5_row9_col1\" class=\"data row9 col1\" >0</td>\n",
              "      <td id=\"T_fbcb5_row9_col2\" class=\"data row9 col2\" >0</td>\n",
              "      <td id=\"T_fbcb5_row9_col3\" class=\"data row9 col3\" >0</td>\n",
              "      <td id=\"T_fbcb5_row9_col4\" class=\"data row9 col4\" >0</td>\n",
              "      <td id=\"T_fbcb5_row9_col5\" class=\"data row9 col5\" >16</td>\n",
              "      <td id=\"T_fbcb5_row9_col6\" class=\"data row9 col6\" >248</td>\n",
              "      <td id=\"T_fbcb5_row9_col7\" class=\"data row9 col7\" >250</td>\n",
              "      <td id=\"T_fbcb5_row9_col8\" class=\"data row9 col8\" >253</td>\n",
              "      <td id=\"T_fbcb5_row9_col9\" class=\"data row9 col9\" >253</td>\n",
              "      <td id=\"T_fbcb5_row9_col10\" class=\"data row9 col10\" >253</td>\n",
              "      <td id=\"T_fbcb5_row9_col11\" class=\"data row9 col11\" >253</td>\n",
              "      <td id=\"T_fbcb5_row9_col12\" class=\"data row9 col12\" >232</td>\n",
              "      <td id=\"T_fbcb5_row9_col13\" class=\"data row9 col13\" >213</td>\n",
              "      <td id=\"T_fbcb5_row9_col14\" class=\"data row9 col14\" >111</td>\n",
              "      <td id=\"T_fbcb5_row9_col15\" class=\"data row9 col15\" >2</td>\n",
              "      <td id=\"T_fbcb5_row9_col16\" class=\"data row9 col16\" >0</td>\n",
              "      <td id=\"T_fbcb5_row9_col17\" class=\"data row9 col17\" >0</td>\n",
              "    </tr>\n",
              "    <tr>\n",
              "      <th id=\"T_fbcb5_level0_row10\" class=\"row_heading level0 row10\" >10</th>\n",
              "      <td id=\"T_fbcb5_row10_col0\" class=\"data row10 col0\" >0</td>\n",
              "      <td id=\"T_fbcb5_row10_col1\" class=\"data row10 col1\" >0</td>\n",
              "      <td id=\"T_fbcb5_row10_col2\" class=\"data row10 col2\" >0</td>\n",
              "      <td id=\"T_fbcb5_row10_col3\" class=\"data row10 col3\" >0</td>\n",
              "      <td id=\"T_fbcb5_row10_col4\" class=\"data row10 col4\" >0</td>\n",
              "      <td id=\"T_fbcb5_row10_col5\" class=\"data row10 col5\" >0</td>\n",
              "      <td id=\"T_fbcb5_row10_col6\" class=\"data row10 col6\" >0</td>\n",
              "      <td id=\"T_fbcb5_row10_col7\" class=\"data row10 col7\" >43</td>\n",
              "      <td id=\"T_fbcb5_row10_col8\" class=\"data row10 col8\" >98</td>\n",
              "      <td id=\"T_fbcb5_row10_col9\" class=\"data row10 col9\" >98</td>\n",
              "      <td id=\"T_fbcb5_row10_col10\" class=\"data row10 col10\" >208</td>\n",
              "      <td id=\"T_fbcb5_row10_col11\" class=\"data row10 col11\" >253</td>\n",
              "      <td id=\"T_fbcb5_row10_col12\" class=\"data row10 col12\" >253</td>\n",
              "      <td id=\"T_fbcb5_row10_col13\" class=\"data row10 col13\" >253</td>\n",
              "      <td id=\"T_fbcb5_row10_col14\" class=\"data row10 col14\" >253</td>\n",
              "      <td id=\"T_fbcb5_row10_col15\" class=\"data row10 col15\" >187</td>\n",
              "      <td id=\"T_fbcb5_row10_col16\" class=\"data row10 col16\" >22</td>\n",
              "      <td id=\"T_fbcb5_row10_col17\" class=\"data row10 col17\" >0</td>\n",
              "    </tr>\n",
              "  </tbody>\n",
              "</table>\n"
            ]
          },
          "metadata": {},
          "execution_count": 17
        }
      ],
      "source": [
        "im3_t = tensor(im3)\n",
        "df = pd.DataFrame(im3_t[4:15,4:22])\n",
        "df.style.set_properties(**{'font-size':'6pt'}).background_gradient('Greys')"
      ]
    },
    {
      "cell_type": "code",
      "source": [
        "im7_path = sevens[5]\n",
        "im7 = Image.open(im7_path)\n",
        "im7"
      ],
      "metadata": {
        "colab": {
          "base_uri": "https://localhost:8080/",
          "height": 45
        },
        "id": "zAJgyC0EO6iB",
        "outputId": "c957f4a8-f6b6-4123-b09f-22263cf73d12"
      },
      "execution_count": 20,
      "outputs": [
        {
          "output_type": "execute_result",
          "data": {
            "text/plain": [
              "<PIL.PngImagePlugin.PngImageFile image mode=L size=28x28>"
            ],
            "image/png": "[encoded data removed]"
          },
          "metadata": {},
          "execution_count": 20
        }
      ]
    },
    {
      "cell_type": "code",
      "source": [
        "im7_t = tensor(im7)\n",
        "df = pd.DataFrame(im7_t[4:20, 4:20])\n",
        "df.style.set_properties(**{'font-size':'6pt'}).background_gradient('Greys')"
      ],
      "metadata": {
        "colab": {
          "base_uri": "https://localhost:8080/",
          "height": 551
        },
        "id": "naaTr7esPGvp",
        "outputId": "c3d78b49-483c-4c83-df5d-9e316356cbe6"
      },
      "execution_count": 26,
      "outputs": [
        {
          "output_type": "execute_result",
          "data": {
            "text/plain": [
              "<pandas.io.formats.style.Styler at 0x789f877e6f20>"
            ],
            "text/html": [
              "<style type=\"text/css\">\n",
              "#T_2fd23_row0_col0, #T_2fd23_row0_col1, #T_2fd23_row0_col2, #T_2fd23_row0_col3, #T_2fd23_row0_col4, #T_2fd23_row0_col5, #T_2fd23_row0_col6, #T_2fd23_row0_col7, #T_2fd23_row0_col8, #T_2fd23_row0_col9, #T_2fd23_row0_col10, #T_2fd23_row0_col11, #T_2fd23_row0_col12, #T_2fd23_row0_col13, #T_2fd23_row0_col14, #T_2fd23_row0_col15, #T_2fd23_row1_col0, #T_2fd23_row1_col1, #T_2fd23_row1_col2, #T_2fd23_row1_col3, #T_2fd23_row1_col4, #T_2fd23_row1_col5, #T_2fd23_row1_col6, #T_2fd23_row1_col7, #T_2fd23_row1_col8, #T_2fd23_row1_col9, #T_2fd23_row1_col10, #T_2fd23_row1_col11, #T_2fd23_row1_col12, #T_2fd23_row1_col13, #T_2fd23_row1_col14, #T_2fd23_row1_col15, #T_2fd23_row2_col0, #T_2fd23_row2_col1, #T_2fd23_row2_col2, #T_2fd23_row2_col3, #T_2fd23_row2_col4, #T_2fd23_row2_col5, #T_2fd23_row2_col6, #T_2fd23_row2_col7, #T_2fd23_row2_col8, #T_2fd23_row2_col9, #T_2fd23_row2_col10, #T_2fd23_row2_col11, #T_2fd23_row2_col12, #T_2fd23_row2_col13, #T_2fd23_row2_col14, #T_2fd23_row2_col15, #T_2fd23_row3_col0, #T_2fd23_row3_col1, #T_2fd23_row3_col2, #T_2fd23_row3_col3, #T_2fd23_row3_col4, #T_2fd23_row3_col5, #T_2fd23_row3_col6, #T_2fd23_row3_col7, #T_2fd23_row3_col8, #T_2fd23_row3_col9, #T_2fd23_row3_col10, #T_2fd23_row3_col11, #T_2fd23_row3_col12, #T_2fd23_row3_col13, #T_2fd23_row3_col14, #T_2fd23_row3_col15, #T_2fd23_row4_col0, #T_2fd23_row4_col1, #T_2fd23_row4_col2, #T_2fd23_row4_col3, #T_2fd23_row5_col0, #T_2fd23_row5_col1, #T_2fd23_row5_col2, #T_2fd23_row6_col0, #T_2fd23_row6_col1, #T_2fd23_row6_col2, #T_2fd23_row7_col0, #T_2fd23_row7_col1, #T_2fd23_row7_col2, #T_2fd23_row7_col5, #T_2fd23_row7_col6, #T_2fd23_row7_col7, #T_2fd23_row7_col8, #T_2fd23_row7_col9, #T_2fd23_row7_col10, #T_2fd23_row7_col11, #T_2fd23_row8_col0, #T_2fd23_row8_col1, #T_2fd23_row8_col2, #T_2fd23_row8_col3, #T_2fd23_row8_col4, #T_2fd23_row8_col5, #T_2fd23_row8_col6, #T_2fd23_row8_col7, #T_2fd23_row8_col8, #T_2fd23_row8_col9, #T_2fd23_row8_col10, #T_2fd23_row8_col15, #T_2fd23_row9_col0, #T_2fd23_row9_col1, #T_2fd23_row9_col2, #T_2fd23_row9_col3, #T_2fd23_row9_col4, #T_2fd23_row9_col5, #T_2fd23_row9_col6, #T_2fd23_row9_col7, #T_2fd23_row9_col8, #T_2fd23_row9_col9, #T_2fd23_row9_col10, #T_2fd23_row9_col15, #T_2fd23_row10_col0, #T_2fd23_row10_col1, #T_2fd23_row10_col2, #T_2fd23_row10_col3, #T_2fd23_row10_col4, #T_2fd23_row10_col5, #T_2fd23_row10_col6, #T_2fd23_row10_col7, #T_2fd23_row10_col8, #T_2fd23_row10_col9, #T_2fd23_row10_col10, #T_2fd23_row10_col15, #T_2fd23_row11_col0, #T_2fd23_row11_col1, #T_2fd23_row11_col2, #T_2fd23_row11_col3, #T_2fd23_row11_col4, #T_2fd23_row11_col5, #T_2fd23_row11_col6, #T_2fd23_row11_col7, #T_2fd23_row11_col8, #T_2fd23_row11_col9, #T_2fd23_row11_col14, #T_2fd23_row11_col15, #T_2fd23_row12_col0, #T_2fd23_row12_col1, #T_2fd23_row12_col2, #T_2fd23_row12_col3, #T_2fd23_row12_col4, #T_2fd23_row12_col5, #T_2fd23_row12_col6, #T_2fd23_row12_col7, #T_2fd23_row12_col8, #T_2fd23_row12_col9, #T_2fd23_row12_col14, #T_2fd23_row12_col15, #T_2fd23_row13_col0, #T_2fd23_row13_col1, #T_2fd23_row13_col2, #T_2fd23_row13_col3, #T_2fd23_row13_col4, #T_2fd23_row13_col5, #T_2fd23_row13_col6, #T_2fd23_row13_col7, #T_2fd23_row13_col8, #T_2fd23_row13_col13, #T_2fd23_row13_col14, #T_2fd23_row13_col15, #T_2fd23_row14_col0, #T_2fd23_row14_col1, #T_2fd23_row14_col2, #T_2fd23_row14_col3, #T_2fd23_row14_col4, #T_2fd23_row14_col5, #T_2fd23_row14_col6, #T_2fd23_row14_col7, #T_2fd23_row14_col8, #T_2fd23_row14_col13, #T_2fd23_row14_col14, #T_2fd23_row14_col15, #T_2fd23_row15_col0, #T_2fd23_row15_col1, #T_2fd23_row15_col2, #T_2fd23_row15_col3, #T_2fd23_row15_col4, #T_2fd23_row15_col5, #T_2fd23_row15_col6, #T_2fd23_row15_col7, #T_2fd23_row15_col8, #T_2fd23_row15_col12, #T_2fd23_row15_col13, #T_2fd23_row15_col14, #T_2fd23_row15_col15 {\n",
              "  font-size: 6pt;\n",
              "  background-color: #ffffff;\n",
              "  color: #000000;\n",
              "}\n",
              "#T_2fd23_row4_col4 {\n",
              "  font-size: 6pt;\n",
              "  background-color: #f5f5f5;\n",
              "  color: #000000;\n",
              "}\n",
              "#T_2fd23_row4_col5, #T_2fd23_row4_col6, #T_2fd23_row4_col7, #T_2fd23_row4_col8, #T_2fd23_row4_col9 {\n",
              "  font-size: 6pt;\n",
              "  background-color: #929292;\n",
              "  color: #f1f1f1;\n",
              "}\n",
              "#T_2fd23_row4_col10 {\n",
              "  font-size: 6pt;\n",
              "  background-color: #212121;\n",
              "  color: #f1f1f1;\n",
              "}\n",
              "#T_2fd23_row4_col11, #T_2fd23_row4_col12, #T_2fd23_row4_col13, #T_2fd23_row4_col14, #T_2fd23_row4_col15, #T_2fd23_row5_col4, #T_2fd23_row5_col5, #T_2fd23_row5_col6, #T_2fd23_row5_col7, #T_2fd23_row5_col8, #T_2fd23_row5_col9, #T_2fd23_row5_col10, #T_2fd23_row6_col3, #T_2fd23_row14_col10, #T_2fd23_row15_col10 {\n",
              "  font-size: 6pt;\n",
              "  background-color: #000000;\n",
              "  color: #f1f1f1;\n",
              "}\n",
              "#T_2fd23_row5_col3 {\n",
              "  font-size: 6pt;\n",
              "  background-color: #6a6a6a;\n",
              "  color: #f1f1f1;\n",
              "}\n",
              "#T_2fd23_row5_col11, #T_2fd23_row5_col12, #T_2fd23_row5_col13, #T_2fd23_row5_col14, #T_2fd23_row5_col15, #T_2fd23_row6_col4, #T_2fd23_row6_col13, #T_2fd23_row6_col14, #T_2fd23_row7_col13, #T_2fd23_row8_col13, #T_2fd23_row9_col12, #T_2fd23_row9_col13, #T_2fd23_row10_col12, #T_2fd23_row11_col12, #T_2fd23_row12_col11, #T_2fd23_row13_col11 {\n",
              "  font-size: 6pt;\n",
              "  background-color: #020202;\n",
              "  color: #f1f1f1;\n",
              "}\n",
              "#T_2fd23_row6_col5 {\n",
              "  font-size: 6pt;\n",
              "  background-color: #2c2c2c;\n",
              "  color: #f1f1f1;\n",
              "}\n",
              "#T_2fd23_row6_col6, #T_2fd23_row6_col7, #T_2fd23_row6_col8, #T_2fd23_row6_col9, #T_2fd23_row6_col10 {\n",
              "  font-size: 6pt;\n",
              "  background-color: #a9a9a9;\n",
              "  color: #f1f1f1;\n",
              "}\n",
              "#T_2fd23_row6_col11 {\n",
              "  font-size: 6pt;\n",
              "  background-color: #aaaaaa;\n",
              "  color: #f1f1f1;\n",
              "}\n",
              "#T_2fd23_row6_col12 {\n",
              "  font-size: 6pt;\n",
              "  background-color: #777777;\n",
              "  color: #f1f1f1;\n",
              "}\n",
              "#T_2fd23_row6_col15 {\n",
              "  font-size: 6pt;\n",
              "  background-color: #555555;\n",
              "  color: #f1f1f1;\n",
              "}\n",
              "#T_2fd23_row7_col3 {\n",
              "  font-size: 6pt;\n",
              "  background-color: #f6f6f6;\n",
              "  color: #000000;\n",
              "}\n",
              "#T_2fd23_row7_col4 {\n",
              "  font-size: 6pt;\n",
              "  background-color: #7a7a7a;\n",
              "  color: #f1f1f1;\n",
              "}\n",
              "#T_2fd23_row7_col12 {\n",
              "  font-size: 6pt;\n",
              "  background-color: #797979;\n",
              "  color: #f1f1f1;\n",
              "}\n",
              "#T_2fd23_row7_col14 {\n",
              "  font-size: 6pt;\n",
              "  background-color: #484848;\n",
              "  color: #f1f1f1;\n",
              "}\n",
              "#T_2fd23_row7_col15, #T_2fd23_row10_col14 {\n",
              "  font-size: 6pt;\n",
              "  background-color: #f9f9f9;\n",
              "  color: #000000;\n",
              "}\n",
              "#T_2fd23_row8_col11 {\n",
              "  font-size: 6pt;\n",
              "  background-color: #e6e6e6;\n",
              "  color: #000000;\n",
              "}\n",
              "#T_2fd23_row8_col12 {\n",
              "  font-size: 6pt;\n",
              "  background-color: #181818;\n",
              "  color: #f1f1f1;\n",
              "}\n",
              "#T_2fd23_row8_col14, #T_2fd23_row15_col9 {\n",
              "  font-size: 6pt;\n",
              "  background-color: #727272;\n",
              "  color: #f1f1f1;\n",
              "}\n",
              "#T_2fd23_row9_col11 {\n",
              "  font-size: 6pt;\n",
              "  background-color: #bfbfbf;\n",
              "  color: #000000;\n",
              "}\n",
              "#T_2fd23_row9_col14, #T_2fd23_row11_col13 {\n",
              "  font-size: 6pt;\n",
              "  background-color: #c9c9c9;\n",
              "  color: #000000;\n",
              "}\n",
              "#T_2fd23_row10_col11 {\n",
              "  font-size: 6pt;\n",
              "  background-color: #474747;\n",
              "  color: #f1f1f1;\n",
              "}\n",
              "#T_2fd23_row10_col13 {\n",
              "  font-size: 6pt;\n",
              "  background-color: #4b4b4b;\n",
              "  color: #f1f1f1;\n",
              "}\n",
              "#T_2fd23_row11_col10 {\n",
              "  font-size: 6pt;\n",
              "  background-color: #e5e5e5;\n",
              "  color: #000000;\n",
              "}\n",
              "#T_2fd23_row11_col11 {\n",
              "  font-size: 6pt;\n",
              "  background-color: #161616;\n",
              "  color: #f1f1f1;\n",
              "}\n",
              "#T_2fd23_row12_col10 {\n",
              "  font-size: 6pt;\n",
              "  background-color: #bbbbbb;\n",
              "  color: #000000;\n",
              "}\n",
              "#T_2fd23_row12_col12 {\n",
              "  font-size: 6pt;\n",
              "  background-color: #171717;\n",
              "  color: #f1f1f1;\n",
              "}\n",
              "#T_2fd23_row12_col13 {\n",
              "  font-size: 6pt;\n",
              "  background-color: #efefef;\n",
              "  color: #000000;\n",
              "}\n",
              "#T_2fd23_row13_col9 {\n",
              "  font-size: 6pt;\n",
              "  background-color: #f7f7f7;\n",
              "  color: #000000;\n",
              "}\n",
              "#T_2fd23_row13_col10 {\n",
              "  font-size: 6pt;\n",
              "  background-color: #393939;\n",
              "  color: #f1f1f1;\n",
              "}\n",
              "#T_2fd23_row13_col12 {\n",
              "  font-size: 6pt;\n",
              "  background-color: #868686;\n",
              "  color: #f1f1f1;\n",
              "}\n",
              "#T_2fd23_row14_col9 {\n",
              "  font-size: 6pt;\n",
              "  background-color: #dadada;\n",
              "  color: #000000;\n",
              "}\n",
              "#T_2fd23_row14_col11 {\n",
              "  font-size: 6pt;\n",
              "  background-color: #1a1a1a;\n",
              "  color: #f1f1f1;\n",
              "}\n",
              "#T_2fd23_row14_col12 {\n",
              "  font-size: 6pt;\n",
              "  background-color: #ededed;\n",
              "  color: #000000;\n",
              "}\n",
              "#T_2fd23_row15_col11 {\n",
              "  font-size: 6pt;\n",
              "  background-color: #5f5f5f;\n",
              "  color: #f1f1f1;\n",
              "}\n",
              "</style>\n",
              "<table id=\"T_2fd23\" class=\"dataframe\">\n",
              "  <thead>\n",
              "    <tr>\n",
              "      <th class=\"blank level0\" >&nbsp;</th>\n",
              "      <th id=\"T_2fd23_level0_col0\" class=\"col_heading level0 col0\" >0</th>\n",
              "      <th id=\"T_2fd23_level0_col1\" class=\"col_heading level0 col1\" >1</th>\n",
              "      <th id=\"T_2fd23_level0_col2\" class=\"col_heading level0 col2\" >2</th>\n",
              "      <th id=\"T_2fd23_level0_col3\" class=\"col_heading level0 col3\" >3</th>\n",
              "      <th id=\"T_2fd23_level0_col4\" class=\"col_heading level0 col4\" >4</th>\n",
              "      <th id=\"T_2fd23_level0_col5\" class=\"col_heading level0 col5\" >5</th>\n",
              "      <th id=\"T_2fd23_level0_col6\" class=\"col_heading level0 col6\" >6</th>\n",
              "      <th id=\"T_2fd23_level0_col7\" class=\"col_heading level0 col7\" >7</th>\n",
              "      <th id=\"T_2fd23_level0_col8\" class=\"col_heading level0 col8\" >8</th>\n",
              "      <th id=\"T_2fd23_level0_col9\" class=\"col_heading level0 col9\" >9</th>\n",
              "      <th id=\"T_2fd23_level0_col10\" class=\"col_heading level0 col10\" >10</th>\n",
              "      <th id=\"T_2fd23_level0_col11\" class=\"col_heading level0 col11\" >11</th>\n",
              "      <th id=\"T_2fd23_level0_col12\" class=\"col_heading level0 col12\" >12</th>\n",
              "      <th id=\"T_2fd23_level0_col13\" class=\"col_heading level0 col13\" >13</th>\n",
              "      <th id=\"T_2fd23_level0_col14\" class=\"col_heading level0 col14\" >14</th>\n",
              "      <th id=\"T_2fd23_level0_col15\" class=\"col_heading level0 col15\" >15</th>\n",
              "    </tr>\n",
              "  </thead>\n",
              "  <tbody>\n",
              "    <tr>\n",
              "      <th id=\"T_2fd23_level0_row0\" class=\"row_heading level0 row0\" >0</th>\n",
              "      <td id=\"T_2fd23_row0_col0\" class=\"data row0 col0\" >0</td>\n",
              "      <td id=\"T_2fd23_row0_col1\" class=\"data row0 col1\" >0</td>\n",
              "      <td id=\"T_2fd23_row0_col2\" class=\"data row0 col2\" >0</td>\n",
              "      <td id=\"T_2fd23_row0_col3\" class=\"data row0 col3\" >0</td>\n",
              "      <td id=\"T_2fd23_row0_col4\" class=\"data row0 col4\" >0</td>\n",
              "      <td id=\"T_2fd23_row0_col5\" class=\"data row0 col5\" >0</td>\n",
              "      <td id=\"T_2fd23_row0_col6\" class=\"data row0 col6\" >0</td>\n",
              "      <td id=\"T_2fd23_row0_col7\" class=\"data row0 col7\" >0</td>\n",
              "      <td id=\"T_2fd23_row0_col8\" class=\"data row0 col8\" >0</td>\n",
              "      <td id=\"T_2fd23_row0_col9\" class=\"data row0 col9\" >0</td>\n",
              "      <td id=\"T_2fd23_row0_col10\" class=\"data row0 col10\" >0</td>\n",
              "      <td id=\"T_2fd23_row0_col11\" class=\"data row0 col11\" >0</td>\n",
              "      <td id=\"T_2fd23_row0_col12\" class=\"data row0 col12\" >0</td>\n",
              "      <td id=\"T_2fd23_row0_col13\" class=\"data row0 col13\" >0</td>\n",
              "      <td id=\"T_2fd23_row0_col14\" class=\"data row0 col14\" >0</td>\n",
              "      <td id=\"T_2fd23_row0_col15\" class=\"data row0 col15\" >0</td>\n",
              "    </tr>\n",
              "    <tr>\n",
              "      <th id=\"T_2fd23_level0_row1\" class=\"row_heading level0 row1\" >1</th>\n",
              "      <td id=\"T_2fd23_row1_col0\" class=\"data row1 col0\" >0</td>\n",
              "      <td id=\"T_2fd23_row1_col1\" class=\"data row1 col1\" >0</td>\n",
              "      <td id=\"T_2fd23_row1_col2\" class=\"data row1 col2\" >0</td>\n",
              "      <td id=\"T_2fd23_row1_col3\" class=\"data row1 col3\" >0</td>\n",
              "      <td id=\"T_2fd23_row1_col4\" class=\"data row1 col4\" >0</td>\n",
              "      <td id=\"T_2fd23_row1_col5\" class=\"data row1 col5\" >0</td>\n",
              "      <td id=\"T_2fd23_row1_col6\" class=\"data row1 col6\" >0</td>\n",
              "      <td id=\"T_2fd23_row1_col7\" class=\"data row1 col7\" >0</td>\n",
              "      <td id=\"T_2fd23_row1_col8\" class=\"data row1 col8\" >0</td>\n",
              "      <td id=\"T_2fd23_row1_col9\" class=\"data row1 col9\" >0</td>\n",
              "      <td id=\"T_2fd23_row1_col10\" class=\"data row1 col10\" >0</td>\n",
              "      <td id=\"T_2fd23_row1_col11\" class=\"data row1 col11\" >0</td>\n",
              "      <td id=\"T_2fd23_row1_col12\" class=\"data row1 col12\" >0</td>\n",
              "      <td id=\"T_2fd23_row1_col13\" class=\"data row1 col13\" >0</td>\n",
              "      <td id=\"T_2fd23_row1_col14\" class=\"data row1 col14\" >0</td>\n",
              "      <td id=\"T_2fd23_row1_col15\" class=\"data row1 col15\" >0</td>\n",
              "    </tr>\n",
              "    <tr>\n",
              "      <th id=\"T_2fd23_level0_row2\" class=\"row_heading level0 row2\" >2</th>\n",
              "      <td id=\"T_2fd23_row2_col0\" class=\"data row2 col0\" >0</td>\n",
              "      <td id=\"T_2fd23_row2_col1\" class=\"data row2 col1\" >0</td>\n",
              "      <td id=\"T_2fd23_row2_col2\" class=\"data row2 col2\" >0</td>\n",
              "      <td id=\"T_2fd23_row2_col3\" class=\"data row2 col3\" >0</td>\n",
              "      <td id=\"T_2fd23_row2_col4\" class=\"data row2 col4\" >0</td>\n",
              "      <td id=\"T_2fd23_row2_col5\" class=\"data row2 col5\" >0</td>\n",
              "      <td id=\"T_2fd23_row2_col6\" class=\"data row2 col6\" >0</td>\n",
              "      <td id=\"T_2fd23_row2_col7\" class=\"data row2 col7\" >0</td>\n",
              "      <td id=\"T_2fd23_row2_col8\" class=\"data row2 col8\" >0</td>\n",
              "      <td id=\"T_2fd23_row2_col9\" class=\"data row2 col9\" >0</td>\n",
              "      <td id=\"T_2fd23_row2_col10\" class=\"data row2 col10\" >0</td>\n",
              "      <td id=\"T_2fd23_row2_col11\" class=\"data row2 col11\" >0</td>\n",
              "      <td id=\"T_2fd23_row2_col12\" class=\"data row2 col12\" >0</td>\n",
              "      <td id=\"T_2fd23_row2_col13\" class=\"data row2 col13\" >0</td>\n",
              "      <td id=\"T_2fd23_row2_col14\" class=\"data row2 col14\" >0</td>\n",
              "      <td id=\"T_2fd23_row2_col15\" class=\"data row2 col15\" >0</td>\n",
              "    </tr>\n",
              "    <tr>\n",
              "      <th id=\"T_2fd23_level0_row3\" class=\"row_heading level0 row3\" >3</th>\n",
              "      <td id=\"T_2fd23_row3_col0\" class=\"data row3 col0\" >0</td>\n",
              "      <td id=\"T_2fd23_row3_col1\" class=\"data row3 col1\" >0</td>\n",
              "      <td id=\"T_2fd23_row3_col2\" class=\"data row3 col2\" >0</td>\n",
              "      <td id=\"T_2fd23_row3_col3\" class=\"data row3 col3\" >0</td>\n",
              "      <td id=\"T_2fd23_row3_col4\" class=\"data row3 col4\" >0</td>\n",
              "      <td id=\"T_2fd23_row3_col5\" class=\"data row3 col5\" >0</td>\n",
              "      <td id=\"T_2fd23_row3_col6\" class=\"data row3 col6\" >0</td>\n",
              "      <td id=\"T_2fd23_row3_col7\" class=\"data row3 col7\" >0</td>\n",
              "      <td id=\"T_2fd23_row3_col8\" class=\"data row3 col8\" >0</td>\n",
              "      <td id=\"T_2fd23_row3_col9\" class=\"data row3 col9\" >0</td>\n",
              "      <td id=\"T_2fd23_row3_col10\" class=\"data row3 col10\" >0</td>\n",
              "      <td id=\"T_2fd23_row3_col11\" class=\"data row3 col11\" >0</td>\n",
              "      <td id=\"T_2fd23_row3_col12\" class=\"data row3 col12\" >0</td>\n",
              "      <td id=\"T_2fd23_row3_col13\" class=\"data row3 col13\" >0</td>\n",
              "      <td id=\"T_2fd23_row3_col14\" class=\"data row3 col14\" >0</td>\n",
              "      <td id=\"T_2fd23_row3_col15\" class=\"data row3 col15\" >0</td>\n",
              "    </tr>\n",
              "    <tr>\n",
              "      <th id=\"T_2fd23_level0_row4\" class=\"row_heading level0 row4\" >4</th>\n",
              "      <td id=\"T_2fd23_row4_col0\" class=\"data row4 col0\" >0</td>\n",
              "      <td id=\"T_2fd23_row4_col1\" class=\"data row4 col1\" >0</td>\n",
              "      <td id=\"T_2fd23_row4_col2\" class=\"data row4 col2\" >0</td>\n",
              "      <td id=\"T_2fd23_row4_col3\" class=\"data row4 col3\" >1</td>\n",
              "      <td id=\"T_2fd23_row4_col4\" class=\"data row4 col4\" >22</td>\n",
              "      <td id=\"T_2fd23_row4_col5\" class=\"data row4 col5\" >130</td>\n",
              "      <td id=\"T_2fd23_row4_col6\" class=\"data row4 col6\" >130</td>\n",
              "      <td id=\"T_2fd23_row4_col7\" class=\"data row4 col7\" >130</td>\n",
              "      <td id=\"T_2fd23_row4_col8\" class=\"data row4 col8\" >130</td>\n",
              "      <td id=\"T_2fd23_row4_col9\" class=\"data row4 col9\" >130</td>\n",
              "      <td id=\"T_2fd23_row4_col10\" class=\"data row4 col10\" >225</td>\n",
              "      <td id=\"T_2fd23_row4_col11\" class=\"data row4 col11\" >255</td>\n",
              "      <td id=\"T_2fd23_row4_col12\" class=\"data row4 col12\" >255</td>\n",
              "      <td id=\"T_2fd23_row4_col13\" class=\"data row4 col13\" >255</td>\n",
              "      <td id=\"T_2fd23_row4_col14\" class=\"data row4 col14\" >255</td>\n",
              "      <td id=\"T_2fd23_row4_col15\" class=\"data row4 col15\" >255</td>\n",
              "    </tr>\n",
              "    <tr>\n",
              "      <th id=\"T_2fd23_level0_row5\" class=\"row_heading level0 row5\" >5</th>\n",
              "      <td id=\"T_2fd23_row5_col0\" class=\"data row5 col0\" >0</td>\n",
              "      <td id=\"T_2fd23_row5_col1\" class=\"data row5 col1\" >0</td>\n",
              "      <td id=\"T_2fd23_row5_col2\" class=\"data row5 col2\" >0</td>\n",
              "      <td id=\"T_2fd23_row5_col3\" class=\"data row5 col3\" >92</td>\n",
              "      <td id=\"T_2fd23_row5_col4\" class=\"data row5 col4\" >253</td>\n",
              "      <td id=\"T_2fd23_row5_col5\" class=\"data row5 col5\" >253</td>\n",
              "      <td id=\"T_2fd23_row5_col6\" class=\"data row5 col6\" >253</td>\n",
              "      <td id=\"T_2fd23_row5_col7\" class=\"data row5 col7\" >253</td>\n",
              "      <td id=\"T_2fd23_row5_col8\" class=\"data row5 col8\" >253</td>\n",
              "      <td id=\"T_2fd23_row5_col9\" class=\"data row5 col9\" >253</td>\n",
              "      <td id=\"T_2fd23_row5_col10\" class=\"data row5 col10\" >253</td>\n",
              "      <td id=\"T_2fd23_row5_col11\" class=\"data row5 col11\" >253</td>\n",
              "      <td id=\"T_2fd23_row5_col12\" class=\"data row5 col12\" >253</td>\n",
              "      <td id=\"T_2fd23_row5_col13\" class=\"data row5 col13\" >253</td>\n",
              "      <td id=\"T_2fd23_row5_col14\" class=\"data row5 col14\" >253</td>\n",
              "      <td id=\"T_2fd23_row5_col15\" class=\"data row5 col15\" >253</td>\n",
              "    </tr>\n",
              "    <tr>\n",
              "      <th id=\"T_2fd23_level0_row6\" class=\"row_heading level0 row6\" >6</th>\n",
              "      <td id=\"T_2fd23_row6_col0\" class=\"data row6 col0\" >0</td>\n",
              "      <td id=\"T_2fd23_row6_col1\" class=\"data row6 col1\" >0</td>\n",
              "      <td id=\"T_2fd23_row6_col2\" class=\"data row6 col2\" >0</td>\n",
              "      <td id=\"T_2fd23_row6_col3\" class=\"data row6 col3\" >140</td>\n",
              "      <td id=\"T_2fd23_row6_col4\" class=\"data row6 col4\" >251</td>\n",
              "      <td id=\"T_2fd23_row6_col5\" class=\"data row6 col5\" >216</td>\n",
              "      <td id=\"T_2fd23_row6_col6\" class=\"data row6 col6\" >111</td>\n",
              "      <td id=\"T_2fd23_row6_col7\" class=\"data row6 col7\" >111</td>\n",
              "      <td id=\"T_2fd23_row6_col8\" class=\"data row6 col8\" >111</td>\n",
              "      <td id=\"T_2fd23_row6_col9\" class=\"data row6 col9\" >111</td>\n",
              "      <td id=\"T_2fd23_row6_col10\" class=\"data row6 col10\" >111</td>\n",
              "      <td id=\"T_2fd23_row6_col11\" class=\"data row6 col11\" >111</td>\n",
              "      <td id=\"T_2fd23_row6_col12\" class=\"data row6 col12\" >156</td>\n",
              "      <td id=\"T_2fd23_row6_col13\" class=\"data row6 col13\" >253</td>\n",
              "      <td id=\"T_2fd23_row6_col14\" class=\"data row6 col14\" >253</td>\n",
              "      <td id=\"T_2fd23_row6_col15\" class=\"data row6 col15\" >188</td>\n",
              "    </tr>\n",
              "    <tr>\n",
              "      <th id=\"T_2fd23_level0_row7\" class=\"row_heading level0 row7\" >7</th>\n",
              "      <td id=\"T_2fd23_row7_col0\" class=\"data row7 col0\" >0</td>\n",
              "      <td id=\"T_2fd23_row7_col1\" class=\"data row7 col1\" >0</td>\n",
              "      <td id=\"T_2fd23_row7_col2\" class=\"data row7 col2\" >0</td>\n",
              "      <td id=\"T_2fd23_row7_col3\" class=\"data row7 col3\" >11</td>\n",
              "      <td id=\"T_2fd23_row7_col4\" class=\"data row7 col4\" >152</td>\n",
              "      <td id=\"T_2fd23_row7_col5\" class=\"data row7 col5\" >0</td>\n",
              "      <td id=\"T_2fd23_row7_col6\" class=\"data row7 col6\" >0</td>\n",
              "      <td id=\"T_2fd23_row7_col7\" class=\"data row7 col7\" >0</td>\n",
              "      <td id=\"T_2fd23_row7_col8\" class=\"data row7 col8\" >0</td>\n",
              "      <td id=\"T_2fd23_row7_col9\" class=\"data row7 col9\" >0</td>\n",
              "      <td id=\"T_2fd23_row7_col10\" class=\"data row7 col10\" >0</td>\n",
              "      <td id=\"T_2fd23_row7_col11\" class=\"data row7 col11\" >0</td>\n",
              "      <td id=\"T_2fd23_row7_col12\" class=\"data row7 col12\" >154</td>\n",
              "      <td id=\"T_2fd23_row7_col13\" class=\"data row7 col13\" >253</td>\n",
              "      <td id=\"T_2fd23_row7_col14\" class=\"data row7 col14\" >198</td>\n",
              "      <td id=\"T_2fd23_row7_col15\" class=\"data row7 col15\" >13</td>\n",
              "    </tr>\n",
              "    <tr>\n",
              "      <th id=\"T_2fd23_level0_row8\" class=\"row_heading level0 row8\" >8</th>\n",
              "      <td id=\"T_2fd23_row8_col0\" class=\"data row8 col0\" >0</td>\n",
              "      <td id=\"T_2fd23_row8_col1\" class=\"data row8 col1\" >0</td>\n",
              "      <td id=\"T_2fd23_row8_col2\" class=\"data row8 col2\" >0</td>\n",
              "      <td id=\"T_2fd23_row8_col3\" class=\"data row8 col3\" >0</td>\n",
              "      <td id=\"T_2fd23_row8_col4\" class=\"data row8 col4\" >0</td>\n",
              "      <td id=\"T_2fd23_row8_col5\" class=\"data row8 col5\" >0</td>\n",
              "      <td id=\"T_2fd23_row8_col6\" class=\"data row8 col6\" >0</td>\n",
              "      <td id=\"T_2fd23_row8_col7\" class=\"data row8 col7\" >0</td>\n",
              "      <td id=\"T_2fd23_row8_col8\" class=\"data row8 col8\" >0</td>\n",
              "      <td id=\"T_2fd23_row8_col9\" class=\"data row8 col9\" >0</td>\n",
              "      <td id=\"T_2fd23_row8_col10\" class=\"data row8 col10\" >0</td>\n",
              "      <td id=\"T_2fd23_row8_col11\" class=\"data row8 col11\" >46</td>\n",
              "      <td id=\"T_2fd23_row8_col12\" class=\"data row8 col12\" >234</td>\n",
              "      <td id=\"T_2fd23_row8_col13\" class=\"data row8 col13\" >253</td>\n",
              "      <td id=\"T_2fd23_row8_col14\" class=\"data row8 col14\" >160</td>\n",
              "      <td id=\"T_2fd23_row8_col15\" class=\"data row8 col15\" >0</td>\n",
              "    </tr>\n",
              "    <tr>\n",
              "      <th id=\"T_2fd23_level0_row9\" class=\"row_heading level0 row9\" >9</th>\n",
              "      <td id=\"T_2fd23_row9_col0\" class=\"data row9 col0\" >0</td>\n",
              "      <td id=\"T_2fd23_row9_col1\" class=\"data row9 col1\" >0</td>\n",
              "      <td id=\"T_2fd23_row9_col2\" class=\"data row9 col2\" >0</td>\n",
              "      <td id=\"T_2fd23_row9_col3\" class=\"data row9 col3\" >0</td>\n",
              "      <td id=\"T_2fd23_row9_col4\" class=\"data row9 col4\" >0</td>\n",
              "      <td id=\"T_2fd23_row9_col5\" class=\"data row9 col5\" >0</td>\n",
              "      <td id=\"T_2fd23_row9_col6\" class=\"data row9 col6\" >0</td>\n",
              "      <td id=\"T_2fd23_row9_col7\" class=\"data row9 col7\" >0</td>\n",
              "      <td id=\"T_2fd23_row9_col8\" class=\"data row9 col8\" >0</td>\n",
              "      <td id=\"T_2fd23_row9_col9\" class=\"data row9 col9\" >0</td>\n",
              "      <td id=\"T_2fd23_row9_col10\" class=\"data row9 col10\" >0</td>\n",
              "      <td id=\"T_2fd23_row9_col11\" class=\"data row9 col11\" >93</td>\n",
              "      <td id=\"T_2fd23_row9_col12\" class=\"data row9 col12\" >253</td>\n",
              "      <td id=\"T_2fd23_row9_col13\" class=\"data row9 col13\" >253</td>\n",
              "      <td id=\"T_2fd23_row9_col14\" class=\"data row9 col14\" >82</td>\n",
              "      <td id=\"T_2fd23_row9_col15\" class=\"data row9 col15\" >0</td>\n",
              "    </tr>\n",
              "    <tr>\n",
              "      <th id=\"T_2fd23_level0_row10\" class=\"row_heading level0 row10\" >10</th>\n",
              "      <td id=\"T_2fd23_row10_col0\" class=\"data row10 col0\" >0</td>\n",
              "      <td id=\"T_2fd23_row10_col1\" class=\"data row10 col1\" >0</td>\n",
              "      <td id=\"T_2fd23_row10_col2\" class=\"data row10 col2\" >0</td>\n",
              "      <td id=\"T_2fd23_row10_col3\" class=\"data row10 col3\" >0</td>\n",
              "      <td id=\"T_2fd23_row10_col4\" class=\"data row10 col4\" >0</td>\n",
              "      <td id=\"T_2fd23_row10_col5\" class=\"data row10 col5\" >0</td>\n",
              "      <td id=\"T_2fd23_row10_col6\" class=\"data row10 col6\" >0</td>\n",
              "      <td id=\"T_2fd23_row10_col7\" class=\"data row10 col7\" >0</td>\n",
              "      <td id=\"T_2fd23_row10_col8\" class=\"data row10 col8\" >0</td>\n",
              "      <td id=\"T_2fd23_row10_col9\" class=\"data row10 col9\" >0</td>\n",
              "      <td id=\"T_2fd23_row10_col10\" class=\"data row10 col10\" >0</td>\n",
              "      <td id=\"T_2fd23_row10_col11\" class=\"data row10 col11\" >199</td>\n",
              "      <td id=\"T_2fd23_row10_col12\" class=\"data row10 col12\" >253</td>\n",
              "      <td id=\"T_2fd23_row10_col13\" class=\"data row10 col13\" >196</td>\n",
              "      <td id=\"T_2fd23_row10_col14\" class=\"data row10 col14\" >13</td>\n",
              "      <td id=\"T_2fd23_row10_col15\" class=\"data row10 col15\" >0</td>\n",
              "    </tr>\n",
              "    <tr>\n",
              "      <th id=\"T_2fd23_level0_row11\" class=\"row_heading level0 row11\" >11</th>\n",
              "      <td id=\"T_2fd23_row11_col0\" class=\"data row11 col0\" >0</td>\n",
              "      <td id=\"T_2fd23_row11_col1\" class=\"data row11 col1\" >0</td>\n",
              "      <td id=\"T_2fd23_row11_col2\" class=\"data row11 col2\" >0</td>\n",
              "      <td id=\"T_2fd23_row11_col3\" class=\"data row11 col3\" >0</td>\n",
              "      <td id=\"T_2fd23_row11_col4\" class=\"data row11 col4\" >0</td>\n",
              "      <td id=\"T_2fd23_row11_col5\" class=\"data row11 col5\" >0</td>\n",
              "      <td id=\"T_2fd23_row11_col6\" class=\"data row11 col6\" >0</td>\n",
              "      <td id=\"T_2fd23_row11_col7\" class=\"data row11 col7\" >0</td>\n",
              "      <td id=\"T_2fd23_row11_col8\" class=\"data row11 col8\" >0</td>\n",
              "      <td id=\"T_2fd23_row11_col9\" class=\"data row11 col9\" >0</td>\n",
              "      <td id=\"T_2fd23_row11_col10\" class=\"data row11 col10\" >47</td>\n",
              "      <td id=\"T_2fd23_row11_col11\" class=\"data row11 col11\" >236</td>\n",
              "      <td id=\"T_2fd23_row11_col12\" class=\"data row11 col12\" >253</td>\n",
              "      <td id=\"T_2fd23_row11_col13\" class=\"data row11 col13\" >82</td>\n",
              "      <td id=\"T_2fd23_row11_col14\" class=\"data row11 col14\" >0</td>\n",
              "      <td id=\"T_2fd23_row11_col15\" class=\"data row11 col15\" >0</td>\n",
              "    </tr>\n",
              "    <tr>\n",
              "      <th id=\"T_2fd23_level0_row12\" class=\"row_heading level0 row12\" >12</th>\n",
              "      <td id=\"T_2fd23_row12_col0\" class=\"data row12 col0\" >0</td>\n",
              "      <td id=\"T_2fd23_row12_col1\" class=\"data row12 col1\" >0</td>\n",
              "      <td id=\"T_2fd23_row12_col2\" class=\"data row12 col2\" >0</td>\n",
              "      <td id=\"T_2fd23_row12_col3\" class=\"data row12 col3\" >0</td>\n",
              "      <td id=\"T_2fd23_row12_col4\" class=\"data row12 col4\" >0</td>\n",
              "      <td id=\"T_2fd23_row12_col5\" class=\"data row12 col5\" >0</td>\n",
              "      <td id=\"T_2fd23_row12_col6\" class=\"data row12 col6\" >0</td>\n",
              "      <td id=\"T_2fd23_row12_col7\" class=\"data row12 col7\" >0</td>\n",
              "      <td id=\"T_2fd23_row12_col8\" class=\"data row12 col8\" >0</td>\n",
              "      <td id=\"T_2fd23_row12_col9\" class=\"data row12 col9\" >0</td>\n",
              "      <td id=\"T_2fd23_row12_col10\" class=\"data row12 col10\" >96</td>\n",
              "      <td id=\"T_2fd23_row12_col11\" class=\"data row12 col11\" >253</td>\n",
              "      <td id=\"T_2fd23_row12_col12\" class=\"data row12 col12\" >235</td>\n",
              "      <td id=\"T_2fd23_row12_col13\" class=\"data row12 col13\" >33</td>\n",
              "      <td id=\"T_2fd23_row12_col14\" class=\"data row12 col14\" >0</td>\n",
              "      <td id=\"T_2fd23_row12_col15\" class=\"data row12 col15\" >0</td>\n",
              "    </tr>\n",
              "    <tr>\n",
              "      <th id=\"T_2fd23_level0_row13\" class=\"row_heading level0 row13\" >13</th>\n",
              "      <td id=\"T_2fd23_row13_col0\" class=\"data row13 col0\" >0</td>\n",
              "      <td id=\"T_2fd23_row13_col1\" class=\"data row13 col1\" >0</td>\n",
              "      <td id=\"T_2fd23_row13_col2\" class=\"data row13 col2\" >0</td>\n",
              "      <td id=\"T_2fd23_row13_col3\" class=\"data row13 col3\" >0</td>\n",
              "      <td id=\"T_2fd23_row13_col4\" class=\"data row13 col4\" >0</td>\n",
              "      <td id=\"T_2fd23_row13_col5\" class=\"data row13 col5\" >0</td>\n",
              "      <td id=\"T_2fd23_row13_col6\" class=\"data row13 col6\" >0</td>\n",
              "      <td id=\"T_2fd23_row13_col7\" class=\"data row13 col7\" >0</td>\n",
              "      <td id=\"T_2fd23_row13_col8\" class=\"data row13 col8\" >0</td>\n",
              "      <td id=\"T_2fd23_row13_col9\" class=\"data row13 col9\" >16</td>\n",
              "      <td id=\"T_2fd23_row13_col10\" class=\"data row13 col10\" >207</td>\n",
              "      <td id=\"T_2fd23_row13_col11\" class=\"data row13 col11\" >253</td>\n",
              "      <td id=\"T_2fd23_row13_col12\" class=\"data row13 col12\" >142</td>\n",
              "      <td id=\"T_2fd23_row13_col13\" class=\"data row13 col13\" >0</td>\n",
              "      <td id=\"T_2fd23_row13_col14\" class=\"data row13 col14\" >0</td>\n",
              "      <td id=\"T_2fd23_row13_col15\" class=\"data row13 col15\" >0</td>\n",
              "    </tr>\n",
              "    <tr>\n",
              "      <th id=\"T_2fd23_level0_row14\" class=\"row_heading level0 row14\" >14</th>\n",
              "      <td id=\"T_2fd23_row14_col0\" class=\"data row14 col0\" >0</td>\n",
              "      <td id=\"T_2fd23_row14_col1\" class=\"data row14 col1\" >0</td>\n",
              "      <td id=\"T_2fd23_row14_col2\" class=\"data row14 col2\" >0</td>\n",
              "      <td id=\"T_2fd23_row14_col3\" class=\"data row14 col3\" >0</td>\n",
              "      <td id=\"T_2fd23_row14_col4\" class=\"data row14 col4\" >0</td>\n",
              "      <td id=\"T_2fd23_row14_col5\" class=\"data row14 col5\" >0</td>\n",
              "      <td id=\"T_2fd23_row14_col6\" class=\"data row14 col6\" >0</td>\n",
              "      <td id=\"T_2fd23_row14_col7\" class=\"data row14 col7\" >0</td>\n",
              "      <td id=\"T_2fd23_row14_col8\" class=\"data row14 col8\" >0</td>\n",
              "      <td id=\"T_2fd23_row14_col9\" class=\"data row14 col9\" >63</td>\n",
              "      <td id=\"T_2fd23_row14_col10\" class=\"data row14 col10\" >253</td>\n",
              "      <td id=\"T_2fd23_row14_col11\" class=\"data row14 col11\" >233</td>\n",
              "      <td id=\"T_2fd23_row14_col12\" class=\"data row14 col12\" >36</td>\n",
              "      <td id=\"T_2fd23_row14_col13\" class=\"data row14 col13\" >0</td>\n",
              "      <td id=\"T_2fd23_row14_col14\" class=\"data row14 col14\" >0</td>\n",
              "      <td id=\"T_2fd23_row14_col15\" class=\"data row14 col15\" >0</td>\n",
              "    </tr>\n",
              "    <tr>\n",
              "      <th id=\"T_2fd23_level0_row15\" class=\"row_heading level0 row15\" >15</th>\n",
              "      <td id=\"T_2fd23_row15_col0\" class=\"data row15 col0\" >0</td>\n",
              "      <td id=\"T_2fd23_row15_col1\" class=\"data row15 col1\" >0</td>\n",
              "      <td id=\"T_2fd23_row15_col2\" class=\"data row15 col2\" >0</td>\n",
              "      <td id=\"T_2fd23_row15_col3\" class=\"data row15 col3\" >0</td>\n",
              "      <td id=\"T_2fd23_row15_col4\" class=\"data row15 col4\" >0</td>\n",
              "      <td id=\"T_2fd23_row15_col5\" class=\"data row15 col5\" >0</td>\n",
              "      <td id=\"T_2fd23_row15_col6\" class=\"data row15 col6\" >0</td>\n",
              "      <td id=\"T_2fd23_row15_col7\" class=\"data row15 col7\" >0</td>\n",
              "      <td id=\"T_2fd23_row15_col8\" class=\"data row15 col8\" >0</td>\n",
              "      <td id=\"T_2fd23_row15_col9\" class=\"data row15 col9\" >159</td>\n",
              "      <td id=\"T_2fd23_row15_col10\" class=\"data row15 col10\" >253</td>\n",
              "      <td id=\"T_2fd23_row15_col11\" class=\"data row15 col11\" >179</td>\n",
              "      <td id=\"T_2fd23_row15_col12\" class=\"data row15 col12\" >0</td>\n",
              "      <td id=\"T_2fd23_row15_col13\" class=\"data row15 col13\" >0</td>\n",
              "      <td id=\"T_2fd23_row15_col14\" class=\"data row15 col14\" >0</td>\n",
              "      <td id=\"T_2fd23_row15_col15\" class=\"data row15 col15\" >0</td>\n",
              "    </tr>\n",
              "  </tbody>\n",
              "</table>\n"
            ]
          },
          "metadata": {},
          "execution_count": 26
        }
      ]
    },
    {
      "cell_type": "markdown",
      "metadata": {
        "id": "p0RuTG2_L1cB"
      },
      "source": [
        "## First Try: Pixel Similarity"
      ]
    },
    {
      "cell_type": "code",
      "execution_count": 27,
      "metadata": {
        "colab": {
          "base_uri": "https://localhost:8080/"
        },
        "id": "kM9DFQf4L1cB",
        "outputId": "c921c1f0-124d-4175-ad77-a11432614406"
      },
      "outputs": [
        {
          "output_type": "execute_result",
          "data": {
            "text/plain": [
              "(6131, 6265)"
            ]
          },
          "metadata": {},
          "execution_count": 27
        }
      ],
      "source": [
        "seven_tensors = [tensor(Image.open(o)) for o in sevens]\n",
        "three_tensors = [tensor(Image.open(o)) for o in threes]\n",
        "len(three_tensors),len(seven_tensors)"
      ]
    },
    {
      "cell_type": "code",
      "execution_count": 28,
      "metadata": {
        "colab": {
          "base_uri": "https://localhost:8080/",
          "height": 114
        },
        "id": "ws7_Iy0pL1cB",
        "outputId": "209a075c-f722-4e06-a52f-a036b21d8209"
      },
      "outputs": [
        {
          "output_type": "display_data",
          "data": {
            "text/plain": [
              "<Figure size 100x100 with 1 Axes>"
            ],
            "image/png": "[encoded data removed]"
          },
          "metadata": {}
        }
      ],
      "source": [
        "show_image(three_tensors[1]);"
      ]
    },
    {
      "cell_type": "code",
      "execution_count": 29,
      "metadata": {
        "colab": {
          "base_uri": "https://localhost:8080/"
        },
        "id": "RUOunfOLL1cB",
        "outputId": "4d1def48-731d-42ad-e932-ca1b7d76d6cd"
      },
      "outputs": [
        {
          "output_type": "execute_result",
          "data": {
            "text/plain": [
              "torch.Size([6131, 28, 28])"
            ]
          },
          "metadata": {},
          "execution_count": 29
        }
      ],
      "source": [
        "stacked_sevens = torch.stack(seven_tensors).float()/255\n",
        "stacked_threes = torch.stack(three_tensors).float()/255\n",
        "stacked_threes.shape"
      ]
    },
    {
      "cell_type": "code",
      "execution_count": 33,
      "metadata": {
        "colab": {
          "base_uri": "https://localhost:8080/"
        },
        "id": "wtpN6CYDL1cB",
        "outputId": "e8070d8b-14a3-40eb-905d-4b3d18ba7641"
      },
      "outputs": [
        {
          "output_type": "execute_result",
          "data": {
            "text/plain": [
              "3"
            ]
          },
          "metadata": {},
          "execution_count": 33
        }
      ],
      "source": [
        "len(stacked_threes.shape)"
      ]
    },
    {
      "cell_type": "code",
      "execution_count": 34,
      "metadata": {
        "colab": {
          "base_uri": "https://localhost:8080/"
        },
        "id": "73JRFx9PL1cB",
        "outputId": "5a9c61d4-cf97-4921-aeef-0def071f2bc1"
      },
      "outputs": [
        {
          "output_type": "execute_result",
          "data": {
            "text/plain": [
              "3"
            ]
          },
          "metadata": {},
          "execution_count": 34
        }
      ],
      "source": [
        "stacked_threes.ndim"
      ]
    },
    {
      "cell_type": "code",
      "execution_count": 35,
      "metadata": {
        "colab": {
          "base_uri": "https://localhost:8080/",
          "height": 114
        },
        "id": "SKn2UgOVL1cB",
        "outputId": "b0b4cf1a-d222-4eec-fc75-f818533e6c68"
      },
      "outputs": [
        {
          "output_type": "display_data",
          "data": {
            "text/plain": [
              "<Figure size 100x100 with 1 Axes>"
            ],
            "image/png": "[encoded data removed]"
          },
          "metadata": {}
        }
      ],
      "source": [
        "mean3 = stacked_threes.mean(0)\n",
        "show_image(mean3);"
      ]
    },
    {
      "cell_type": "code",
      "execution_count": 41,
      "metadata": {
        "colab": {
          "base_uri": "https://localhost:8080/",
          "height": 114
        },
        "id": "POcFfXjpL1cB",
        "outputId": "013e846e-19e8-4c53-a917-5e437b87b912"
      },
      "outputs": [
        {
          "output_type": "display_data",
          "data": {
            "text/plain": [
              "<Figure size 100x100 with 1 Axes>"
            ],
            "image/png": "[encoded data removed]"
          },
          "metadata": {}
        }
      ],
      "source": [
        "mean7 = stacked_sevens.mean(0)\n",
        "show_image(mean7);"
      ]
    },
    {
      "cell_type": "code",
      "execution_count": 42,
      "metadata": {
        "colab": {
          "base_uri": "https://localhost:8080/",
          "height": 114
        },
        "id": "y-aDqs3wL1cB",
        "outputId": "9e55db28-c5a7-4971-81cd-a36e2f3e493e"
      },
      "outputs": [
        {
          "output_type": "display_data",
          "data": {
            "text/plain": [
              "<Figure size 100x100 with 1 Axes>"
            ],
            "image/png": "[encoded data removed]"
          },
          "metadata": {}
        }
      ],
      "source": [
        "a_3 = stacked_threes[1]\n",
        "show_image(a_3);"
      ]
    },
    {
      "cell_type": "code",
      "execution_count": 43,
      "metadata": {
        "colab": {
          "base_uri": "https://localhost:8080/"
        },
        "id": "_3LI8M0vL1cB",
        "outputId": "9f3190ca-7327-4930-fb45-f0d2f5246ec7"
      },
      "outputs": [
        {
          "output_type": "execute_result",
          "data": {
            "text/plain": [
              "(tensor(0.1114), tensor(0.2021))"
            ]
          },
          "metadata": {},
          "execution_count": 43
        }
      ],
      "source": [
        "dist_3_abs = (a_3 - mean3).abs().mean()\n",
        "dist_3_sqr = ((a_3 - mean3)**2).mean().sqrt()\n",
        "dist_3_abs,dist_3_sqr"
      ]
    },
    {
      "cell_type": "code",
      "execution_count": 44,
      "metadata": {
        "colab": {
          "base_uri": "https://localhost:8080/"
        },
        "id": "ysAraTU5L1cC",
        "outputId": "5e0a8062-4e18-4759-f342-bbbf4c1b4235"
      },
      "outputs": [
        {
          "output_type": "execute_result",
          "data": {
            "text/plain": [
              "(tensor(0.1586), tensor(0.3021))"
            ]
          },
          "metadata": {},
          "execution_count": 44
        }
      ],
      "source": [
        "dist_7_abs = (a_3 - mean7).abs().mean()\n",
        "dist_7_sqr = ((a_3 - mean7)**2).mean().sqrt()\n",
        "dist_7_abs,dist_7_sqr"
      ]
    },
    {
      "cell_type": "code",
      "execution_count": 45,
      "metadata": {
        "colab": {
          "base_uri": "https://localhost:8080/"
        },
        "id": "ELz1z4ivL1cC",
        "outputId": "53d62f82-c791-4724-abd4-84443c1a673c"
      },
      "outputs": [
        {
          "output_type": "execute_result",
          "data": {
            "text/plain": [
              "(tensor(0.1586), tensor(0.3021))"
            ]
          },
          "metadata": {},
          "execution_count": 45
        }
      ],
      "source": [
        "F.l1_loss(a_3.float(),mean7), F.mse_loss(a_3,mean7).sqrt()"
      ]
    },
    {
      "cell_type": "markdown",
      "metadata": {
        "id": "89DJT_rkL1cC"
      },
      "source": [
        "### NumPy Arrays and PyTorch Tensors"
      ]
    },
    {
      "cell_type": "code",
      "execution_count": 46,
      "metadata": {
        "id": "yQP89fxtL1cC"
      },
      "outputs": [],
      "source": [
        "data = [[1,2,3],[4,5,6]]\n",
        "arr = array (data)\n",
        "tns = tensor(data)"
      ]
    },
    {
      "cell_type": "code",
      "execution_count": 47,
      "metadata": {
        "colab": {
          "base_uri": "https://localhost:8080/"
        },
        "id": "Hvk4FFQCL1cC",
        "outputId": "f2ef488d-bb3e-4943-946c-a1e1f793100c"
      },
      "outputs": [
        {
          "output_type": "execute_result",
          "data": {
            "text/plain": [
              "array([[1, 2, 3],\n",
              "       [4, 5, 6]])"
            ]
          },
          "metadata": {},
          "execution_count": 47
        }
      ],
      "source": [
        "arr  # numpy"
      ]
    },
    {
      "cell_type": "code",
      "execution_count": 48,
      "metadata": {
        "colab": {
          "base_uri": "https://localhost:8080/"
        },
        "id": "VEX8nanKL1cC",
        "outputId": "13ca21dc-0860-444f-dd0e-c4300ee1f890"
      },
      "outputs": [
        {
          "output_type": "execute_result",
          "data": {
            "text/plain": [
              "tensor([[1, 2, 3],\n",
              "        [4, 5, 6]])"
            ]
          },
          "metadata": {},
          "execution_count": 48
        }
      ],
      "source": [
        "tns  # pytorch"
      ]
    },
    {
      "cell_type": "code",
      "execution_count": 49,
      "metadata": {
        "colab": {
          "base_uri": "https://localhost:8080/"
        },
        "id": "6STsUA7pL1cC",
        "outputId": "28b69785-4e85-4370-fe80-0b98a68078a5"
      },
      "outputs": [
        {
          "output_type": "execute_result",
          "data": {
            "text/plain": [
              "tensor([4, 5, 6])"
            ]
          },
          "metadata": {},
          "execution_count": 49
        }
      ],
      "source": [
        "tns[1]"
      ]
    },
    {
      "cell_type": "code",
      "execution_count": 50,
      "metadata": {
        "colab": {
          "base_uri": "https://localhost:8080/"
        },
        "id": "87Px2wLwL1cC",
        "outputId": "70928d66-cf08-4c18-c7a8-1a14db35e0a1"
      },
      "outputs": [
        {
          "output_type": "execute_result",
          "data": {
            "text/plain": [
              "tensor([2, 5])"
            ]
          },
          "metadata": {},
          "execution_count": 50
        }
      ],
      "source": [
        "tns[:,1]"
      ]
    },
    {
      "cell_type": "code",
      "execution_count": 51,
      "metadata": {
        "colab": {
          "base_uri": "https://localhost:8080/"
        },
        "id": "78aAi8hZL1cC",
        "outputId": "17692a35-ea47-4165-eedb-14f167fbfa94"
      },
      "outputs": [
        {
          "output_type": "execute_result",
          "data": {
            "text/plain": [
              "tensor([5, 6])"
            ]
          },
          "metadata": {},
          "execution_count": 51
        }
      ],
      "source": [
        "tns[1,1:3]"
      ]
    },
    {
      "cell_type": "code",
      "execution_count": 52,
      "metadata": {
        "colab": {
          "base_uri": "https://localhost:8080/"
        },
        "id": "_OEYmtIEL1cC",
        "outputId": "0a60a221-fa15-40b9-982c-7fb579c09b52"
      },
      "outputs": [
        {
          "output_type": "execute_result",
          "data": {
            "text/plain": [
              "tensor([[2, 3, 4],\n",
              "        [5, 6, 7]])"
            ]
          },
          "metadata": {},
          "execution_count": 52
        }
      ],
      "source": [
        "tns+1"
      ]
    },
    {
      "cell_type": "code",
      "execution_count": 53,
      "metadata": {
        "colab": {
          "base_uri": "https://localhost:8080/",
          "height": 35
        },
        "id": "PQriiRabL1cC",
        "outputId": "09e46e1c-b3a1-4904-c165-91c5fecaca45"
      },
      "outputs": [
        {
          "output_type": "execute_result",
          "data": {
            "text/plain": [
              "'torch.LongTensor'"
            ],
            "application/vnd.google.colaboratory.intrinsic+json": {
              "type": "string"
            }
          },
          "metadata": {},
          "execution_count": 53
        }
      ],
      "source": [
        "tns.type()"
      ]
    },
    {
      "cell_type": "code",
      "execution_count": 54,
      "metadata": {
        "colab": {
          "base_uri": "https://localhost:8080/"
        },
        "id": "Y9_17G4_L1cC",
        "outputId": "fb4f13db-382d-4c9a-bc4e-0149f7e6c7df"
      },
      "outputs": [
        {
          "output_type": "execute_result",
          "data": {
            "text/plain": [
              "tensor([[1.5000, 3.0000, 4.5000],\n",
              "        [6.0000, 7.5000, 9.0000]])"
            ]
          },
          "metadata": {},
          "execution_count": 54
        }
      ],
      "source": [
        "tns*1.5"
      ]
    },
    {
      "cell_type": "markdown",
      "metadata": {
        "id": "Kvnj13zvL1cC"
      },
      "source": [
        "## Computing Metrics Using Broadcasting"
      ]
    },
    {
      "cell_type": "code",
      "execution_count": 56,
      "metadata": {
        "colab": {
          "base_uri": "https://localhost:8080/"
        },
        "id": "ut3vNyjoL1cC",
        "outputId": "945af44c-bb60-4ce7-a29f-7f6e7eae2f01"
      },
      "outputs": [
        {
          "output_type": "execute_result",
          "data": {
            "text/plain": [
              "(torch.Size([1010, 28, 28]), torch.Size([1028, 28, 28]))"
            ]
          },
          "metadata": {},
          "execution_count": 56
        }
      ],
      "source": [
        "valid_3_tens = torch.stack([tensor(Image.open(o))\n",
        "                            for o in (path/'valid'/'3').ls()])\n",
        "valid_3_tens = valid_3_tens.float()/255\n",
        "valid_7_tens = torch.stack([tensor(Image.open(o))\n",
        "                            for o in (path/'valid'/'7').ls()])\n",
        "valid_7_tens = valid_7_tens.float()/255\n",
        "valid_3_tens.shape,valid_7_tens.shape"
      ]
    },
    {
      "cell_type": "code",
      "execution_count": 63,
      "metadata": {
        "colab": {
          "base_uri": "https://localhost:8080/"
        },
        "id": "FiUKwMm6L1cD",
        "outputId": "e41f954a-b5d6-4b22-97fc-a9dd46d56527"
      },
      "outputs": [
        {
          "output_type": "execute_result",
          "data": {
            "text/plain": [
              "tensor(0.1114)"
            ]
          },
          "metadata": {},
          "execution_count": 63
        }
      ],
      "source": [
        "def mnist_distance(a,b): return (a-b).abs().mean((-1, -2))\n",
        "mnist_distance(a_3, mean3)"
      ]
    },
    {
      "cell_type": "code",
      "execution_count": 64,
      "metadata": {
        "colab": {
          "base_uri": "https://localhost:8080/"
        },
        "id": "CIc3NwNHL1cD",
        "outputId": "77063622-4d3e-4abb-a068-e266afb05fd6"
      },
      "outputs": [
        {
          "output_type": "execute_result",
          "data": {
            "text/plain": [
              "(tensor([0.1252, 0.1386, 0.1162,  ..., 0.1197, 0.1154, 0.1438]),\n",
              " torch.Size([1010]))"
            ]
          },
          "metadata": {},
          "execution_count": 64
        }
      ],
      "source": [
        "valid_3_dist = mnist_distance(valid_3_tens, mean3)\n",
        "valid_3_dist, valid_3_dist.shape"
      ]
    },
    {
      "cell_type": "code",
      "execution_count": 65,
      "metadata": {
        "colab": {
          "base_uri": "https://localhost:8080/"
        },
        "id": "95XgwxVXL1cD",
        "outputId": "905cd0af-a167-46fa-cc8c-8a963ae68087"
      },
      "outputs": [
        {
          "output_type": "execute_result",
          "data": {
            "text/plain": [
              "tensor([2, 3, 4])"
            ]
          },
          "metadata": {},
          "execution_count": 65
        }
      ],
      "source": [
        "tensor([1,2,3]) + tensor(1)"
      ]
    },
    {
      "cell_type": "code",
      "execution_count": 66,
      "metadata": {
        "colab": {
          "base_uri": "https://localhost:8080/"
        },
        "id": "F6VHhLOgL1cD",
        "outputId": "2bc40bf5-052e-411a-d127-deebf16389ff"
      },
      "outputs": [
        {
          "output_type": "execute_result",
          "data": {
            "text/plain": [
              "torch.Size([1010, 28, 28])"
            ]
          },
          "metadata": {},
          "execution_count": 66
        }
      ],
      "source": [
        "(valid_3_tens-mean3).shape"
      ]
    },
    {
      "cell_type": "code",
      "execution_count": 67,
      "metadata": {
        "id": "ijsGvK_UL1cD"
      },
      "outputs": [],
      "source": [
        "def is_3(x): return mnist_distance(x,mean3) < mnist_distance(x,mean7)"
      ]
    },
    {
      "cell_type": "code",
      "execution_count": 68,
      "metadata": {
        "colab": {
          "base_uri": "https://localhost:8080/"
        },
        "id": "-rlgcKLVL1cD",
        "outputId": "fda689df-0afe-4ff1-ebe7-e2f40e62739d"
      },
      "outputs": [
        {
          "output_type": "execute_result",
          "data": {
            "text/plain": [
              "(tensor(True), tensor(1.))"
            ]
          },
          "metadata": {},
          "execution_count": 68
        }
      ],
      "source": [
        "is_3(a_3), is_3(a_3).float()"
      ]
    },
    {
      "cell_type": "code",
      "execution_count": 69,
      "metadata": {
        "colab": {
          "base_uri": "https://localhost:8080/"
        },
        "id": "O3eGoSCVL1cD",
        "outputId": "afca2a61-c8ea-4ce4-8c0b-948e73991ff2"
      },
      "outputs": [
        {
          "output_type": "execute_result",
          "data": {
            "text/plain": [
              "tensor([ True, False,  True,  ...,  True,  True,  True])"
            ]
          },
          "metadata": {},
          "execution_count": 69
        }
      ],
      "source": [
        "is_3(valid_3_tens)"
      ]
    },
    {
      "cell_type": "code",
      "execution_count": 70,
      "metadata": {
        "colab": {
          "base_uri": "https://localhost:8080/"
        },
        "id": "xxE3gQ_kL1cD",
        "outputId": "ea89c115-815d-4270-86fd-2d7b3c76e9b2"
      },
      "outputs": [
        {
          "output_type": "execute_result",
          "data": {
            "text/plain": [
              "(tensor(0.9168), tensor(0.9854), tensor(0.9511))"
            ]
          },
          "metadata": {},
          "execution_count": 70
        }
      ],
      "source": [
        "accuracy_3s =      is_3(valid_3_tens).float() .mean()\n",
        "accuracy_7s = (1 - is_3(valid_7_tens).float()).mean()\n",
        "\n",
        "accuracy_3s,accuracy_7s,(accuracy_3s+accuracy_7s)/2"
      ]
    },
    {
      "cell_type": "markdown",
      "metadata": {
        "id": "fqPbhJbyL1cD"
      },
      "source": [
        "## Stochastic Gradient Descent (SGD)"
      ]
    },
    {
      "cell_type": "code",
      "execution_count": 71,
      "metadata": {
        "colab": {
          "base_uri": "https://localhost:8080/",
          "height": 125
        },
        "id": "s45OFZDxL1cD",
        "outputId": "325e13b3-019a-41b3-c5fc-599b8747d143"
      },
      "outputs": [
        {
          "output_type": "execute_result",
          "data": {
            "image/svg+xml": "<?xml version=\"1.0\" encoding=\"UTF-8\" standalone=\"no\"?>\n<!DOCTYPE svg PUBLIC \"-//W3C//DTD SVG 1.1//EN\"\n \"http://www.w3.org/Graphics/SVG/1.1/DTD/svg11.dtd\">\n<!-- Generated by graphviz version 2.43.0 (0)\n -->\n<!-- Title: G Pages: 1 -->\n<svg width=\"591pt\" height=\"78pt\"\n viewBox=\"0.00 0.00 591.49 78.00\" xmlns=\"http://www.w3.org/2000/svg\" xmlns:xlink=\"http://www.w3.org/1999/xlink\">\n<g id=\"graph0\" class=\"graph\" transform=\"scale(1 1) rotate(0) translate(4 74)\">\n<title>G</title>\n<polygon fill=\"white\" stroke=\"transparent\" points=\"-4,4 -4,-74 587.49,-74 587.49,4 -4,4\"/>\n<!-- init -->\n<g id=\"node1\" class=\"node\">\n<title>init</title>\n<ellipse fill=\"none\" stroke=\"black\" cx=\"27\" cy=\"-18\" rx=\"27\" ry=\"18\"/>\n<text text-anchor=\"middle\" x=\"27\" y=\"-14.3\" font-family=\"Times,serif\" font-size=\"14.00\">init</text>\n</g>\n<!-- predict -->\n<g id=\"node2\" class=\"node\">\n<title>predict</title>\n<ellipse fill=\"none\" stroke=\"black\" cx=\"126.1\" cy=\"-18\" rx=\"35.19\" ry=\"18\"/>\n<text text-anchor=\"middle\" x=\"126.1\" y=\"-14.3\" font-family=\"Times,serif\" font-size=\"14.00\">predict</text>\n</g>\n<!-- init&#45;&gt;predict -->\n<g id=\"edge1\" class=\"edge\">\n<title>init&#45;&gt;predict</title>\n<path fill=\"none\" stroke=\"black\" d=\"M54.02,-18C62.26,-18 71.62,-18 80.78,-18\"/>\n<polygon fill=\"black\" stroke=\"black\" points=\"80.96,-21.5 90.96,-18 80.96,-14.5 80.96,-21.5\"/>\n</g>\n<!-- loss -->\n<g id=\"node3\" class=\"node\">\n<title>loss</title>\n<ellipse fill=\"none\" stroke=\"black\" cx=\"225.19\" cy=\"-52\" rx=\"27\" ry=\"18\"/>\n<text text-anchor=\"middle\" x=\"225.19\" y=\"-48.3\" font-family=\"Times,serif\" font-size=\"14.00\">loss</text>\n</g>\n<!-- predict&#45;&gt;loss -->\n<g id=\"edge2\" class=\"edge\">\n<title>predict&#45;&gt;loss</title>\n<path fill=\"none\" stroke=\"black\" d=\"M155.44,-27.93C166.61,-31.84 179.52,-36.36 191.11,-40.42\"/>\n<polygon fill=\"black\" stroke=\"black\" points=\"190.29,-43.84 200.88,-43.84 192.6,-37.23 190.29,-43.84\"/>\n</g>\n<!-- gradient -->\n<g id=\"node4\" class=\"node\">\n<title>gradient</title>\n<ellipse fill=\"none\" stroke=\"black\" cx=\"361.84\" cy=\"-52\" rx=\"39.79\" ry=\"18\"/>\n<text text-anchor=\"middle\" x=\"361.84\" y=\"-48.3\" font-family=\"Times,serif\" font-size=\"14.00\">gradient</text>\n</g>\n<!-- loss&#45;&gt;gradient -->\n<g id=\"edge3\" class=\"edge\">\n<title>loss&#45;&gt;gradient</title>\n<path fill=\"none\" stroke=\"black\" d=\"M252.47,-52C269.35,-52 291.8,-52 311.88,-52\"/>\n<polygon fill=\"black\" stroke=\"black\" points=\"312.13,-55.5 322.13,-52 312.13,-48.5 312.13,-55.5\"/>\n</g>\n<!-- step -->\n<g id=\"node5\" class=\"node\">\n<title>step</title>\n<ellipse fill=\"none\" stroke=\"black\" cx=\"465.49\" cy=\"-18\" rx=\"27\" ry=\"18\"/>\n<text text-anchor=\"middle\" x=\"465.49\" y=\"-14.3\" font-family=\"Times,serif\" font-size=\"14.00\">step</text>\n</g>\n<!-- gradient&#45;&gt;step -->\n<g id=\"edge4\" class=\"edge\">\n<title>gradient&#45;&gt;step</title>\n<path fill=\"none\" stroke=\"black\" d=\"M394.17,-41.52C405.92,-37.59 419.32,-33.11 431.25,-29.12\"/>\n<polygon fill=\"black\" stroke=\"black\" points=\"432.48,-32.4 440.85,-25.91 430.26,-25.76 432.48,-32.4\"/>\n</g>\n<!-- step&#45;&gt;predict -->\n<g id=\"edge6\" class=\"edge\">\n<title>step&#45;&gt;predict</title>\n<path fill=\"none\" stroke=\"black\" d=\"M438.29,-18C380.72,-18 242.6,-18 171.32,-18\"/>\n<polygon fill=\"black\" stroke=\"black\" points=\"171.3,-14.5 161.3,-18 171.3,-21.5 171.3,-14.5\"/>\n<text text-anchor=\"middle\" x=\"287.19\" y=\"-21.8\" font-family=\"Times,serif\" font-size=\"14.00\">repeat</text>\n</g>\n<!-- stop -->\n<g id=\"node6\" class=\"node\">\n<title>stop</title>\n<ellipse fill=\"none\" stroke=\"black\" cx=\"556.49\" cy=\"-18\" rx=\"27\" ry=\"18\"/>\n<text text-anchor=\"middle\" x=\"556.49\" y=\"-14.3\" font-family=\"Times,serif\" font-size=\"14.00\">stop</text>\n</g>\n<!-- step&#45;&gt;stop -->\n<g id=\"edge5\" class=\"edge\">\n<title>step&#45;&gt;stop</title>\n<path fill=\"none\" stroke=\"black\" d=\"M492.71,-18C501.04,-18 510.4,-18 519.3,-18\"/>\n<polygon fill=\"black\" stroke=\"black\" points=\"519.45,-21.5 529.45,-18 519.45,-14.5 519.45,-21.5\"/>\n</g>\n</g>\n</svg>\n",
            "text/plain": [
              "<graphviz.sources.Source at 0x789f8800c430>"
            ]
          },
          "metadata": {},
          "execution_count": 71
        }
      ],
      "source": [
        "gv('''\n",
        "init->predict->loss->gradient->step->stop\n",
        "step->predict[label=repeat]\n",
        "''')"
      ]
    },
    {
      "cell_type": "code",
      "execution_count": 72,
      "metadata": {
        "id": "KixBxxOmL1cD"
      },
      "outputs": [],
      "source": [
        "def f(x): return x**2"
      ]
    },
    {
      "cell_type": "code",
      "execution_count": 73,
      "metadata": {
        "colab": {
          "base_uri": "https://localhost:8080/",
          "height": 396
        },
        "id": "nBbshwdqL1cD",
        "outputId": "de36eed8-fdfc-46ee-eda8-42a19636e2f1"
      },
      "outputs": [
        {
          "output_type": "display_data",
          "data": {
            "text/plain": [
              "<Figure size 600x400 with 1 Axes>"
            ],
            "image/png": "[encoded data removed]"
          },
          "metadata": {}
        }
      ],
      "source": [
        "plot_function(f, 'x', 'x**2')"
      ]
    },
    {
      "cell_type": "code",
      "execution_count": 74,
      "metadata": {
        "colab": {
          "base_uri": "https://localhost:8080/",
          "height": 396
        },
        "id": "Ule99ZHUL1cD",
        "outputId": "4ba3a525-a72a-49cd-9b94-ebbf8dd7360f"
      },
      "outputs": [
        {
          "output_type": "display_data",
          "data": {
            "text/plain": [
              "<Figure size 600x400 with 1 Axes>"
            ],
            "image/png": "[encoded data removed]"
          },
          "metadata": {}
        }
      ],
      "source": [
        "plot_function(f, 'x', 'x**2')\n",
        "plt.scatter(-1.5, f(-1.5), color='red');"
      ]
    },
    {
      "cell_type": "markdown",
      "metadata": {
        "id": "4ThNU4yiL1cD"
      },
      "source": [
        "### Calculating Gradients"
      ]
    },
    {
      "cell_type": "code",
      "execution_count": 75,
      "metadata": {
        "id": "xXnYaYHZL1cD"
      },
      "outputs": [],
      "source": [
        "xt = tensor(3.).requires_grad_()"
      ]
    },
    {
      "cell_type": "code",
      "execution_count": 76,
      "metadata": {
        "colab": {
          "base_uri": "https://localhost:8080/"
        },
        "id": "9wkgFbx_L1cE",
        "outputId": "58de2c61-521e-4c63-f675-2be3d8e4ea58"
      },
      "outputs": [
        {
          "output_type": "execute_result",
          "data": {
            "text/plain": [
              "tensor(9., grad_fn=<PowBackward0>)"
            ]
          },
          "metadata": {},
          "execution_count": 76
        }
      ],
      "source": [
        "yt = f(xt)\n",
        "yt"
      ]
    },
    {
      "cell_type": "code",
      "execution_count": 77,
      "metadata": {
        "id": "cmHbqojUL1cE"
      },
      "outputs": [],
      "source": [
        "yt.backward()"
      ]
    },
    {
      "cell_type": "code",
      "execution_count": 78,
      "metadata": {
        "colab": {
          "base_uri": "https://localhost:8080/"
        },
        "id": "agNnQxx0L1cE",
        "outputId": "1f025802-bef3-4224-a8bc-ef58bba18c33"
      },
      "outputs": [
        {
          "output_type": "execute_result",
          "data": {
            "text/plain": [
              "tensor(6.)"
            ]
          },
          "metadata": {},
          "execution_count": 78
        }
      ],
      "source": [
        "xt.grad"
      ]
    },
    {
      "cell_type": "code",
      "execution_count": 80,
      "metadata": {
        "colab": {
          "base_uri": "https://localhost:8080/"
        },
        "id": "9thbvTyQL1cE",
        "outputId": "6a0bf2c2-eb8a-4d0f-819b-3ac8ad1c19fb"
      },
      "outputs": [
        {
          "output_type": "execute_result",
          "data": {
            "text/plain": [
              "tensor([ 3.,  4., 10.], requires_grad=True)"
            ]
          },
          "metadata": {},
          "execution_count": 80
        }
      ],
      "source": [
        "xt = tensor([3.,4.,10.]).requires_grad_()\n",
        "xt"
      ]
    },
    {
      "cell_type": "code",
      "execution_count": 81,
      "metadata": {
        "colab": {
          "base_uri": "https://localhost:8080/"
        },
        "id": "HE2fkDkcL1cE",
        "outputId": "79d26114-69d2-4350-d3d0-1dc7939c2a2e"
      },
      "outputs": [
        {
          "output_type": "execute_result",
          "data": {
            "text/plain": [
              "tensor(125., grad_fn=<SumBackward0>)"
            ]
          },
          "metadata": {},
          "execution_count": 81
        }
      ],
      "source": [
        "def f(x): return (x**2).sum()\n",
        "\n",
        "yt = f(xt)\n",
        "yt"
      ]
    },
    {
      "cell_type": "code",
      "execution_count": 82,
      "metadata": {
        "colab": {
          "base_uri": "https://localhost:8080/"
        },
        "id": "An416YwUL1cE",
        "outputId": "3391af3a-9ef7-4a50-f4e4-52a9e66a48fd"
      },
      "outputs": [
        {
          "output_type": "execute_result",
          "data": {
            "text/plain": [
              "tensor([ 6.,  8., 20.])"
            ]
          },
          "metadata": {},
          "execution_count": 82
        }
      ],
      "source": [
        "yt.backward()\n",
        "xt.grad"
      ]
    },
    {
      "cell_type": "markdown",
      "metadata": {
        "id": "ev9hByMqL1cE"
      },
      "source": [
        "### Stepping With a Learning Rate"
      ]
    },
    {
      "cell_type": "markdown",
      "metadata": {
        "id": "iJJbtrx0L1cE"
      },
      "source": [
        "### An End-to-End SGD Example"
      ]
    },
    {
      "cell_type": "code",
      "execution_count": 83,
      "metadata": {
        "colab": {
          "base_uri": "https://localhost:8080/"
        },
        "id": "xZMF8NkML1cE",
        "outputId": "dee9dea4-1612-4cb0-a8ca-45a3dfe44a22"
      },
      "outputs": [
        {
          "output_type": "execute_result",
          "data": {
            "text/plain": [
              "tensor([ 0.,  1.,  2.,  3.,  4.,  5.,  6.,  7.,  8.,  9., 10., 11., 12., 13., 14., 15., 16., 17., 18., 19.])"
            ]
          },
          "metadata": {},
          "execution_count": 83
        }
      ],
      "source": [
        "time = torch.arange(0,20).float(); time"
      ]
    },
    {
      "cell_type": "code",
      "execution_count": 84,
      "metadata": {
        "colab": {
          "base_uri": "https://localhost:8080/",
          "height": 434
        },
        "id": "4WpqcSZ1L1cE",
        "outputId": "be384716-ca1a-4d75-9cad-df6d02c86cd7"
      },
      "outputs": [
        {
          "output_type": "display_data",
          "data": {
            "text/plain": [
              "<Figure size 640x480 with 1 Axes>"
            ],
            "image/png": "[encoded data removed]"
          },
          "metadata": {}
        }
      ],
      "source": [
        "speed = torch.randn(20)*3 + 0.75*(time-9.5)**2 + 1\n",
        "plt.scatter(time,speed);"
      ]
    },
    {
      "cell_type": "code",
      "execution_count": 85,
      "metadata": {
        "id": "3cbU9rOOL1cE"
      },
      "outputs": [],
      "source": [
        "def f(t, params):\n",
        "    a,b,c = params\n",
        "    return a*(t**2) + (b*t) + c"
      ]
    },
    {
      "cell_type": "code",
      "execution_count": 86,
      "metadata": {
        "id": "LGQqMeBnL1cE"
      },
      "outputs": [],
      "source": [
        "def mse(preds, targets): return ((preds-targets)**2).mean()"
      ]
    },
    {
      "cell_type": "markdown",
      "metadata": {
        "id": "QUUaRDngL1cE"
      },
      "source": [
        "#### Step 1: Initialize the parameters"
      ]
    },
    {
      "cell_type": "code",
      "execution_count": 119,
      "metadata": {
        "id": "3fblZR17L1cE"
      },
      "outputs": [],
      "source": [
        "params = torch.randn(3).requires_grad_()"
      ]
    },
    {
      "cell_type": "code",
      "execution_count": 120,
      "metadata": {
        "colab": {
          "base_uri": "https://localhost:8080/"
        },
        "id": "KvEJdxikL1cE",
        "outputId": "086dabec-b3f6-4b9f-fe65-002918107cdd"
      },
      "outputs": [
        {
          "output_type": "execute_result",
          "data": {
            "text/plain": [
              "tensor([-0.2384, -0.0499,  0.5263], grad_fn=<CloneBackward0>)"
            ]
          },
          "metadata": {},
          "execution_count": 120
        }
      ],
      "source": [
        "#hide\n",
        "orig_params = params.clone()\n",
        "orig_params"
      ]
    },
    {
      "cell_type": "markdown",
      "metadata": {
        "id": "aR5bo3EwL1cE"
      },
      "source": [
        "#### Step 2: Calculate the predictions"
      ]
    },
    {
      "cell_type": "code",
      "execution_count": 121,
      "metadata": {
        "id": "sU_8vqzdL1cF"
      },
      "outputs": [],
      "source": [
        "preds = f(time, params)"
      ]
    },
    {
      "cell_type": "code",
      "execution_count": 122,
      "metadata": {
        "id": "88tclBsYL1cF"
      },
      "outputs": [],
      "source": [
        "def show_preds(preds, ax=None):\n",
        "    if ax is None: ax=plt.subplots()[1]\n",
        "    ax.scatter(time, speed)\n",
        "    ax.scatter(time, to_np(preds), color='red')\n",
        "    ax.set_ylim(-300,100)"
      ]
    },
    {
      "cell_type": "code",
      "execution_count": 123,
      "metadata": {
        "colab": {
          "base_uri": "https://localhost:8080/",
          "height": 441
        },
        "id": "gVrv5c8HL1cF",
        "outputId": "ae25f7c1-1b71-442f-e401-f9d1a0b4e53c"
      },
      "outputs": [
        {
          "output_type": "display_data",
          "data": {
            "text/plain": [
              "<Figure size 640x480 with 1 Axes>"
            ],
            "image/png": "[encoded data removed]"
          },
          "metadata": {}
        }
      ],
      "source": [
        "show_preds(preds)"
      ]
    },
    {
      "cell_type": "markdown",
      "metadata": {
        "id": "7vsQMxQOL1cF"
      },
      "source": [
        "#### Step 3: Calculate the loss"
      ]
    },
    {
      "cell_type": "code",
      "execution_count": 124,
      "metadata": {
        "colab": {
          "base_uri": "https://localhost:8080/"
        },
        "id": "d2WKNV7aL1cF",
        "outputId": "b71b51fa-fde0-4da8-cedc-e4e54cf971c5"
      },
      "outputs": [
        {
          "output_type": "execute_result",
          "data": {
            "text/plain": [
              "tensor(4682.1909, grad_fn=<MeanBackward0>)"
            ]
          },
          "metadata": {},
          "execution_count": 124
        }
      ],
      "source": [
        "loss = mse(preds, speed)\n",
        "loss"
      ]
    },
    {
      "cell_type": "markdown",
      "metadata": {
        "id": "RXzm8JPtL1cF"
      },
      "source": [
        "#### Step 4: Calculate the gradients"
      ]
    },
    {
      "cell_type": "code",
      "execution_count": 125,
      "metadata": {
        "colab": {
          "base_uri": "https://localhost:8080/"
        },
        "id": "qsS02qAkL1cF",
        "outputId": "38d1e3d4-a1e3-45f9-c253-f83b7ce508bf"
      },
      "outputs": [
        {
          "output_type": "execute_result",
          "data": {
            "text/plain": [
              "tensor([-21190.7344,  -1358.1260,   -111.9416])"
            ]
          },
          "metadata": {},
          "execution_count": 125
        }
      ],
      "source": [
        "loss.backward()\n",
        "params.grad"
      ]
    },
    {
      "cell_type": "code",
      "execution_count": 126,
      "metadata": {
        "colab": {
          "base_uri": "https://localhost:8080/"
        },
        "id": "EBJHHSq_L1cF",
        "outputId": "4dd7d06a-bbef-4e2e-8c2f-049770c40cc1"
      },
      "outputs": [
        {
          "output_type": "execute_result",
          "data": {
            "text/plain": [
              "tensor([-0.2119, -0.0136, -0.0011])"
            ]
          },
          "metadata": {},
          "execution_count": 126
        }
      ],
      "source": [
        "params.grad * 1e-5"
      ]
    },
    {
      "cell_type": "code",
      "execution_count": 127,
      "metadata": {
        "colab": {
          "base_uri": "https://localhost:8080/"
        },
        "id": "eqspfljyL1cF",
        "outputId": "2b5fd8c1-b290-4ba4-e5d6-47287d1be54e"
      },
      "outputs": [
        {
          "output_type": "execute_result",
          "data": {
            "text/plain": [
              "tensor([-0.2384, -0.0499,  0.5263], requires_grad=True)"
            ]
          },
          "metadata": {},
          "execution_count": 127
        }
      ],
      "source": [
        "params"
      ]
    },
    {
      "cell_type": "markdown",
      "metadata": {
        "id": "_2RqO1NiL1cF"
      },
      "source": [
        "#### Step 5: Step the weights."
      ]
    },
    {
      "cell_type": "code",
      "execution_count": 128,
      "metadata": {
        "id": "UXrlhZdNL1cF"
      },
      "outputs": [],
      "source": [
        "lr = 1e-5\n",
        "params.data -= lr * params.grad.data\n",
        "params.grad = None"
      ]
    },
    {
      "cell_type": "code",
      "execution_count": 129,
      "metadata": {
        "colab": {
          "base_uri": "https://localhost:8080/"
        },
        "id": "yKexT4rWL1cF",
        "outputId": "69e626d3-356d-42d3-fc1c-d02d6e1d6dfa"
      },
      "outputs": [
        {
          "output_type": "execute_result",
          "data": {
            "text/plain": [
              "tensor(1446.9375, grad_fn=<MeanBackward0>)"
            ]
          },
          "metadata": {},
          "execution_count": 129
        }
      ],
      "source": [
        "preds = f(time,params)\n",
        "mse(preds, speed)"
      ]
    },
    {
      "cell_type": "code",
      "execution_count": 130,
      "metadata": {
        "colab": {
          "base_uri": "https://localhost:8080/",
          "height": 441
        },
        "id": "biCn5_D-L1cF",
        "outputId": "9b86852f-0cc8-494e-ecac-3042a4b4c788"
      },
      "outputs": [
        {
          "output_type": "display_data",
          "data": {
            "text/plain": [
              "<Figure size 640x480 with 1 Axes>"
            ],
            "image/png": "[encoded data removed]"
          },
          "metadata": {}
        }
      ],
      "source": [
        "show_preds(preds)"
      ]
    },
    {
      "cell_type": "code",
      "execution_count": 131,
      "metadata": {
        "id": "fnR7hEj_L1cF"
      },
      "outputs": [],
      "source": [
        "def apply_step(params, prn=True):\n",
        "    preds = f(time, params)\n",
        "    loss = mse(preds, speed)\n",
        "    loss.backward()\n",
        "    params.data -= lr * params.grad.data\n",
        "    params.grad = None\n",
        "    if prn: print(loss.item())\n",
        "    return preds"
      ]
    },
    {
      "cell_type": "markdown",
      "metadata": {
        "id": "If0j5sp3L1cF"
      },
      "source": [
        "#### Step 6: Repeat the process"
      ]
    },
    {
      "cell_type": "code",
      "execution_count": 132,
      "metadata": {
        "colab": {
          "base_uri": "https://localhost:8080/"
        },
        "id": "w2lMk7ywL1cG",
        "outputId": "0e0036da-f70d-4d73-8941-24d22c96f6bd"
      },
      "outputs": [
        {
          "output_type": "stream",
          "name": "stdout",
          "text": [
            "1446.9375\n",
            "834.7259521484375\n",
            "718.8739624023438\n",
            "696.9483032226562\n",
            "692.7964477539062\n",
            "692.0079345703125\n",
            "691.8556518554688\n",
            "691.8240966796875\n",
            "691.8150634765625\n",
            "691.8104858398438\n",
            "691.8067626953125\n",
            "691.8031616210938\n",
            "691.7994995117188\n",
            "691.7959594726562\n",
            "691.79248046875\n",
            "691.788818359375\n",
            "691.7852783203125\n",
            "691.7816162109375\n",
            "691.778076171875\n",
            "691.7745361328125\n"
          ]
        }
      ],
      "source": [
        "for i in range(20): apply_step(params)"
      ]
    },
    {
      "cell_type": "code",
      "execution_count": 133,
      "metadata": {
        "id": "pq7P5jCxL1cG"
      },
      "outputs": [],
      "source": [
        "#hide\n",
        "params = orig_params.detach().requires_grad_()"
      ]
    },
    {
      "cell_type": "code",
      "source": [
        "params"
      ],
      "metadata": {
        "colab": {
          "base_uri": "https://localhost:8080/"
        },
        "id": "hZsru_7nYHLZ",
        "outputId": "b61c452b-9320-4ce0-f682-9d07881c3ba5"
      },
      "execution_count": 134,
      "outputs": [
        {
          "output_type": "execute_result",
          "data": {
            "text/plain": [
              "tensor([-0.2384, -0.0499,  0.5263], requires_grad=True)"
            ]
          },
          "metadata": {},
          "execution_count": 134
        }
      ]
    },
    {
      "cell_type": "code",
      "execution_count": 135,
      "metadata": {
        "colab": {
          "base_uri": "https://localhost:8080/",
          "height": 246
        },
        "id": "XVkMH_yxL1cG",
        "outputId": "4c2b5d2a-db38-4175-eb9f-c4f540e020c4"
      },
      "outputs": [
        {
          "output_type": "display_data",
          "data": {
            "text/plain": [
              "<Figure size 1200x300 with 4 Axes>"
            ],
            "image/png": "[encoded data removed]"
          },
          "metadata": {}
        }
      ],
      "source": [
        "_,axs = plt.subplots(1,4,figsize=(12,3))\n",
        "for ax in axs: show_preds(apply_step(params, False), ax)\n",
        "plt.tight_layout()"
      ]
    },
    {
      "cell_type": "markdown",
      "metadata": {
        "id": "GT6WRdesL1cG"
      },
      "source": [
        "#### Step 7: stop"
      ]
    },
    {
      "cell_type": "markdown",
      "metadata": {
        "id": "q7SWz-SJL1cG"
      },
      "source": [
        "### Summarizing Gradient Descent"
      ]
    },
    {
      "cell_type": "code",
      "execution_count": 136,
      "metadata": {
        "colab": {
          "base_uri": "https://localhost:8080/",
          "height": 125
        },
        "id": "-fcZGKJSL1cG",
        "outputId": "55e8395e-e1ef-4144-a8b3-0bae71e5163d"
      },
      "outputs": [
        {
          "output_type": "execute_result",
          "data": {
            "image/svg+xml": "<?xml version=\"1.0\" encoding=\"UTF-8\" standalone=\"no\"?>\n<!DOCTYPE svg PUBLIC \"-//W3C//DTD SVG 1.1//EN\"\n \"http://www.w3.org/Graphics/SVG/1.1/DTD/svg11.dtd\">\n<!-- Generated by graphviz version 2.43.0 (0)\n -->\n<!-- Title: G Pages: 1 -->\n<svg width=\"591pt\" height=\"78pt\"\n viewBox=\"0.00 0.00 591.49 78.00\" xmlns=\"http://www.w3.org/2000/svg\" xmlns:xlink=\"http://www.w3.org/1999/xlink\">\n<g id=\"graph0\" class=\"graph\" transform=\"scale(1 1) rotate(0) translate(4 74)\">\n<title>G</title>\n<polygon fill=\"white\" stroke=\"transparent\" points=\"-4,4 -4,-74 587.49,-74 587.49,4 -4,4\"/>\n<!-- init -->\n<g id=\"node1\" class=\"node\">\n<title>init</title>\n<ellipse fill=\"none\" stroke=\"black\" cx=\"27\" cy=\"-18\" rx=\"27\" ry=\"18\"/>\n<text text-anchor=\"middle\" x=\"27\" y=\"-14.3\" font-family=\"Times,serif\" font-size=\"14.00\">init</text>\n</g>\n<!-- predict -->\n<g id=\"node2\" class=\"node\">\n<title>predict</title>\n<ellipse fill=\"none\" stroke=\"black\" cx=\"126.1\" cy=\"-18\" rx=\"35.19\" ry=\"18\"/>\n<text text-anchor=\"middle\" x=\"126.1\" y=\"-14.3\" font-family=\"Times,serif\" font-size=\"14.00\">predict</text>\n</g>\n<!-- init&#45;&gt;predict -->\n<g id=\"edge1\" class=\"edge\">\n<title>init&#45;&gt;predict</title>\n<path fill=\"none\" stroke=\"black\" d=\"M54.02,-18C62.26,-18 71.62,-18 80.78,-18\"/>\n<polygon fill=\"black\" stroke=\"black\" points=\"80.96,-21.5 90.96,-18 80.96,-14.5 80.96,-21.5\"/>\n</g>\n<!-- loss -->\n<g id=\"node3\" class=\"node\">\n<title>loss</title>\n<ellipse fill=\"none\" stroke=\"black\" cx=\"225.19\" cy=\"-52\" rx=\"27\" ry=\"18\"/>\n<text text-anchor=\"middle\" x=\"225.19\" y=\"-48.3\" font-family=\"Times,serif\" font-size=\"14.00\">loss</text>\n</g>\n<!-- predict&#45;&gt;loss -->\n<g id=\"edge2\" class=\"edge\">\n<title>predict&#45;&gt;loss</title>\n<path fill=\"none\" stroke=\"black\" d=\"M155.44,-27.93C166.61,-31.84 179.52,-36.36 191.11,-40.42\"/>\n<polygon fill=\"black\" stroke=\"black\" points=\"190.29,-43.84 200.88,-43.84 192.6,-37.23 190.29,-43.84\"/>\n</g>\n<!-- gradient -->\n<g id=\"node4\" class=\"node\">\n<title>gradient</title>\n<ellipse fill=\"none\" stroke=\"black\" cx=\"361.84\" cy=\"-52\" rx=\"39.79\" ry=\"18\"/>\n<text text-anchor=\"middle\" x=\"361.84\" y=\"-48.3\" font-family=\"Times,serif\" font-size=\"14.00\">gradient</text>\n</g>\n<!-- loss&#45;&gt;gradient -->\n<g id=\"edge3\" class=\"edge\">\n<title>loss&#45;&gt;gradient</title>\n<path fill=\"none\" stroke=\"black\" d=\"M252.47,-52C269.35,-52 291.8,-52 311.88,-52\"/>\n<polygon fill=\"black\" stroke=\"black\" points=\"312.13,-55.5 322.13,-52 312.13,-48.5 312.13,-55.5\"/>\n</g>\n<!-- step -->\n<g id=\"node5\" class=\"node\">\n<title>step</title>\n<ellipse fill=\"none\" stroke=\"black\" cx=\"465.49\" cy=\"-18\" rx=\"27\" ry=\"18\"/>\n<text text-anchor=\"middle\" x=\"465.49\" y=\"-14.3\" font-family=\"Times,serif\" font-size=\"14.00\">step</text>\n</g>\n<!-- gradient&#45;&gt;step -->\n<g id=\"edge4\" class=\"edge\">\n<title>gradient&#45;&gt;step</title>\n<path fill=\"none\" stroke=\"black\" d=\"M394.17,-41.52C405.92,-37.59 419.32,-33.11 431.25,-29.12\"/>\n<polygon fill=\"black\" stroke=\"black\" points=\"432.48,-32.4 440.85,-25.91 430.26,-25.76 432.48,-32.4\"/>\n</g>\n<!-- step&#45;&gt;predict -->\n<g id=\"edge6\" class=\"edge\">\n<title>step&#45;&gt;predict</title>\n<path fill=\"none\" stroke=\"black\" d=\"M438.29,-18C380.72,-18 242.6,-18 171.32,-18\"/>\n<polygon fill=\"black\" stroke=\"black\" points=\"171.3,-14.5 161.3,-18 171.3,-21.5 171.3,-14.5\"/>\n<text text-anchor=\"middle\" x=\"287.19\" y=\"-21.8\" font-family=\"Times,serif\" font-size=\"14.00\">repeat</text>\n</g>\n<!-- stop -->\n<g id=\"node6\" class=\"node\">\n<title>stop</title>\n<ellipse fill=\"none\" stroke=\"black\" cx=\"556.49\" cy=\"-18\" rx=\"27\" ry=\"18\"/>\n<text text-anchor=\"middle\" x=\"556.49\" y=\"-14.3\" font-family=\"Times,serif\" font-size=\"14.00\">stop</text>\n</g>\n<!-- step&#45;&gt;stop -->\n<g id=\"edge5\" class=\"edge\">\n<title>step&#45;&gt;stop</title>\n<path fill=\"none\" stroke=\"black\" d=\"M492.71,-18C501.04,-18 510.4,-18 519.3,-18\"/>\n<polygon fill=\"black\" stroke=\"black\" points=\"519.45,-21.5 529.45,-18 519.45,-14.5 519.45,-21.5\"/>\n</g>\n</g>\n</svg>\n",
            "text/plain": [
              "<graphviz.sources.Source at 0x789f85605f00>"
            ]
          },
          "metadata": {},
          "execution_count": 136
        }
      ],
      "source": [
        "gv('''\n",
        "init->predict->loss->gradient->step->stop\n",
        "step->predict[label=repeat]\n",
        "''')"
      ]
    },
    {
      "cell_type": "markdown",
      "metadata": {
        "id": "HSmhYXATL1cG"
      },
      "source": [
        "## The MNIST Loss Function"
      ]
    },
    {
      "cell_type": "code",
      "execution_count": 137,
      "metadata": {
        "id": "V3NEfyXUL1cG"
      },
      "outputs": [],
      "source": [
        "train_x = torch.cat([stacked_threes, stacked_sevens]).view(-1, 28*28)"
      ]
    },
    {
      "cell_type": "code",
      "execution_count": 138,
      "metadata": {
        "colab": {
          "base_uri": "https://localhost:8080/"
        },
        "id": "yH4aIWgWL1cG",
        "outputId": "8d140410-409d-400d-a9cf-9d668c72fb95"
      },
      "outputs": [
        {
          "output_type": "execute_result",
          "data": {
            "text/plain": [
              "(torch.Size([12396, 784]), torch.Size([12396, 1]))"
            ]
          },
          "metadata": {},
          "execution_count": 138
        }
      ],
      "source": [
        "train_y = tensor([1]*len(threes) + [0]*len(sevens)).unsqueeze(1)\n",
        "train_x.shape,train_y.shape"
      ]
    },
    {
      "cell_type": "code",
      "execution_count": 141,
      "metadata": {
        "colab": {
          "base_uri": "https://localhost:8080/"
        },
        "id": "2uX0GmBVL1cG",
        "outputId": "7a1483ab-72a5-42bc-b6ef-c5e6a40cebae"
      },
      "outputs": [
        {
          "output_type": "execute_result",
          "data": {
            "text/plain": [
              "(torch.Size([784]), tensor([1]))"
            ]
          },
          "metadata": {},
          "execution_count": 141
        }
      ],
      "source": [
        "dset = list(zip(train_x,train_y))\n",
        "x,y = dset[0]\n",
        "x.shape,y"
      ]
    },
    {
      "cell_type": "code",
      "execution_count": 142,
      "metadata": {
        "id": "4SfS4nAcL1cG"
      },
      "outputs": [],
      "source": [
        "valid_x = torch.cat([valid_3_tens, valid_7_tens]).view(-1, 28*28)\n",
        "valid_y = tensor([1]*len(valid_3_tens) + [0]*len(valid_7_tens)).unsqueeze(1)\n",
        "valid_dset = list(zip(valid_x,valid_y))"
      ]
    },
    {
      "cell_type": "code",
      "execution_count": 143,
      "metadata": {
        "id": "x49KxZMXL1cG"
      },
      "outputs": [],
      "source": [
        "def init_params(size, std=1.0): return (torch.randn(size)*std).requires_grad_()"
      ]
    },
    {
      "cell_type": "code",
      "execution_count": 144,
      "metadata": {
        "id": "4e-PKBK6L1cG"
      },
      "outputs": [],
      "source": [
        "weights = init_params((28*28,1))"
      ]
    },
    {
      "cell_type": "code",
      "source": [
        "weights.shape"
      ],
      "metadata": {
        "colab": {
          "base_uri": "https://localhost:8080/"
        },
        "id": "My1VynQJaERG",
        "outputId": "f9fdb159-8a4b-4877-b390-7346a8313cac"
      },
      "execution_count": 154,
      "outputs": [
        {
          "output_type": "execute_result",
          "data": {
            "text/plain": [
              "torch.Size([784, 1])"
            ]
          },
          "metadata": {},
          "execution_count": 154
        }
      ]
    },
    {
      "cell_type": "code",
      "execution_count": 150,
      "metadata": {
        "id": "lckVQMP8L1cG"
      },
      "outputs": [],
      "source": [
        "bias = init_params(1)"
      ]
    },
    {
      "cell_type": "code",
      "execution_count": 151,
      "metadata": {
        "colab": {
          "base_uri": "https://localhost:8080/"
        },
        "id": "YhiyT0yPL1cG",
        "outputId": "54756fc5-a2dc-4a55-cba4-d7d022ad2ede"
      },
      "outputs": [
        {
          "output_type": "execute_result",
          "data": {
            "text/plain": [
              "tensor([-0.0380], grad_fn=<AddBackward0>)"
            ]
          },
          "metadata": {},
          "execution_count": 151
        }
      ],
      "source": [
        "(train_x[0]*weights.T).sum() + bias"
      ]
    },
    {
      "cell_type": "code",
      "execution_count": 155,
      "metadata": {
        "colab": {
          "base_uri": "https://localhost:8080/"
        },
        "id": "qdxVvHEiL1cG",
        "outputId": "3f6771b7-1e00-45fb-b61a-4f1931e71625"
      },
      "outputs": [
        {
          "output_type": "execute_result",
          "data": {
            "text/plain": [
              "tensor([[-0.0380],\n",
              "        [-6.6295],\n",
              "        [-1.5751],\n",
              "        ...,\n",
              "        [-0.7855],\n",
              "        [ 7.0053],\n",
              "        [-8.4896]], grad_fn=<AddBackward0>)"
            ]
          },
          "metadata": {},
          "execution_count": 155
        }
      ],
      "source": [
        "def linear1(xb): return xb@weights + bias\n",
        "preds = linear1(train_x)\n",
        "preds"
      ]
    },
    {
      "cell_type": "code",
      "execution_count": 156,
      "metadata": {
        "colab": {
          "base_uri": "https://localhost:8080/"
        },
        "id": "exRBd4OKL1cG",
        "outputId": "dc812048-f009-4bca-da3b-ea64402cbd18"
      },
      "outputs": [
        {
          "output_type": "execute_result",
          "data": {
            "text/plain": [
              "tensor([[False],\n",
              "        [False],\n",
              "        [False],\n",
              "        ...,\n",
              "        [ True],\n",
              "        [False],\n",
              "        [ True]])"
            ]
          },
          "metadata": {},
          "execution_count": 156
        }
      ],
      "source": [
        "corrects = (preds>0.0).float() == train_y\n",
        "corrects"
      ]
    },
    {
      "cell_type": "code",
      "execution_count": 161,
      "metadata": {
        "colab": {
          "base_uri": "https://localhost:8080/"
        },
        "id": "lCRXVuRAL1cH",
        "outputId": "35566d43-36bb-421b-a2b7-9cfde463dfbe"
      },
      "outputs": [
        {
          "output_type": "execute_result",
          "data": {
            "text/plain": [
              "0.35511454939842224"
            ]
          },
          "metadata": {},
          "execution_count": 161
        }
      ],
      "source": [
        "corrects.float().mean().item()"
      ]
    },
    {
      "cell_type": "code",
      "execution_count": 162,
      "metadata": {
        "id": "AfLFXlB6L1cH"
      },
      "outputs": [],
      "source": [
        "with torch.no_grad(): weights[0] *= 1.0001"
      ]
    },
    {
      "cell_type": "code",
      "execution_count": 163,
      "metadata": {
        "colab": {
          "base_uri": "https://localhost:8080/"
        },
        "id": "AMb5ejzPL1cH",
        "outputId": "3bfa88c7-15d2-4b90-d417-532964be6187"
      },
      "outputs": [
        {
          "output_type": "execute_result",
          "data": {
            "text/plain": [
              "0.35511454939842224"
            ]
          },
          "metadata": {},
          "execution_count": 163
        }
      ],
      "source": [
        "preds = linear1(train_x)\n",
        "((preds>0.0).float() == train_y).float().mean().item()"
      ]
    },
    {
      "cell_type": "code",
      "execution_count": 165,
      "metadata": {
        "id": "f0GxqH3bL1cH"
      },
      "outputs": [],
      "source": [
        "trgts  = tensor([1,0,1])\n",
        "prds   = tensor([0.9, 0.4, 0.2])"
      ]
    },
    {
      "cell_type": "code",
      "execution_count": 166,
      "metadata": {
        "id": "hlXsfJ2IL1cH"
      },
      "outputs": [],
      "source": [
        "def mnist_loss(predictions, targets):\n",
        "    return torch.where(targets==1, 1-predictions, predictions).mean()"
      ]
    },
    {
      "cell_type": "code",
      "execution_count": 167,
      "metadata": {
        "colab": {
          "base_uri": "https://localhost:8080/"
        },
        "id": "jij10zMmL1cH",
        "outputId": "f64e205d-80e1-4a29-f916-308ec3102744"
      },
      "outputs": [
        {
          "output_type": "execute_result",
          "data": {
            "text/plain": [
              "tensor([0.1000, 0.4000, 0.8000])"
            ]
          },
          "metadata": {},
          "execution_count": 167
        }
      ],
      "source": [
        "torch.where(trgts==1, 1-prds, prds)"
      ]
    },
    {
      "cell_type": "code",
      "execution_count": 168,
      "metadata": {
        "colab": {
          "base_uri": "https://localhost:8080/"
        },
        "id": "FkQ2WW9XL1cH",
        "outputId": "be8d1f22-30ae-4b68-901a-64021e228bdd"
      },
      "outputs": [
        {
          "output_type": "execute_result",
          "data": {
            "text/plain": [
              "tensor(0.4333)"
            ]
          },
          "metadata": {},
          "execution_count": 168
        }
      ],
      "source": [
        "mnist_loss(prds,trgts)"
      ]
    },
    {
      "cell_type": "code",
      "execution_count": 169,
      "metadata": {
        "colab": {
          "base_uri": "https://localhost:8080/"
        },
        "id": "I5wNN9ycL1cH",
        "outputId": "526b6c4c-ad5e-4630-b577-09e112c4e7b4"
      },
      "outputs": [
        {
          "output_type": "execute_result",
          "data": {
            "text/plain": [
              "tensor(0.2333)"
            ]
          },
          "metadata": {},
          "execution_count": 169
        }
      ],
      "source": [
        "mnist_loss(tensor([0.9, 0.4, 0.8]),trgts)"
      ]
    },
    {
      "cell_type": "markdown",
      "metadata": {
        "id": "uBoGSufuL1cH"
      },
      "source": [
        "### Sigmoid"
      ]
    },
    {
      "cell_type": "code",
      "execution_count": 170,
      "metadata": {
        "id": "RUd_RimaL1cH"
      },
      "outputs": [],
      "source": [
        "def sigmoid(x): return 1/(1+torch.exp(-x))"
      ]
    },
    {
      "cell_type": "code",
      "execution_count": 171,
      "metadata": {
        "colab": {
          "base_uri": "https://localhost:8080/",
          "height": 396
        },
        "id": "CxAEaXrfL1cH",
        "outputId": "9238d475-09e4-493a-aa16-18c01626b919"
      },
      "outputs": [
        {
          "output_type": "display_data",
          "data": {
            "text/plain": [
              "<Figure size 600x400 with 1 Axes>"
            ],
            "image/png": "[encoded data removed]"
          },
          "metadata": {}
        }
      ],
      "source": [
        "plot_function(torch.sigmoid, title='Sigmoid', min=-4, max=4)"
      ]
    },
    {
      "cell_type": "code",
      "execution_count": 172,
      "metadata": {
        "id": "MZ-fDASkL1cH"
      },
      "outputs": [],
      "source": [
        "def mnist_loss(predictions, targets):\n",
        "    predictions = predictions.sigmoid()\n",
        "    return torch.where(targets==1, 1-predictions, predictions).mean()"
      ]
    },
    {
      "cell_type": "markdown",
      "metadata": {
        "id": "iRRuL_7pL1cI"
      },
      "source": [
        "### SGD and Mini-Batches"
      ]
    },
    {
      "cell_type": "code",
      "execution_count": 173,
      "metadata": {
        "colab": {
          "base_uri": "https://localhost:8080/"
        },
        "id": "csIZ4wT5L1cI",
        "outputId": "b586c7b6-c3ef-4b3d-b408-050f44368c88"
      },
      "outputs": [
        {
          "output_type": "execute_result",
          "data": {
            "text/plain": [
              "[tensor([ 3, 12,  8, 10,  2]),\n",
              " tensor([ 9,  4,  7, 14,  5]),\n",
              " tensor([ 1, 13,  0,  6, 11])]"
            ]
          },
          "metadata": {},
          "execution_count": 173
        }
      ],
      "source": [
        "coll = range(15)\n",
        "dl = DataLoader(coll, batch_size=5, shuffle=True)\n",
        "list(dl)"
      ]
    },
    {
      "cell_type": "code",
      "execution_count": 174,
      "metadata": {
        "colab": {
          "base_uri": "https://localhost:8080/"
        },
        "id": "ym_iFpw8L1cI",
        "outputId": "6a64f8d8-ae53-4882-e4d7-7c1d7e600968"
      },
      "outputs": [
        {
          "output_type": "execute_result",
          "data": {
            "text/plain": [
              "(#26) [(0, 'a'),(1, 'b'),(2, 'c'),(3, 'd'),(4, 'e'),(5, 'f'),(6, 'g'),(7, 'h'),(8, 'i'),(9, 'j')...]"
            ]
          },
          "metadata": {},
          "execution_count": 174
        }
      ],
      "source": [
        "ds = L(enumerate(string.ascii_lowercase))\n",
        "ds"
      ]
    },
    {
      "cell_type": "code",
      "execution_count": 175,
      "metadata": {
        "colab": {
          "base_uri": "https://localhost:8080/"
        },
        "id": "Vro8gRHCL1cI",
        "outputId": "a877e333-85e7-4c70-a82c-4c322060de6a"
      },
      "outputs": [
        {
          "output_type": "execute_result",
          "data": {
            "text/plain": [
              "[(tensor([17, 18, 10, 22,  8, 14]), ('r', 's', 'k', 'w', 'i', 'o')),\n",
              " (tensor([20, 15,  9, 13, 21, 12]), ('u', 'p', 'j', 'n', 'v', 'm')),\n",
              " (tensor([ 7, 25,  6,  5, 11, 23]), ('h', 'z', 'g', 'f', 'l', 'x')),\n",
              " (tensor([ 1,  3,  0, 24, 19, 16]), ('b', 'd', 'a', 'y', 't', 'q')),\n",
              " (tensor([2, 4]), ('c', 'e'))]"
            ]
          },
          "metadata": {},
          "execution_count": 175
        }
      ],
      "source": [
        "dl = DataLoader(ds, batch_size=6, shuffle=True)\n",
        "list(dl)"
      ]
    },
    {
      "cell_type": "markdown",
      "metadata": {
        "id": "dx7Ur74BL1cI"
      },
      "source": [
        "## Putting It All Together"
      ]
    },
    {
      "cell_type": "code",
      "execution_count": 176,
      "metadata": {
        "id": "r2JmgVKUL1cI"
      },
      "outputs": [],
      "source": [
        "weights = init_params((28*28,1))\n",
        "bias = init_params(1)"
      ]
    },
    {
      "cell_type": "code",
      "execution_count": 177,
      "metadata": {
        "colab": {
          "base_uri": "https://localhost:8080/"
        },
        "id": "0mf8ch6FL1cI",
        "outputId": "1eb31ab2-1a3a-42d2-a424-e09060c441ad"
      },
      "outputs": [
        {
          "output_type": "execute_result",
          "data": {
            "text/plain": [
              "(torch.Size([256, 784]), torch.Size([256, 1]))"
            ]
          },
          "metadata": {},
          "execution_count": 177
        }
      ],
      "source": [
        "dl = DataLoader(dset, batch_size=256)\n",
        "xb,yb = first(dl)\n",
        "xb.shape,yb.shape"
      ]
    },
    {
      "cell_type": "code",
      "execution_count": 178,
      "metadata": {
        "id": "aMRv3u2HL1cI"
      },
      "outputs": [],
      "source": [
        "valid_dl = DataLoader(valid_dset, batch_size=256)"
      ]
    },
    {
      "cell_type": "code",
      "execution_count": 179,
      "metadata": {
        "colab": {
          "base_uri": "https://localhost:8080/"
        },
        "id": "yG4nGOebL1cI",
        "outputId": "b80562b9-e4c8-4dbc-92f6-76a8939a879b"
      },
      "outputs": [
        {
          "output_type": "execute_result",
          "data": {
            "text/plain": [
              "torch.Size([4, 784])"
            ]
          },
          "metadata": {},
          "execution_count": 179
        }
      ],
      "source": [
        "batch = train_x[:4]\n",
        "batch.shape"
      ]
    },
    {
      "cell_type": "code",
      "execution_count": 180,
      "metadata": {
        "colab": {
          "base_uri": "https://localhost:8080/"
        },
        "id": "zIbv2nexL1cI",
        "outputId": "8727ce72-2611-45c1-de75-607657976c67"
      },
      "outputs": [
        {
          "output_type": "execute_result",
          "data": {
            "text/plain": [
              "tensor([[15.2901],\n",
              "        [17.3627],\n",
              "        [12.2101],\n",
              "        [25.9101]], grad_fn=<AddBackward0>)"
            ]
          },
          "metadata": {},
          "execution_count": 180
        }
      ],
      "source": [
        "preds = linear1(batch)\n",
        "preds"
      ]
    },
    {
      "cell_type": "code",
      "execution_count": 181,
      "metadata": {
        "colab": {
          "base_uri": "https://localhost:8080/"
        },
        "id": "f2dqDoFeL1cI",
        "outputId": "46816df6-10e1-485a-a5b4-c9be0d3e0933"
      },
      "outputs": [
        {
          "output_type": "execute_result",
          "data": {
            "text/plain": [
              "tensor(1.3113e-06, grad_fn=<MeanBackward0>)"
            ]
          },
          "metadata": {},
          "execution_count": 181
        }
      ],
      "source": [
        "loss = mnist_loss(preds, train_y[:4])\n",
        "loss"
      ]
    },
    {
      "cell_type": "code",
      "execution_count": 182,
      "metadata": {
        "colab": {
          "base_uri": "https://localhost:8080/"
        },
        "id": "VUV-USf1L1cI",
        "outputId": "cd1f911c-339c-4e6f-8e41-95796d884f52"
      },
      "outputs": [
        {
          "output_type": "execute_result",
          "data": {
            "text/plain": [
              "(torch.Size([784, 1]), tensor(-1.8805e-07), tensor([-1.3113e-06]))"
            ]
          },
          "metadata": {},
          "execution_count": 182
        }
      ],
      "source": [
        "loss.backward()\n",
        "weights.grad.shape,weights.grad.mean(),bias.grad"
      ]
    },
    {
      "cell_type": "code",
      "execution_count": 183,
      "metadata": {
        "id": "C1zxOCykL1cI"
      },
      "outputs": [],
      "source": [
        "def calc_grad(xb, yb, model):\n",
        "    preds = model(xb)\n",
        "    loss = mnist_loss(preds, yb)\n",
        "    loss.backward()"
      ]
    },
    {
      "cell_type": "code",
      "execution_count": 184,
      "metadata": {
        "colab": {
          "base_uri": "https://localhost:8080/"
        },
        "id": "sEQeBGKAL1cI",
        "outputId": "33f16aa4-d024-49b7-923c-fa19a5f94292"
      },
      "outputs": [
        {
          "output_type": "execute_result",
          "data": {
            "text/plain": [
              "(tensor(-3.7610e-07), tensor([-2.6226e-06]))"
            ]
          },
          "metadata": {},
          "execution_count": 184
        }
      ],
      "source": [
        "calc_grad(batch, train_y[:4], linear1)\n",
        "weights.grad.mean(),bias.grad"
      ]
    },
    {
      "cell_type": "code",
      "execution_count": 185,
      "metadata": {
        "colab": {
          "base_uri": "https://localhost:8080/"
        },
        "id": "BhD46UJ0L1cI",
        "outputId": "06fdc579-1d53-4321-ac44-f2aa98284659"
      },
      "outputs": [
        {
          "output_type": "execute_result",
          "data": {
            "text/plain": [
              "(tensor(-5.6415e-07), tensor([-3.9339e-06]))"
            ]
          },
          "metadata": {},
          "execution_count": 185
        }
      ],
      "source": [
        "calc_grad(batch, train_y[:4], linear1)\n",
        "weights.grad.mean(),bias.grad"
      ]
    },
    {
      "cell_type": "code",
      "execution_count": 186,
      "metadata": {
        "id": "hT04wgKAL1cI"
      },
      "outputs": [],
      "source": [
        "weights.grad.zero_()\n",
        "bias.grad.zero_();"
      ]
    },
    {
      "cell_type": "code",
      "execution_count": 187,
      "metadata": {
        "id": "Uwxz_dDOL1cI"
      },
      "outputs": [],
      "source": [
        "def train_epoch(model, lr, params):\n",
        "    for xb,yb in dl:\n",
        "        calc_grad(xb, yb, model)\n",
        "        for p in params:\n",
        "            p.data -= p.grad*lr\n",
        "            p.grad.zero_()"
      ]
    },
    {
      "cell_type": "code",
      "execution_count": 188,
      "metadata": {
        "colab": {
          "base_uri": "https://localhost:8080/"
        },
        "id": "c33m48EoL1cJ",
        "outputId": "19016fd6-7480-4d22-e049-2c8e50ac090d"
      },
      "outputs": [
        {
          "output_type": "execute_result",
          "data": {
            "text/plain": [
              "tensor([[True],\n",
              "        [True],\n",
              "        [True],\n",
              "        [True]])"
            ]
          },
          "metadata": {},
          "execution_count": 188
        }
      ],
      "source": [
        "(preds>0.0).float() == train_y[:4]"
      ]
    },
    {
      "cell_type": "code",
      "execution_count": 189,
      "metadata": {
        "id": "axmJadBHL1cJ"
      },
      "outputs": [],
      "source": [
        "def batch_accuracy(xb, yb):\n",
        "    preds = xb.sigmoid()\n",
        "    correct = (preds>0.5) == yb\n",
        "    return correct.float().mean()"
      ]
    },
    {
      "cell_type": "code",
      "execution_count": 190,
      "metadata": {
        "colab": {
          "base_uri": "https://localhost:8080/"
        },
        "id": "7XJ8eLmKL1cJ",
        "outputId": "e4e64632-2a0b-4432-8261-c5f5710e5f10"
      },
      "outputs": [
        {
          "output_type": "execute_result",
          "data": {
            "text/plain": [
              "tensor(1.)"
            ]
          },
          "metadata": {},
          "execution_count": 190
        }
      ],
      "source": [
        "batch_accuracy(linear1(batch), train_y[:4])"
      ]
    },
    {
      "cell_type": "code",
      "execution_count": 191,
      "metadata": {
        "id": "dlOtBbUFL1cJ"
      },
      "outputs": [],
      "source": [
        "def validate_epoch(model):\n",
        "    accs = [batch_accuracy(model(xb), yb) for xb,yb in valid_dl]\n",
        "    return round(torch.stack(accs).mean().item(), 4)"
      ]
    },
    {
      "cell_type": "code",
      "execution_count": 192,
      "metadata": {
        "colab": {
          "base_uri": "https://localhost:8080/"
        },
        "id": "RFSUfD3FL1cJ",
        "outputId": "b7b7b429-b518-4fec-b8bb-7b4277ce5037"
      },
      "outputs": [
        {
          "output_type": "execute_result",
          "data": {
            "text/plain": [
              "0.5191"
            ]
          },
          "metadata": {},
          "execution_count": 192
        }
      ],
      "source": [
        "validate_epoch(linear1)"
      ]
    },
    {
      "cell_type": "code",
      "execution_count": 193,
      "metadata": {
        "colab": {
          "base_uri": "https://localhost:8080/"
        },
        "id": "rqJyambmL1cJ",
        "outputId": "c3eb16eb-0a52-4d67-c3fa-4116ee8513c2"
      },
      "outputs": [
        {
          "output_type": "execute_result",
          "data": {
            "text/plain": [
              "0.6258"
            ]
          },
          "metadata": {},
          "execution_count": 193
        }
      ],
      "source": [
        "lr = 1.\n",
        "params = weights,bias\n",
        "train_epoch(linear1, lr, params)\n",
        "validate_epoch(linear1)"
      ]
    },
    {
      "cell_type": "code",
      "execution_count": 194,
      "metadata": {
        "colab": {
          "base_uri": "https://localhost:8080/"
        },
        "id": "xyu57yZIL1cJ",
        "outputId": "ec565f79-44b6-4353-f8c4-c88ed9fe1554"
      },
      "outputs": [
        {
          "output_type": "stream",
          "name": "stdout",
          "text": [
            "0.8075 0.8988 0.9305 0.9412 0.9452 0.9491 0.9525 0.9564 0.9598 0.9618 0.9627 0.9632 0.9637 0.9652 0.9652 0.9661 0.9661 0.9661 0.9656 0.9666 "
          ]
        }
      ],
      "source": [
        "for i in range(20):\n",
        "    train_epoch(linear1, lr, params)\n",
        "    print(validate_epoch(linear1), end=' ')"
      ]
    },
    {
      "cell_type": "markdown",
      "metadata": {
        "id": "R6Cy8igQL1cJ"
      },
      "source": [
        "### Creating an Optimizer"
      ]
    },
    {
      "cell_type": "code",
      "execution_count": 195,
      "metadata": {
        "id": "dDe1uQkuL1cJ"
      },
      "outputs": [],
      "source": [
        "linear_model = nn.Linear(28*28,1)"
      ]
    },
    {
      "cell_type": "code",
      "execution_count": 196,
      "metadata": {
        "colab": {
          "base_uri": "https://localhost:8080/"
        },
        "id": "ceEVjMhmL1cJ",
        "outputId": "893a699d-d8e9-435e-bde4-f059732d2b3c"
      },
      "outputs": [
        {
          "output_type": "execute_result",
          "data": {
            "text/plain": [
              "(torch.Size([1, 784]), torch.Size([1]))"
            ]
          },
          "metadata": {},
          "execution_count": 196
        }
      ],
      "source": [
        "w,b = linear_model.parameters()\n",
        "w.shape,b.shape"
      ]
    },
    {
      "cell_type": "code",
      "execution_count": 201,
      "metadata": {
        "id": "iQpAqVL_L1cJ"
      },
      "outputs": [],
      "source": [
        "class BasicOptim:\n",
        "    def __init__(self,params,lr): self.params,self.lr = list(params),lr\n",
        "\n",
        "    def step(self, *args, **kwargs):\n",
        "        for p in self.params: p.data -= p.grad * self.lr\n",
        "\n",
        "    def zero_grad(self, *args, **kwargs):\n",
        "        for p in self.params: p.grad = None"
      ]
    },
    {
      "cell_type": "code",
      "execution_count": 202,
      "metadata": {
        "id": "m0OMUzw0L1cJ"
      },
      "outputs": [],
      "source": [
        "opt = BasicOptim(linear_model.parameters(), lr)"
      ]
    },
    {
      "cell_type": "code",
      "execution_count": 203,
      "metadata": {
        "id": "fzu2XJ8rL1cJ"
      },
      "outputs": [],
      "source": [
        "def train_epoch(model):\n",
        "    for xb,yb in dl:\n",
        "        calc_grad(xb, yb, model)\n",
        "        opt.step()\n",
        "        opt.zero_grad()"
      ]
    },
    {
      "cell_type": "code",
      "execution_count": 204,
      "metadata": {
        "colab": {
          "base_uri": "https://localhost:8080/"
        },
        "id": "b8wEVo6bL1cK",
        "outputId": "49f10102-29bd-4a89-e93d-8cc2dd4d49ae"
      },
      "outputs": [
        {
          "output_type": "execute_result",
          "data": {
            "text/plain": [
              "0.5296"
            ]
          },
          "metadata": {},
          "execution_count": 204
        }
      ],
      "source": [
        "validate_epoch(linear_model)"
      ]
    },
    {
      "cell_type": "code",
      "execution_count": 205,
      "metadata": {
        "id": "NqXj0Ms2L1cK"
      },
      "outputs": [],
      "source": [
        "def train_model(model, epochs):\n",
        "    for i in range(epochs):\n",
        "        train_epoch(model)\n",
        "        print(validate_epoch(model), end=' ')"
      ]
    },
    {
      "cell_type": "code",
      "execution_count": 206,
      "metadata": {
        "colab": {
          "base_uri": "https://localhost:8080/"
        },
        "id": "8t1xttgyL1cK",
        "outputId": "0c608fb2-3f5b-4ca9-e75c-cce2e35395f6"
      },
      "outputs": [
        {
          "output_type": "stream",
          "name": "stdout",
          "text": [
            "0.4932 0.7163 0.8623 0.9175 0.936 0.9506 0.957 0.9638 0.9663 0.9682 0.9692 0.9721 0.9736 0.9751 0.976 0.9765 0.9775 0.978 0.978 0.978 "
          ]
        }
      ],
      "source": [
        "train_model(linear_model, 20)"
      ]
    },
    {
      "cell_type": "code",
      "execution_count": 207,
      "metadata": {
        "colab": {
          "base_uri": "https://localhost:8080/"
        },
        "id": "xNRGOEbyL1cK",
        "outputId": "4fe1a020-8070-4e9d-92ff-4b1be48a31cd"
      },
      "outputs": [
        {
          "output_type": "stream",
          "name": "stdout",
          "text": [
            "0.4932 0.8662 0.8301 0.9106 0.9321 0.9462 0.955 0.9623 0.9653 0.9667 0.9687 0.9716 0.9736 0.9751 0.976 0.9765 0.9775 0.9785 0.9785 0.979 "
          ]
        }
      ],
      "source": [
        "linear_model = nn.Linear(28*28,1)\n",
        "opt = SGD(linear_model.parameters(), lr)\n",
        "train_model(linear_model, 20)"
      ]
    },
    {
      "cell_type": "code",
      "execution_count": 208,
      "metadata": {
        "id": "W-oGj2RwL1cK"
      },
      "outputs": [],
      "source": [
        "dls = DataLoaders(dl, valid_dl)"
      ]
    },
    {
      "cell_type": "code",
      "execution_count": 209,
      "metadata": {
        "id": "gasWjncsL1cK"
      },
      "outputs": [],
      "source": [
        "learn = Learner(dls, nn.Linear(28*28,1), opt_func=SGD,\n",
        "                loss_func=mnist_loss, metrics=batch_accuracy)"
      ]
    },
    {
      "cell_type": "code",
      "execution_count": 210,
      "metadata": {
        "colab": {
          "base_uri": "https://localhost:8080/",
          "height": 363
        },
        "id": "ZUKIKLkEL1cK",
        "outputId": "316a182b-43c9-4f0e-b174-542abf01812e"
      },
      "outputs": [
        {
          "output_type": "display_data",
          "data": {
            "text/plain": [
              "<IPython.core.display.HTML object>"
            ],
            "text/html": [
              "\n",
              "<style>\n",
              "    /* Turns off some styling */\n",
              "    progress {\n",
              "        /* gets rid of default border in Firefox and Opera. */\n",
              "        border: none;\n",
              "        /* Needs to be in here for Safari polyfill so background images work as expected. */\n",
              "        background-size: auto;\n",
              "    }\n",
              "    progress:not([value]), progress:not([value])::-webkit-progress-bar {\n",
              "        background: repeating-linear-gradient(45deg, #7e7e7e, #7e7e7e 10px, #5c5c5c 10px, #5c5c5c 20px);\n",
              "    }\n",
              "    .progress-bar-interrupted, .progress-bar-interrupted::-webkit-progress-bar {\n",
              "        background: #F44336;\n",
              "    }\n",
              "</style>\n"
            ]
          },
          "metadata": {}
        },
        {
          "output_type": "display_data",
          "data": {
            "text/plain": [
              "<IPython.core.display.HTML object>"
            ],
            "text/html": [
              "<table border=\"1\" class=\"dataframe\">\n",
              "  <thead>\n",
              "    <tr style=\"text-align: left;\">\n",
              "      <th>epoch</th>\n",
              "      <th>train_loss</th>\n",
              "      <th>valid_loss</th>\n",
              "      <th>batch_accuracy</th>\n",
              "      <th>time</th>\n",
              "    </tr>\n",
              "  </thead>\n",
              "  <tbody>\n",
              "    <tr>\n",
              "      <td>0</td>\n",
              "      <td>0.637046</td>\n",
              "      <td>0.503310</td>\n",
              "      <td>0.495584</td>\n",
              "      <td>00:00</td>\n",
              "    </tr>\n",
              "    <tr>\n",
              "      <td>1</td>\n",
              "      <td>0.465154</td>\n",
              "      <td>0.239233</td>\n",
              "      <td>0.786555</td>\n",
              "      <td>00:00</td>\n",
              "    </tr>\n",
              "    <tr>\n",
              "      <td>2</td>\n",
              "      <td>0.173238</td>\n",
              "      <td>0.160788</td>\n",
              "      <td>0.853778</td>\n",
              "      <td>00:00</td>\n",
              "    </tr>\n",
              "    <tr>\n",
              "      <td>3</td>\n",
              "      <td>0.077069</td>\n",
              "      <td>0.100044</td>\n",
              "      <td>0.916094</td>\n",
              "      <td>00:00</td>\n",
              "    </tr>\n",
              "    <tr>\n",
              "      <td>4</td>\n",
              "      <td>0.041615</td>\n",
              "      <td>0.074581</td>\n",
              "      <td>0.936703</td>\n",
              "      <td>00:00</td>\n",
              "    </tr>\n",
              "    <tr>\n",
              "      <td>5</td>\n",
              "      <td>0.027732</td>\n",
              "      <td>0.060384</td>\n",
              "      <td>0.948970</td>\n",
              "      <td>00:00</td>\n",
              "    </tr>\n",
              "    <tr>\n",
              "      <td>6</td>\n",
              "      <td>0.021996</td>\n",
              "      <td>0.051395</td>\n",
              "      <td>0.956330</td>\n",
              "      <td>00:00</td>\n",
              "    </tr>\n",
              "    <tr>\n",
              "      <td>7</td>\n",
              "      <td>0.019420</td>\n",
              "      <td>0.045351</td>\n",
              "      <td>0.962218</td>\n",
              "      <td>00:00</td>\n",
              "    </tr>\n",
              "    <tr>\n",
              "      <td>8</td>\n",
              "      <td>0.018098</td>\n",
              "      <td>0.041076</td>\n",
              "      <td>0.966143</td>\n",
              "      <td>00:00</td>\n",
              "    </tr>\n",
              "    <tr>\n",
              "      <td>9</td>\n",
              "      <td>0.017295</td>\n",
              "      <td>0.037913</td>\n",
              "      <td>0.968597</td>\n",
              "      <td>00:00</td>\n",
              "    </tr>\n",
              "  </tbody>\n",
              "</table>"
            ]
          },
          "metadata": {}
        }
      ],
      "source": [
        "learn.fit(10, lr=lr)"
      ]
    },
    {
      "cell_type": "markdown",
      "metadata": {
        "id": "HQeNvnSYL1cK"
      },
      "source": [
        "## Adding a Nonlinearity"
      ]
    },
    {
      "cell_type": "code",
      "execution_count": 211,
      "metadata": {
        "id": "pKkYnbsLL1cK"
      },
      "outputs": [],
      "source": [
        "def simple_net(xb):\n",
        "    res = xb@w1 + b1\n",
        "    res = res.max(tensor(0.0))\n",
        "    res = res@w2 + b2\n",
        "    return res"
      ]
    },
    {
      "cell_type": "code",
      "execution_count": 212,
      "metadata": {
        "id": "_IlxOeSNL1cK"
      },
      "outputs": [],
      "source": [
        "w1 = init_params((28*28,30))\n",
        "b1 = init_params(30)\n",
        "w2 = init_params((30,1))\n",
        "b2 = init_params(1)"
      ]
    },
    {
      "cell_type": "code",
      "execution_count": 213,
      "metadata": {
        "colab": {
          "base_uri": "https://localhost:8080/",
          "height": 372
        },
        "id": "tdJz7vvmL1cK",
        "outputId": "9b277623-667a-4e21-a077-a28ddc888e79"
      },
      "outputs": [
        {
          "output_type": "display_data",
          "data": {
            "text/plain": [
              "<Figure size 600x400 with 1 Axes>"
            ],
            "image/png": "[encoded data removed]"
          },
          "metadata": {}
        }
      ],
      "source": [
        "plot_function(F.relu)"
      ]
    },
    {
      "cell_type": "code",
      "execution_count": 214,
      "metadata": {
        "id": "n25-xdzRL1cK"
      },
      "outputs": [],
      "source": [
        "simple_net = nn.Sequential(\n",
        "    nn.Linear(28*28,30),\n",
        "    nn.ReLU(),\n",
        "    nn.Linear(30,1)\n",
        ")"
      ]
    },
    {
      "cell_type": "code",
      "execution_count": 215,
      "metadata": {
        "id": "bqISUm1aL1cK"
      },
      "outputs": [],
      "source": [
        "learn = Learner(dls, simple_net, opt_func=SGD,\n",
        "                loss_func=mnist_loss, metrics=batch_accuracy)"
      ]
    },
    {
      "cell_type": "code",
      "execution_count": 216,
      "metadata": {
        "colab": {
          "base_uri": "https://localhost:8080/",
          "height": 1000
        },
        "id": "Ap_xUOa4L1cK",
        "outputId": "703a54b5-9dc4-45f8-f843-9066d6132386"
      },
      "outputs": [
        {
          "output_type": "display_data",
          "data": {
            "text/plain": [
              "<IPython.core.display.HTML object>"
            ],
            "text/html": [
              "\n",
              "<style>\n",
              "    /* Turns off some styling */\n",
              "    progress {\n",
              "        /* gets rid of default border in Firefox and Opera. */\n",
              "        border: none;\n",
              "        /* Needs to be in here for Safari polyfill so background images work as expected. */\n",
              "        background-size: auto;\n",
              "    }\n",
              "    progress:not([value]), progress:not([value])::-webkit-progress-bar {\n",
              "        background: repeating-linear-gradient(45deg, #7e7e7e, #7e7e7e 10px, #5c5c5c 10px, #5c5c5c 20px);\n",
              "    }\n",
              "    .progress-bar-interrupted, .progress-bar-interrupted::-webkit-progress-bar {\n",
              "        background: #F44336;\n",
              "    }\n",
              "</style>\n"
            ]
          },
          "metadata": {}
        },
        {
          "output_type": "display_data",
          "data": {
            "text/plain": [
              "<IPython.core.display.HTML object>"
            ],
            "text/html": [
              "<table border=\"1\" class=\"dataframe\">\n",
              "  <thead>\n",
              "    <tr style=\"text-align: left;\">\n",
              "      <th>epoch</th>\n",
              "      <th>train_loss</th>\n",
              "      <th>valid_loss</th>\n",
              "      <th>batch_accuracy</th>\n",
              "      <th>time</th>\n",
              "    </tr>\n",
              "  </thead>\n",
              "  <tbody>\n",
              "    <tr>\n",
              "      <td>0</td>\n",
              "      <td>0.270501</td>\n",
              "      <td>0.415193</td>\n",
              "      <td>0.504416</td>\n",
              "      <td>00:00</td>\n",
              "    </tr>\n",
              "    <tr>\n",
              "      <td>1</td>\n",
              "      <td>0.130624</td>\n",
              "      <td>0.218204</td>\n",
              "      <td>0.818940</td>\n",
              "      <td>00:00</td>\n",
              "    </tr>\n",
              "    <tr>\n",
              "      <td>2</td>\n",
              "      <td>0.074510</td>\n",
              "      <td>0.112016</td>\n",
              "      <td>0.917566</td>\n",
              "      <td>00:00</td>\n",
              "    </tr>\n",
              "    <tr>\n",
              "      <td>3</td>\n",
              "      <td>0.050401</td>\n",
              "      <td>0.076601</td>\n",
              "      <td>0.942591</td>\n",
              "      <td>00:00</td>\n",
              "    </tr>\n",
              "    <tr>\n",
              "      <td>4</td>\n",
              "      <td>0.039023</td>\n",
              "      <td>0.060131</td>\n",
              "      <td>0.956820</td>\n",
              "      <td>00:00</td>\n",
              "    </tr>\n",
              "    <tr>\n",
              "      <td>5</td>\n",
              "      <td>0.033071</td>\n",
              "      <td>0.050772</td>\n",
              "      <td>0.964671</td>\n",
              "      <td>00:00</td>\n",
              "    </tr>\n",
              "    <tr>\n",
              "      <td>6</td>\n",
              "      <td>0.029560</td>\n",
              "      <td>0.044829</td>\n",
              "      <td>0.966634</td>\n",
              "      <td>00:00</td>\n",
              "    </tr>\n",
              "    <tr>\n",
              "      <td>7</td>\n",
              "      <td>0.027227</td>\n",
              "      <td>0.040753</td>\n",
              "      <td>0.967615</td>\n",
              "      <td>00:00</td>\n",
              "    </tr>\n",
              "    <tr>\n",
              "      <td>8</td>\n",
              "      <td>0.025521</td>\n",
              "      <td>0.037778</td>\n",
              "      <td>0.969087</td>\n",
              "      <td>00:00</td>\n",
              "    </tr>\n",
              "    <tr>\n",
              "      <td>9</td>\n",
              "      <td>0.024189</td>\n",
              "      <td>0.035502</td>\n",
              "      <td>0.971541</td>\n",
              "      <td>00:00</td>\n",
              "    </tr>\n",
              "    <tr>\n",
              "      <td>10</td>\n",
              "      <td>0.023105</td>\n",
              "      <td>0.033692</td>\n",
              "      <td>0.972522</td>\n",
              "      <td>00:00</td>\n",
              "    </tr>\n",
              "    <tr>\n",
              "      <td>11</td>\n",
              "      <td>0.022198</td>\n",
              "      <td>0.032209</td>\n",
              "      <td>0.973013</td>\n",
              "      <td>00:00</td>\n",
              "    </tr>\n",
              "    <tr>\n",
              "      <td>12</td>\n",
              "      <td>0.021425</td>\n",
              "      <td>0.030961</td>\n",
              "      <td>0.974485</td>\n",
              "      <td>00:00</td>\n",
              "    </tr>\n",
              "    <tr>\n",
              "      <td>13</td>\n",
              "      <td>0.020756</td>\n",
              "      <td>0.029891</td>\n",
              "      <td>0.974975</td>\n",
              "      <td>00:00</td>\n",
              "    </tr>\n",
              "    <tr>\n",
              "      <td>14</td>\n",
              "      <td>0.020170</td>\n",
              "      <td>0.028960</td>\n",
              "      <td>0.974975</td>\n",
              "      <td>00:00</td>\n",
              "    </tr>\n",
              "    <tr>\n",
              "      <td>15</td>\n",
              "      <td>0.019652</td>\n",
              "      <td>0.028140</td>\n",
              "      <td>0.976448</td>\n",
              "      <td>00:00</td>\n",
              "    </tr>\n",
              "    <tr>\n",
              "      <td>16</td>\n",
              "      <td>0.019188</td>\n",
              "      <td>0.027411</td>\n",
              "      <td>0.976938</td>\n",
              "      <td>00:00</td>\n",
              "    </tr>\n",
              "    <tr>\n",
              "      <td>17</td>\n",
              "      <td>0.018771</td>\n",
              "      <td>0.026758</td>\n",
              "      <td>0.977920</td>\n",
              "      <td>00:00</td>\n",
              "    </tr>\n",
              "    <tr>\n",
              "      <td>18</td>\n",
              "      <td>0.018391</td>\n",
              "      <td>0.026170</td>\n",
              "      <td>0.978410</td>\n",
              "      <td>00:00</td>\n",
              "    </tr>\n",
              "    <tr>\n",
              "      <td>19</td>\n",
              "      <td>0.018045</td>\n",
              "      <td>0.025637</td>\n",
              "      <td>0.978901</td>\n",
              "      <td>00:00</td>\n",
              "    </tr>\n",
              "    <tr>\n",
              "      <td>20</td>\n",
              "      <td>0.017727</td>\n",
              "      <td>0.025153</td>\n",
              "      <td>0.979392</td>\n",
              "      <td>00:00</td>\n",
              "    </tr>\n",
              "    <tr>\n",
              "      <td>21</td>\n",
              "      <td>0.017432</td>\n",
              "      <td>0.024710</td>\n",
              "      <td>0.979392</td>\n",
              "      <td>00:00</td>\n",
              "    </tr>\n",
              "    <tr>\n",
              "      <td>22</td>\n",
              "      <td>0.017159</td>\n",
              "      <td>0.024305</td>\n",
              "      <td>0.979392</td>\n",
              "      <td>00:00</td>\n",
              "    </tr>\n",
              "    <tr>\n",
              "      <td>23</td>\n",
              "      <td>0.016904</td>\n",
              "      <td>0.023931</td>\n",
              "      <td>0.980373</td>\n",
              "      <td>00:00</td>\n",
              "    </tr>\n",
              "    <tr>\n",
              "      <td>24</td>\n",
              "      <td>0.016665</td>\n",
              "      <td>0.023586</td>\n",
              "      <td>0.980373</td>\n",
              "      <td>00:00</td>\n",
              "    </tr>\n",
              "    <tr>\n",
              "      <td>25</td>\n",
              "      <td>0.016440</td>\n",
              "      <td>0.023266</td>\n",
              "      <td>0.980373</td>\n",
              "      <td>00:00</td>\n",
              "    </tr>\n",
              "    <tr>\n",
              "      <td>26</td>\n",
              "      <td>0.016229</td>\n",
              "      <td>0.022969</td>\n",
              "      <td>0.981354</td>\n",
              "      <td>00:00</td>\n",
              "    </tr>\n",
              "    <tr>\n",
              "      <td>27</td>\n",
              "      <td>0.016029</td>\n",
              "      <td>0.022693</td>\n",
              "      <td>0.981845</td>\n",
              "      <td>00:00</td>\n",
              "    </tr>\n",
              "    <tr>\n",
              "      <td>28</td>\n",
              "      <td>0.015839</td>\n",
              "      <td>0.022436</td>\n",
              "      <td>0.982336</td>\n",
              "      <td>00:00</td>\n",
              "    </tr>\n",
              "    <tr>\n",
              "      <td>29</td>\n",
              "      <td>0.015659</td>\n",
              "      <td>0.022196</td>\n",
              "      <td>0.982336</td>\n",
              "      <td>00:00</td>\n",
              "    </tr>\n",
              "    <tr>\n",
              "      <td>30</td>\n",
              "      <td>0.015488</td>\n",
              "      <td>0.021972</td>\n",
              "      <td>0.982826</td>\n",
              "      <td>00:00</td>\n",
              "    </tr>\n",
              "    <tr>\n",
              "      <td>31</td>\n",
              "      <td>0.015325</td>\n",
              "      <td>0.021761</td>\n",
              "      <td>0.982826</td>\n",
              "      <td>00:00</td>\n",
              "    </tr>\n",
              "    <tr>\n",
              "      <td>32</td>\n",
              "      <td>0.015168</td>\n",
              "      <td>0.021564</td>\n",
              "      <td>0.983317</td>\n",
              "      <td>00:00</td>\n",
              "    </tr>\n",
              "    <tr>\n",
              "      <td>33</td>\n",
              "      <td>0.015019</td>\n",
              "      <td>0.021378</td>\n",
              "      <td>0.982826</td>\n",
              "      <td>00:00</td>\n",
              "    </tr>\n",
              "    <tr>\n",
              "      <td>34</td>\n",
              "      <td>0.014875</td>\n",
              "      <td>0.021204</td>\n",
              "      <td>0.983317</td>\n",
              "      <td>00:00</td>\n",
              "    </tr>\n",
              "    <tr>\n",
              "      <td>35</td>\n",
              "      <td>0.014737</td>\n",
              "      <td>0.021039</td>\n",
              "      <td>0.983317</td>\n",
              "      <td>00:00</td>\n",
              "    </tr>\n",
              "    <tr>\n",
              "      <td>36</td>\n",
              "      <td>0.014605</td>\n",
              "      <td>0.020884</td>\n",
              "      <td>0.983317</td>\n",
              "      <td>00:00</td>\n",
              "    </tr>\n",
              "    <tr>\n",
              "      <td>37</td>\n",
              "      <td>0.014477</td>\n",
              "      <td>0.020737</td>\n",
              "      <td>0.983317</td>\n",
              "      <td>00:00</td>\n",
              "    </tr>\n",
              "    <tr>\n",
              "      <td>38</td>\n",
              "      <td>0.014353</td>\n",
              "      <td>0.020597</td>\n",
              "      <td>0.983317</td>\n",
              "      <td>00:00</td>\n",
              "    </tr>\n",
              "    <tr>\n",
              "      <td>39</td>\n",
              "      <td>0.014234</td>\n",
              "      <td>0.020464</td>\n",
              "      <td>0.982826</td>\n",
              "      <td>00:00</td>\n",
              "    </tr>\n",
              "  </tbody>\n",
              "</table>"
            ]
          },
          "metadata": {}
        }
      ],
      "source": [
        "learn.fit(40, 0.1)"
      ]
    },
    {
      "cell_type": "code",
      "execution_count": 222,
      "metadata": {
        "colab": {
          "base_uri": "https://localhost:8080/",
          "height": 436
        },
        "id": "HOy78iOtL1cK",
        "outputId": "b60d07e4-eca3-4e72-d57e-1fb7af09762c"
      },
      "outputs": [
        {
          "output_type": "display_data",
          "data": {
            "text/plain": [
              "<Figure size 640x480 with 1 Axes>"
            ],
            "image/png": "[encoded data removed]"
          },
          "metadata": {}
        }
      ],
      "source": [
        "plt.plot(L(learn.recorder.values).itemgot(2));"
      ]
    },
    {
      "cell_type": "code",
      "execution_count": 220,
      "metadata": {
        "colab": {
          "base_uri": "https://localhost:8080/"
        },
        "id": "kZkwn1g1L1cL",
        "outputId": "8012566c-ee55-4312-9491-a9145b5253cc"
      },
      "outputs": [
        {
          "output_type": "execute_result",
          "data": {
            "text/plain": [
              "0.982826292514801"
            ]
          },
          "metadata": {},
          "execution_count": 220
        }
      ],
      "source": [
        "learn.recorder.values[-1][2]"
      ]
    },
    {
      "cell_type": "markdown",
      "metadata": {
        "id": "Fx-5XIO5L1cL"
      },
      "source": [
        "### Going Deeper"
      ]
    },
    {
      "cell_type": "code",
      "execution_count": 223,
      "metadata": {
        "colab": {
          "base_uri": "https://localhost:8080/",
          "height": 170
        },
        "id": "cEEhnbcNL1cL",
        "outputId": "28f9566d-5d66-495f-a885-9c735695e130"
      },
      "outputs": [
        {
          "output_type": "stream",
          "name": "stderr",
          "text": [
            "/usr/local/lib/python3.10/dist-packages/torchvision/models/_utils.py:208: UserWarning: The parameter 'pretrained' is deprecated since 0.13 and may be removed in the future, please use 'weights' instead.\n",
            "  warnings.warn(\n",
            "/usr/local/lib/python3.10/dist-packages/torchvision/models/_utils.py:223: UserWarning: Arguments other than a weight enum or `None` for 'weights' are deprecated since 0.13 and may be removed in the future. The current behavior is equivalent to passing `weights=None`.\n",
            "  warnings.warn(msg)\n"
          ]
        },
        {
          "output_type": "display_data",
          "data": {
            "text/plain": [
              "<IPython.core.display.HTML object>"
            ],
            "text/html": [
              "\n",
              "<style>\n",
              "    /* Turns off some styling */\n",
              "    progress {\n",
              "        /* gets rid of default border in Firefox and Opera. */\n",
              "        border: none;\n",
              "        /* Needs to be in here for Safari polyfill so background images work as expected. */\n",
              "        background-size: auto;\n",
              "    }\n",
              "    progress:not([value]), progress:not([value])::-webkit-progress-bar {\n",
              "        background: repeating-linear-gradient(45deg, #7e7e7e, #7e7e7e 10px, #5c5c5c 10px, #5c5c5c 20px);\n",
              "    }\n",
              "    .progress-bar-interrupted, .progress-bar-interrupted::-webkit-progress-bar {\n",
              "        background: #F44336;\n",
              "    }\n",
              "</style>\n"
            ]
          },
          "metadata": {}
        },
        {
          "output_type": "display_data",
          "data": {
            "text/plain": [
              "<IPython.core.display.HTML object>"
            ],
            "text/html": [
              "<table border=\"1\" class=\"dataframe\">\n",
              "  <thead>\n",
              "    <tr style=\"text-align: left;\">\n",
              "      <th>epoch</th>\n",
              "      <th>train_loss</th>\n",
              "      <th>valid_loss</th>\n",
              "      <th>accuracy</th>\n",
              "      <th>time</th>\n",
              "    </tr>\n",
              "  </thead>\n",
              "  <tbody>\n",
              "    <tr>\n",
              "      <td>0</td>\n",
              "      <td>0.082653</td>\n",
              "      <td>0.006822</td>\n",
              "      <td>0.997056</td>\n",
              "      <td>03:20</td>\n",
              "    </tr>\n",
              "  </tbody>\n",
              "</table>"
            ]
          },
          "metadata": {}
        }
      ],
      "source": [
        "dls = ImageDataLoaders.from_folder(path)\n",
        "learn = vision_learner(dls, resnet18, pretrained=False,\n",
        "                    loss_func=F.cross_entropy, metrics=accuracy)\n",
        "learn.fit_one_cycle(1, 0.1)"
      ]
    },
    {
      "cell_type": "markdown",
      "metadata": {
        "id": "eUeuAAoAL1cL"
      },
      "source": [
        "## Jargon Recap"
      ]
    },
    {
      "cell_type": "markdown",
      "metadata": {
        "id": "voRqrOcgL1cL"
      },
      "source": [
        "## Questionnaire"
      ]
    },
    {
      "cell_type": "markdown",
      "metadata": {
        "id": "kymTvPzEL1cL"
      },
      "source": [
        "1. How is a grayscale image represented on a computer? How about a color image?\n",
        "1. How are the files and folders in the `MNIST_SAMPLE` dataset structured? Why?\n",
        "1. Explain how the \"pixel similarity\" approach to classifying digits works.\n",
        "1. What is a list comprehension? Create one now that selects odd numbers from a list and doubles them.\n",
        "1. What is a \"rank-3 tensor\"?\n",
        "1. What is the difference between tensor rank and shape? How do you get the rank from the shape?\n",
        "1. What are RMSE and L1 norm?\n",
        "1. How can you apply a calculation on thousands of numbers at once, many thousands of times faster than a Python loop?\n",
        "1. Create a 3×3 tensor or array containing the numbers from 1 to 9. Double it. Select the bottom-right four numbers.\n",
        "1. What is broadcasting?\n",
        "1. Are metrics generally calculated using the training set, or the validation set? Why?\n",
        "1. What is SGD?\n",
        "1. Why does SGD use mini-batches?\n",
        "1. What are the seven steps in SGD for machine learning?\n",
        "1. How do we initialize the weights in a model?\n",
        "1. What is \"loss\"?\n",
        "1. Why can't we always use a high learning rate?\n",
        "1. What is a \"gradient\"?\n",
        "1. Do you need to know how to calculate gradients yourself?\n",
        "1. Why can't we use accuracy as a loss function?\n",
        "1. Draw the sigmoid function. What is special about its shape?\n",
        "1. What is the difference between a loss function and a metric?\n",
        "1. What is the function to calculate new weights using a learning rate?\n",
        "1. What does the `DataLoader` class do?\n",
        "1. Write pseudocode showing the basic steps taken in each epoch for SGD.\n",
        "1. Create a function that, if passed two arguments `[1,2,3,4]` and `'abcd'`, returns `[(1, 'a'), (2, 'b'), (3, 'c'), (4, 'd')]`. What is special about that output data structure?\n",
        "1. What does `view` do in PyTorch?\n",
        "1. What are the \"bias\" parameters in a neural network? Why do we need them?\n",
        "1. What does the `@` operator do in Python?\n",
        "1. What does the `backward` method do?\n",
        "1. Why do we have to zero the gradients?\n",
        "1. What information do we have to pass to `Learner`?\n",
        "1. Show Python or pseudocode for the basic steps of a training loop.\n",
        "1. What is \"ReLU\"? Draw a plot of it for values from `-2` to `+2`.\n",
        "1. What is an \"activation function\"?\n",
        "1. What's the difference between `F.relu` and `nn.ReLU`?\n",
        "1. The universal approximation theorem shows that any function can be approximated as closely as needed using just one nonlinearity. So why do we normally use more?"
      ]
    },
    {
      "cell_type": "markdown",
      "metadata": {
        "id": "hTY2FKA8L1cL"
      },
      "source": [
        "### Further Research"
      ]
    },
    {
      "cell_type": "markdown",
      "metadata": {
        "id": "4colJYE1L1cL"
      },
      "source": [
        "1. Create your own implementation of `Learner` from scratch, based on the training loop shown in this chapter.\n",
        "1. Complete all the steps in this chapter using the full MNIST datasets (that is, for all digits, not just 3s and 7s). This is a significant project and will take you quite a bit of time to complete! You'll need to do some of your own research to figure out how to overcome some obstacles you'll meet on the way."
      ]
    },
    {
      "cell_type": "code",
      "execution_count": null,
      "metadata": {
        "id": "LhKrMaK3L1cL"
      },
      "outputs": [],
      "source": []
    }
  ],
  "metadata": {
    "jupytext": {
      "split_at_heading": true
    },
    "kernelspec": {
      "display_name": "Python 3 (ipykernel)",
      "language": "python",
      "name": "python3"
    },
    "colab": {
      "provenance": []
    }
  },
  "nbformat": 4,
  "nbformat_minor": 0
}