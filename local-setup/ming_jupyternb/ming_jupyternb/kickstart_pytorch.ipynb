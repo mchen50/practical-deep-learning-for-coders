{
 "cells": [
  {
   "attachments": {},
   "cell_type": "markdown",
   "metadata": {},
   "source": [
    "## Setup"
   ]
  },
  {
   "cell_type": "code",
   "execution_count": 2,
   "metadata": {},
   "outputs": [],
   "source": [
    "import torch\n",
    "import torchvision\n",
    "from torch.utils.tensorboard import SummaryWriter"
   ]
  },
  {
   "cell_type": "code",
   "execution_count": 2,
   "metadata": {},
   "outputs": [
    {
     "data": {
      "text/plain": [
       "True"
      ]
     },
     "execution_count": 2,
     "metadata": {},
     "output_type": "execute_result"
    }
   ],
   "source": [
    "torch.cuda.is_available()"
   ]
  },
  {
   "cell_type": "code",
   "execution_count": 3,
   "metadata": {},
   "outputs": [
    {
     "name": "stdout",
     "output_type": "stream",
     "text": [
      "ID of current CUDA device:  0\n",
      "Name of current CUDA device is:  NVIDIA GeForce RTX 3070\n",
      "Amount of GPU memory allocated:  0\n",
      "Amount of GPU memory reserved:  0\n"
     ]
    }
   ],
   "source": [
    "print('ID of current CUDA device: ', torch.cuda.current_device())\n",
    "print('Name of current CUDA device is: ', torch.cuda.get_device_name(torch.cuda.current_device()))\n",
    "print('Amount of GPU memory allocated: ', torch.cuda.memory_allocated(torch.cuda.current_device()))\n",
    "print('Amount of GPU memory reserved: ', torch.cuda.memory_reserved(torch.cuda.current_device()))"
   ]
  },
  {
   "cell_type": "code",
   "execution_count": 4,
   "metadata": {},
   "outputs": [],
   "source": [
    "torch.cuda.empty_cache()"
   ]
  },
  {
   "cell_type": "code",
   "execution_count": 5,
   "metadata": {},
   "outputs": [
    {
     "name": "stdout",
     "output_type": "stream",
     "text": [
      "2.0.1+cu118\n",
      "0.15.2+cu118\n"
     ]
    }
   ],
   "source": [
    "print(torch.__version__)\n",
    "print(torchvision.__version__)"
   ]
  },
  {
   "cell_type": "code",
   "execution_count": 6,
   "metadata": {},
   "outputs": [],
   "source": [
    "writer = SummaryWriter()"
   ]
  },
  {
   "attachments": {},
   "cell_type": "markdown",
   "metadata": {},
   "source": [
    "## Dataset"
   ]
  },
  {
   "cell_type": "code",
   "execution_count": 8,
   "metadata": {},
   "outputs": [
    {
     "name": "stdout",
     "output_type": "stream",
     "text": [
      "Downloading https://www.cs.toronto.edu/~kriz/cifar-10-python.tar.gz to ./cifar-10-python.tar.gz\n"
     ]
    },
    {
     "name": "stderr",
     "output_type": "stream",
     "text": [
      "100.0%\n"
     ]
    },
    {
     "name": "stdout",
     "output_type": "stream",
     "text": [
      "Extracting ./cifar-10-python.tar.gz to ./\n"
     ]
    },
    {
     "data": {
      "text/plain": [
       "Dataset CIFAR10\n",
       "    Number of datapoints: 50000\n",
       "    Root location: ./\n",
       "    Split: Train"
      ]
     },
     "execution_count": 8,
     "metadata": {},
     "output_type": "execute_result"
    }
   ],
   "source": [
    "cifar10 = torchvision.datasets.CIFAR10(root ='./',download = True)\n",
    "cifar10"
   ]
  },
  {
   "attachments": {},
   "cell_type": "markdown",
   "metadata": {},
   "source": [
    "## Build Model - MobileNetV3 (small)"
   ]
  },
  {
   "cell_type": "code",
   "execution_count": 10,
   "metadata": {},
   "outputs": [],
   "source": [
    "import torch.nn as nn"
   ]
  },
  {
   "cell_type": "code",
   "execution_count": 11,
   "metadata": {},
   "outputs": [],
   "source": [
    "class hard_sigmoid(nn.Module):\n",
    "    def __init__(self, inplace=True):\n",
    "        super(hard_sigmoid, self).__init__()\n",
    "        self.h_sig = nn.ReLU6(inplace=inplace)\n",
    "\n",
    "    def forward(self, x):\n",
    "        x = self.h_sig(x + 3.0) / 6\n",
    "        return x\n"
   ]
  },
  {
   "cell_type": "code",
   "execution_count": 12,
   "metadata": {},
   "outputs": [],
   "source": [
    "class hard_swish(nn.Module):\n",
    "    def __init__(self, inplace=True):\n",
    "        super(hard_swish, self).__init__()\n",
    "        self.h_sig = hard_sigmoid(inplace=inplace)\n",
    "\n",
    "    def forward(self, x):\n",
    "        x = x * self.h_sig(x)\n",
    "        return x\n"
   ]
  },
  {
   "cell_type": "code",
   "execution_count": 13,
   "metadata": {},
   "outputs": [],
   "source": [
    "def conv_1x1_bn(input, output, activation=nn.ReLU):\n",
    "    conv = nn.Sequential(\n",
    "        nn.Conv2d(input, output, 1, 1, 0, bias=False),\n",
    "        nn.BatchNorm2d(output),\n",
    "        activation(inplace=True),\n",
    "    )\n",
    "    return conv\n"
   ]
  },
  {
   "cell_type": "code",
   "execution_count": 14,
   "metadata": {},
   "outputs": [],
   "source": [
    "def conv_3x3_bn(input, output, activation = nn.ReLU, stride = 2):\n",
    "    conv = nn.Sequential(\n",
    "        nn.Conv2d(input, output, 3, stride, 1, bias = False),\n",
    "        nn.BatchNorm2d(output),\n",
    "        activation()\n",
    "    )\n",
    "    return conv"
   ]
  },
  {
   "cell_type": "code",
   "execution_count": 15,
   "metadata": {},
   "outputs": [],
   "source": [
    "class SEBlock(nn.Module):\n",
    "    def __init__(self, channel, reduction=4, SE=False):\n",
    "        super(SEBlock, self).__init__()\n",
    "        self.SE = SE\n",
    "        self.avg_pool = nn.AdaptiveAvgPool2d(1)\n",
    "        self.se = SE\n",
    "        self.exc_block = nn.Sequential(\n",
    "            nn.Linear(channel, channel // reduction, bias=False),\n",
    "            nn.ReLU(inplace=True),\n",
    "            nn.Linear(channel // reduction, channel, bias=False),\n",
    "            hard_sigmoid(),\n",
    "        )\n",
    "\n",
    "    def forward(self, x):\n",
    "        if self.SE:\n",
    "            b, c, _, _ = x.size()\n",
    "            y = self.avg_pool(x).view(b, c)\n",
    "            y = self.exc_block(y).view(b, c, 1, 1)\n",
    "            x = x * y.expand_as(x)\n",
    "        return x\n"
   ]
  },
  {
   "cell_type": "code",
   "execution_count": 16,
   "metadata": {},
   "outputs": [],
   "source": [
    "class Bottleneck(nn.Module):\n",
    "    def __init__(self, input, output, kernel, stride, exp_size, SE=False, act=\"RE\"):\n",
    "        super(Bottleneck, self).__init__()\n",
    "        padding = (kernel - 1) // 2\n",
    "        sq_ex = SE\n",
    "\n",
    "        if stride == 1 and input == output:\n",
    "            self.residual = True\n",
    "        else:\n",
    "            self.residual = False\n",
    "\n",
    "        if act == \"RE\":\n",
    "            activation = nn.ReLU\n",
    "        elif act == \"HS\":\n",
    "            activation = hard_swish\n",
    "\n",
    "        self.conv = nn.Sequential(\n",
    "            nn.Conv2d(input, exp_size, 1, 1, 0, bias=False),\n",
    "            nn.BatchNorm2d(exp_size),\n",
    "            activation(),\n",
    "            nn.Conv2d(\n",
    "                exp_size, exp_size, kernel, stride, padding, groups=exp_size, bias=False\n",
    "            ),\n",
    "            nn.BatchNorm2d(exp_size),\n",
    "            SEBlock(channel=exp_size, SE=sq_ex),\n",
    "            activation(inplace=True),\n",
    "            nn.Conv2d(exp_size, output, 1, 1, 0, bias=False),\n",
    "            nn.BatchNorm2d(output),\n",
    "        )\n",
    "\n",
    "    def forward(self, x):\n",
    "        if self.residual:\n",
    "            x = x + self.conv(x)\n",
    "        else:\n",
    "            x = self.conv(x)\n",
    "        return x\n"
   ]
  },
  {
   "cell_type": "code",
   "execution_count": 17,
   "metadata": {},
   "outputs": [],
   "source": [
    "class MobileNetV3(nn.Module):\n",
    "    def __init__(self, input_size=224):\n",
    "        super(MobileNetV3, self).__init__()\n",
    "        if input_size == 32:\n",
    "            s = 1\n",
    "        else:\n",
    "            s = 2\n",
    "        mobile_setting = [\n",
    "            # k, exp, out,  se,     nl,  s,\n",
    "            [3, 16, 16, True, \"RE\", s],\n",
    "            [3, 72, 24, False, \"RE\", 2],\n",
    "            [3, 88, 24, False, \"RE\", 1],\n",
    "            [5, 96, 40, True, \"HS\", 2],\n",
    "            [5, 240, 40, True, \"HS\", 1],\n",
    "            [5, 240, 40, True, \"HS\", 1],\n",
    "            [5, 120, 48, True, \"HS\", 1],\n",
    "            [5, 144, 48, True, \"HS\", 1],\n",
    "            [5, 288, 96, True, \"HS\", 2],\n",
    "            [5, 576, 96, True, \"HS\", 1],\n",
    "            [5, 576, 96, True, \"HS\", 1],\n",
    "        ]\n",
    "\n",
    "        input_channel = 16\n",
    "        self.net = [conv_3x3_bn(3, input_channel, activation=hard_swish)]\n",
    "\n",
    "        for k, exp_size, out, se, nl, s in mobile_setting:\n",
    "            output_channel = out\n",
    "            self.net.append(\n",
    "                Bottleneck(input_channel, output_channel, k, s, exp_size, se, nl)\n",
    "            )\n",
    "            input_channel = output_channel\n",
    "        self.net.append(conv_1x1_bn(input_channel, 576, activation=hard_swish))\n",
    "        self.net.append(nn.AdaptiveAvgPool2d(1))\n",
    "        self.net.append(nn.Conv2d(576, 1280, 1, 1, 0))\n",
    "        self.net.append(hard_swish())\n",
    "\n",
    "        self.net = nn.Sequential(*self.net)\n",
    "\n",
    "        self.classifier = nn.Sequential(\n",
    "            nn.Dropout(p=0.8), nn.Flatten(), nn.Linear(1280, 10), nn.Softmax()\n",
    "        )\n",
    "\n",
    "    def forward(self, x):\n",
    "        x = self.net(x)\n",
    "        x = self.classifier(x)\n",
    "        return x\n"
   ]
  },
  {
   "cell_type": "code",
   "execution_count": 18,
   "metadata": {},
   "outputs": [],
   "source": [
    "net = MobileNetV3(input_size = 224)"
   ]
  },
  {
   "cell_type": "code",
   "execution_count": 19,
   "metadata": {},
   "outputs": [],
   "source": [
    "input_size=(1, 3, 224, 224)"
   ]
  },
  {
   "cell_type": "code",
   "execution_count": 20,
   "metadata": {},
   "outputs": [
    {
     "name": "stderr",
     "output_type": "stream",
     "text": [
      "/home/ming-chen/.cache/pypoetry/virtualenvs/ming-jupyternb-GLHjeNiZ-py3.11/lib/python3.11/site-packages/torch/nn/modules/container.py:217: UserWarning: Implicit dimension choice for softmax has been deprecated. Change the call to include dim=X as an argument.\n",
      "  input = module(input)\n"
     ]
    }
   ],
   "source": [
    "x = torch.randn(input_size)\n",
    "out = net(x)"
   ]
  },
  {
   "cell_type": "code",
   "execution_count": 21,
   "metadata": {},
   "outputs": [
    {
     "data": {
      "text/plain": [
       "torch.Size([1, 10])"
      ]
     },
     "execution_count": 21,
     "metadata": {},
     "output_type": "execute_result"
    }
   ],
   "source": [
    "out.shape"
   ]
  },
  {
   "attachments": {},
   "cell_type": "markdown",
   "metadata": {},
   "source": [
    "## Training Preparation"
   ]
  },
  {
   "cell_type": "code",
   "execution_count": 22,
   "metadata": {},
   "outputs": [],
   "source": [
    "import os\n",
    "from torch.optim import lr_scheduler\n",
    "import torch.optim as optim\n",
    "from torch.nn import DataParallel"
   ]
  },
  {
   "cell_type": "code",
   "execution_count": 23,
   "metadata": {},
   "outputs": [],
   "source": [
    "GPU = 0\n",
    "# If mutiple GPUs, we can use DataParallel to use all of them\n",
    "#GPU = 0, 1"
   ]
  },
  {
   "cell_type": "code",
   "execution_count": 24,
   "metadata": {},
   "outputs": [],
   "source": [
    "gpu_list = \"\"\n",
    "multi_gpus = False\n",
    "if isinstance(GPU, int):\n",
    "    gpu_list = str(GPU)\n",
    "else:\n",
    "    multi_gpus = True\n",
    "    for i, gpu_id in enumerate(GPU):\n",
    "        gpu_list += str(gpu_id)\n",
    "        if i != len(GPU) - 1:\n",
    "            gpu_list += \",\"\n",
    "os.environ[\"CUDA_VISIBLE_DEVICES\"] = gpu_list\n"
   ]
  },
  {
   "cell_type": "code",
   "execution_count": 25,
   "metadata": {},
   "outputs": [],
   "source": [
    "net = net.cuda()\n",
    "if multi_gpus:\n",
    "    net = DataParallel(net)"
   ]
  },
  {
   "cell_type": "code",
   "execution_count": 26,
   "metadata": {},
   "outputs": [],
   "source": [
    "from torchvision import transforms"
   ]
  },
  {
   "cell_type": "code",
   "execution_count": 28,
   "metadata": {},
   "outputs": [],
   "source": [
    "augment_normalize_train = transforms.Compose(\n",
    "    [\n",
    "        transforms.Resize(224),\n",
    "        transforms.RandomHorizontalFlip(),\n",
    "        transforms.ToTensor(),\n",
    "        transforms.Normalize((0.5071, 0.4865, 0.4409), (0.2673, 0.2564, 0.2762)),\n",
    "    ]\n",
    ")\n"
   ]
  },
  {
   "cell_type": "code",
   "execution_count": 29,
   "metadata": {},
   "outputs": [],
   "source": [
    "trainset = torchvision.datasets.CIFAR10(root='./', train = True, transform = augment_normalize_train)"
   ]
  },
  {
   "cell_type": "code",
   "execution_count": 31,
   "metadata": {},
   "outputs": [],
   "source": [
    "augment_normalize_test = transforms.Compose(\n",
    "    [\n",
    "        transforms.Resize(224),\n",
    "        transforms.ToTensor(),\n",
    "        transforms.Normalize((0.5071, 0.4865, 0.4409), (0.2673, 0.2564, 0.2762)),\n",
    "    ]\n",
    ")\n"
   ]
  },
  {
   "cell_type": "code",
   "execution_count": 32,
   "metadata": {},
   "outputs": [],
   "source": [
    "testset = torchvision.datasets.CIFAR10(root='./', train = False, transform = augment_normalize_test)"
   ]
  },
  {
   "cell_type": "code",
   "execution_count": 33,
   "metadata": {},
   "outputs": [],
   "source": [
    "img, label = trainset[0]"
   ]
  },
  {
   "cell_type": "code",
   "execution_count": 35,
   "metadata": {},
   "outputs": [],
   "source": [
    "import matplotlib.pyplot as plt\n",
    "import numpy as np\n",
    "\n",
    "def show(image):\n",
    "    plt.figure(figsize=(5,5))\n",
    "    plt.imshow(image)\n",
    "    plt.show()"
   ]
  },
  {
   "cell_type": "code",
   "execution_count": 36,
   "metadata": {},
   "outputs": [
    {
     "data": {
      "image/png": "[encoded data removed]",
      "text/plain": [
       "<Figure size 500x500 with 1 Axes>"
      ]
     },
     "metadata": {},
     "output_type": "display_data"
    }
   ],
   "source": [
    "show(img[0])"
   ]
  },
  {
   "cell_type": "code",
   "execution_count": 37,
   "metadata": {},
   "outputs": [
    {
     "data": {
      "text/plain": [
       "6"
      ]
     },
     "execution_count": 37,
     "metadata": {},
     "output_type": "execute_result"
    }
   ],
   "source": [
    "label"
   ]
  },
  {
   "cell_type": "code",
   "execution_count": 38,
   "metadata": {},
   "outputs": [],
   "source": [
    "trainloader = torch.utils.data.DataLoader(\n",
    "    trainset, batch_size=128, shuffle=True, num_workers=8, drop_last=False\n",
    ")\n"
   ]
  },
  {
   "cell_type": "code",
   "execution_count": 39,
   "metadata": {},
   "outputs": [],
   "source": [
    "testloader = torch.utils.data.DataLoader(\n",
    "    testset, batch_size=128, shuffle=True, num_workers=8, drop_last=False\n",
    ")\n"
   ]
  },
  {
   "attachments": {},
   "cell_type": "markdown",
   "metadata": {},
   "source": [
    "## Training"
   ]
  },
  {
   "cell_type": "code",
   "execution_count": 41,
   "metadata": {},
   "outputs": [],
   "source": [
    "import time\n",
    "from sklearn.metrics import f1_score, accuracy_score"
   ]
  },
  {
   "cell_type": "code",
   "execution_count": 50,
   "metadata": {},
   "outputs": [],
   "source": [
    "EPOCHS = 50\n",
    "criterion = nn.CrossEntropyLoss()\n",
    "optimizer = optim.SGD(net.parameters(), lr=1e-1, momentum=0.9)\n",
    "lr = lr_scheduler.StepLR(optimizer, step_size = 20, gamma=0.1)"
   ]
  },
  {
   "cell_type": "code",
   "execution_count": 51,
   "metadata": {},
   "outputs": [],
   "source": [
    "import warnings\n",
    "warnings.filterwarnings(\"ignore\")"
   ]
  },
  {
   "cell_type": "code",
   "execution_count": 52,
   "metadata": {},
   "outputs": [
    {
     "name": "stdout",
     "output_type": "stream",
     "text": [
      "Train Epoch: 1/50 ...\n",
      "    total_loss: 1.8562 time: 0m 35s\n",
      "Test Epoch: 1/50 ...\n",
      "    total_loss: 1.8911 time: 0m 3s\n",
      "0.4375\n",
      "Saving checkpoint: 1\n",
      "Train Epoch: 2/50 ...\n",
      "    total_loss: 1.8361 time: 0m 35s\n",
      "Test Epoch: 2/50 ...\n",
      "    total_loss: 1.8749 time: 0m 3s\n",
      "0.3125\n",
      "Saving checkpoint: 2\n",
      "Train Epoch: 3/50 ...\n",
      "    total_loss: 1.8256 time: 0m 36s\n",
      "Test Epoch: 3/50 ...\n",
      "    total_loss: 1.8317 time: 0m 3s\n",
      "0.6875\n",
      "Saving checkpoint: 3\n",
      "Train Epoch: 4/50 ...\n",
      "    total_loss: 1.8089 time: 0m 35s\n",
      "Test Epoch: 4/50 ...\n",
      "    total_loss: 1.8157 time: 0m 3s\n",
      "0.625\n",
      "Saving checkpoint: 4\n",
      "Train Epoch: 5/50 ...\n",
      "    total_loss: 1.8028 time: 0m 35s\n",
      "Test Epoch: 5/50 ...\n",
      "    total_loss: 1.8189 time: 0m 3s\n",
      "0.4375\n",
      "Saving checkpoint: 5\n",
      "Train Epoch: 6/50 ...\n",
      "    total_loss: 1.7993 time: 0m 35s\n",
      "Test Epoch: 6/50 ...\n",
      "    total_loss: 1.7980 time: 0m 3s\n",
      "0.6875\n",
      "Saving checkpoint: 6\n",
      "Train Epoch: 7/50 ...\n",
      "    total_loss: 1.7905 time: 0m 35s\n",
      "Test Epoch: 7/50 ...\n",
      "    total_loss: 1.7943 time: 0m 3s\n",
      "0.6875\n",
      "Saving checkpoint: 7\n",
      "Train Epoch: 8/50 ...\n",
      "    total_loss: 1.7788 time: 0m 35s\n",
      "Test Epoch: 8/50 ...\n",
      "    total_loss: 1.7815 time: 0m 3s\n",
      "0.75\n",
      "Saving checkpoint: 8\n",
      "Train Epoch: 9/50 ...\n",
      "    total_loss: 1.7679 time: 0m 35s\n",
      "Test Epoch: 9/50 ...\n",
      "    total_loss: 1.7728 time: 0m 3s\n",
      "0.625\n",
      "Saving checkpoint: 9\n",
      "Train Epoch: 10/50 ...\n",
      "    total_loss: 1.7677 time: 0m 35s\n",
      "Test Epoch: 10/50 ...\n",
      "    total_loss: 1.7831 time: 0m 3s\n",
      "0.6875\n",
      "Saving checkpoint: 10\n",
      "Train Epoch: 11/50 ...\n",
      "    total_loss: 1.7605 time: 0m 35s\n",
      "Test Epoch: 11/50 ...\n",
      "    total_loss: 1.7656 time: 0m 3s\n",
      "0.5625\n",
      "Saving checkpoint: 11\n",
      "Train Epoch: 12/50 ...\n",
      "    total_loss: 1.7587 time: 0m 35s\n",
      "Test Epoch: 12/50 ...\n",
      "    total_loss: 1.7557 time: 0m 3s\n",
      "0.6875\n",
      "Saving checkpoint: 12\n",
      "Train Epoch: 13/50 ...\n",
      "    total_loss: 1.7514 time: 0m 35s\n",
      "Test Epoch: 13/50 ...\n",
      "    total_loss: 1.7938 time: 0m 3s\n",
      "0.6875\n",
      "Saving checkpoint: 13\n",
      "Train Epoch: 14/50 ...\n",
      "    total_loss: 1.7402 time: 0m 35s\n",
      "Test Epoch: 14/50 ...\n",
      "    total_loss: 1.7478 time: 0m 3s\n",
      "0.8125\n",
      "Saving checkpoint: 14\n",
      "Train Epoch: 15/50 ...\n",
      "    total_loss: 1.7444 time: 0m 35s\n",
      "Test Epoch: 15/50 ...\n",
      "    total_loss: 1.7456 time: 0m 3s\n",
      "0.75\n",
      "Saving checkpoint: 15\n",
      "Train Epoch: 16/50 ...\n",
      "    total_loss: 1.7439 time: 0m 35s\n",
      "Test Epoch: 16/50 ...\n",
      "    total_loss: 1.7267 time: 0m 3s\n",
      "0.5625\n",
      "Saving checkpoint: 16\n",
      "Train Epoch: 17/50 ...\n",
      "    total_loss: 1.7325 time: 0m 35s\n",
      "Test Epoch: 17/50 ...\n",
      "    total_loss: 1.7432 time: 0m 3s\n",
      "0.5625\n",
      "Saving checkpoint: 17\n",
      "Train Epoch: 18/50 ...\n",
      "    total_loss: 1.7214 time: 0m 35s\n",
      "Test Epoch: 18/50 ...\n",
      "    total_loss: 1.7350 time: 0m 3s\n",
      "0.5625\n",
      "Saving checkpoint: 18\n",
      "Train Epoch: 19/50 ...\n",
      "    total_loss: 1.7176 time: 0m 35s\n",
      "Test Epoch: 19/50 ...\n",
      "    total_loss: 1.7266 time: 0m 3s\n",
      "0.75\n",
      "Saving checkpoint: 19\n",
      "Train Epoch: 20/50 ...\n",
      "    total_loss: 1.6880 time: 0m 35s\n",
      "Test Epoch: 20/50 ...\n",
      "    total_loss: 1.6763 time: 0m 3s\n",
      "0.625\n",
      "Saving checkpoint: 20\n",
      "Train Epoch: 21/50 ...\n",
      "    total_loss: 1.6693 time: 0m 35s\n",
      "Test Epoch: 21/50 ...\n",
      "    total_loss: 1.6667 time: 0m 3s\n",
      "0.875\n",
      "Saving checkpoint: 21\n",
      "Train Epoch: 22/50 ...\n",
      "    total_loss: 1.6624 time: 0m 35s\n",
      "Test Epoch: 22/50 ...\n",
      "    total_loss: 1.6616 time: 0m 3s\n",
      "0.6875\n",
      "Saving checkpoint: 22\n",
      "Train Epoch: 23/50 ...\n",
      "    total_loss: 1.6598 time: 0m 35s\n",
      "Test Epoch: 23/50 ...\n",
      "    total_loss: 1.6594 time: 0m 3s\n",
      "0.8125\n",
      "Saving checkpoint: 23\n",
      "Train Epoch: 24/50 ...\n",
      "    total_loss: 1.6553 time: 0m 35s\n",
      "Test Epoch: 24/50 ...\n",
      "    total_loss: 1.6580 time: 0m 3s\n",
      "0.8125\n",
      "Saving checkpoint: 24\n",
      "Train Epoch: 25/50 ...\n",
      "    total_loss: 1.6530 time: 0m 35s\n",
      "Test Epoch: 25/50 ...\n",
      "    total_loss: 1.6562 time: 0m 3s\n",
      "0.875\n",
      "Saving checkpoint: 25\n",
      "Train Epoch: 26/50 ...\n",
      "    total_loss: 1.6499 time: 0m 35s\n",
      "Test Epoch: 26/50 ...\n",
      "    total_loss: 1.6545 time: 0m 3s\n",
      "0.75\n",
      "Saving checkpoint: 26\n",
      "Train Epoch: 27/50 ...\n",
      "    total_loss: 1.6470 time: 0m 35s\n",
      "Test Epoch: 27/50 ...\n",
      "    total_loss: 1.6530 time: 0m 3s\n",
      "0.75\n",
      "Saving checkpoint: 27\n",
      "Train Epoch: 28/50 ...\n",
      "    total_loss: 1.6452 time: 0m 35s\n",
      "Test Epoch: 28/50 ...\n",
      "    total_loss: 1.6551 time: 0m 3s\n",
      "0.875\n",
      "Saving checkpoint: 28\n",
      "Train Epoch: 29/50 ...\n",
      "    total_loss: 1.6426 time: 0m 35s\n",
      "Test Epoch: 29/50 ...\n",
      "    total_loss: 1.6493 time: 0m 3s\n",
      "0.8125\n",
      "Saving checkpoint: 29\n",
      "Train Epoch: 30/50 ...\n",
      "    total_loss: 1.6394 time: 0m 35s\n",
      "Test Epoch: 30/50 ...\n",
      "    total_loss: 1.6518 time: 0m 3s\n",
      "0.875\n",
      "Saving checkpoint: 30\n",
      "Train Epoch: 31/50 ...\n",
      "    total_loss: 1.6406 time: 0m 35s\n",
      "Test Epoch: 31/50 ...\n",
      "    total_loss: 1.6521 time: 0m 3s\n",
      "0.6875\n",
      "Saving checkpoint: 31\n",
      "Train Epoch: 32/50 ...\n",
      "    total_loss: 1.6389 time: 0m 36s\n",
      "Test Epoch: 32/50 ...\n",
      "    total_loss: 1.6493 time: 0m 3s\n",
      "0.625\n",
      "Saving checkpoint: 32\n",
      "Train Epoch: 33/50 ...\n",
      "    total_loss: 1.6367 time: 0m 35s\n",
      "Test Epoch: 33/50 ...\n",
      "    total_loss: 1.6474 time: 0m 3s\n",
      "0.75\n",
      "Saving checkpoint: 33\n",
      "Train Epoch: 34/50 ...\n",
      "    total_loss: 1.6344 time: 0m 35s\n",
      "Test Epoch: 34/50 ...\n",
      "    total_loss: 1.6463 time: 0m 3s\n",
      "0.8125\n",
      "Saving checkpoint: 34\n",
      "Train Epoch: 35/50 ...\n",
      "    total_loss: 1.6351 time: 0m 36s\n",
      "Test Epoch: 35/50 ...\n",
      "    total_loss: 1.6469 time: 0m 3s\n",
      "0.875\n",
      "Saving checkpoint: 35\n",
      "Train Epoch: 36/50 ...\n",
      "    total_loss: 1.6354 time: 0m 36s\n",
      "Test Epoch: 36/50 ...\n",
      "    total_loss: 1.6469 time: 0m 3s\n",
      "0.5625\n",
      "Saving checkpoint: 36\n",
      "Train Epoch: 37/50 ...\n",
      "    total_loss: 1.6312 time: 0m 35s\n",
      "Test Epoch: 37/50 ...\n",
      "    total_loss: 1.6463 time: 0m 3s\n",
      "0.75\n",
      "Saving checkpoint: 37\n",
      "Train Epoch: 38/50 ...\n",
      "    total_loss: 1.6309 time: 0m 35s\n",
      "Test Epoch: 38/50 ...\n",
      "    total_loss: 1.6424 time: 0m 3s\n",
      "0.75\n",
      "Saving checkpoint: 38\n",
      "Train Epoch: 39/50 ...\n",
      "    total_loss: 1.6290 time: 0m 35s\n",
      "Test Epoch: 39/50 ...\n",
      "    total_loss: 1.6466 time: 0m 3s\n",
      "0.875\n",
      "Saving checkpoint: 39\n",
      "Train Epoch: 40/50 ...\n",
      "    total_loss: 1.6281 time: 0m 35s\n",
      "Test Epoch: 40/50 ...\n",
      "    total_loss: 1.6431 time: 0m 3s\n",
      "0.8125\n",
      "Saving checkpoint: 40\n",
      "Train Epoch: 41/50 ...\n",
      "    total_loss: 1.6274 time: 0m 35s\n",
      "Test Epoch: 41/50 ...\n",
      "    total_loss: 1.6423 time: 0m 3s\n",
      "0.75\n",
      "Saving checkpoint: 41\n",
      "Train Epoch: 42/50 ...\n",
      "    total_loss: 1.6254 time: 0m 35s\n",
      "Test Epoch: 42/50 ...\n",
      "    total_loss: 1.6428 time: 0m 3s\n",
      "0.875\n",
      "Saving checkpoint: 42\n",
      "Train Epoch: 43/50 ...\n",
      "    total_loss: 1.6233 time: 0m 35s\n",
      "Test Epoch: 43/50 ...\n",
      "    total_loss: 1.6415 time: 0m 3s\n",
      "0.8125\n",
      "Saving checkpoint: 43\n",
      "Train Epoch: 44/50 ...\n",
      "    total_loss: 1.6247 time: 0m 35s\n",
      "Test Epoch: 44/50 ...\n",
      "    total_loss: 1.6408 time: 0m 3s\n",
      "0.8125\n",
      "Saving checkpoint: 44\n",
      "Train Epoch: 45/50 ...\n",
      "    total_loss: 1.6249 time: 0m 35s\n",
      "Test Epoch: 45/50 ...\n",
      "    total_loss: 1.6410 time: 0m 3s\n",
      "0.8125\n",
      "Saving checkpoint: 45\n",
      "Train Epoch: 46/50 ...\n",
      "    total_loss: 1.6222 time: 0m 35s\n",
      "Test Epoch: 46/50 ...\n",
      "    total_loss: 1.6404 time: 0m 3s\n",
      "0.9375\n",
      "Saving checkpoint: 46\n",
      "Train Epoch: 47/50 ...\n",
      "    total_loss: 1.6235 time: 0m 35s\n",
      "Test Epoch: 47/50 ...\n",
      "    total_loss: 1.6409 time: 0m 3s\n",
      "0.6875\n",
      "Saving checkpoint: 47\n",
      "Train Epoch: 48/50 ...\n",
      "    total_loss: 1.6210 time: 0m 35s\n",
      "Test Epoch: 48/50 ...\n",
      "    total_loss: 1.6412 time: 0m 3s\n",
      "0.9375\n",
      "Saving checkpoint: 48\n",
      "Train Epoch: 49/50 ...\n",
      "    total_loss: 1.6237 time: 0m 35s\n",
      "Test Epoch: 49/50 ...\n",
      "    total_loss: 1.6410 time: 0m 3s\n",
      "0.8125\n",
      "Saving checkpoint: 49\n",
      "Train Epoch: 50/50 ...\n",
      "    total_loss: 1.6229 time: 0m 35s\n",
      "Test Epoch: 50/50 ...\n",
      "    total_loss: 1.6389 time: 0m 3s\n",
      "0.9375\n",
      "Saving checkpoint: 50\n",
      "finishing training\n"
     ]
    }
   ],
   "source": [
    "best_acc = 0.0\n",
    "for epoch in range(1, EPOCHS + 1):\n",
    "    lr.step(epoch)\n",
    "    start_train = time.time()\n",
    "\n",
    "    print(\"Train Epoch: {}/{} ...\".format(epoch, EPOCHS))\n",
    "    net.train()\n",
    "    train_loss = 0.0\n",
    "    batches = 0\n",
    "    for data in trainloader:\n",
    "        images, labels = data[0].cuda(), data[1].cuda()\n",
    "\n",
    "        optimizer.zero_grad()\n",
    "        raw_logits = net(images)\n",
    "        loss = criterion(raw_logits, labels)\n",
    "        train_loss += loss * images.size(0)\n",
    "        batches += images.size(0)\n",
    "        loss.backward()\n",
    "        optimizer.step()\n",
    "\n",
    "    writer.add_scalar(\"Loss/train\", train_loss / batches, epoch)\n",
    "    total_time = time.time() - start_train\n",
    "    print(\n",
    "        \"    total_loss: {:.4f} time: {:.0f}m {:.0f}s\".format(\n",
    "            train_loss / batches, total_time // 60, total_time % 60\n",
    "        )\n",
    "    )\n",
    "\n",
    "    start_test = time.time()\n",
    "\n",
    "    print(\"Test Epoch: {}/{} ...\".format(epoch, EPOCHS))\n",
    "    net.eval()\n",
    "    test_loss = 0.0\n",
    "    batches = 0\n",
    "    with torch.no_grad():\n",
    "        for data in testloader:\n",
    "            images, labels = data[0].cuda(), data[1].cuda()\n",
    "\n",
    "            raw_logits = net(images)\n",
    "            loss = criterion(raw_logits, labels)\n",
    "            test_loss += loss * images.size(0)\n",
    "            batches += images.size(0)\n",
    "\n",
    "            top_1 = []\n",
    "            acc = []\n",
    "            for out in raw_logits.cpu().detach().numpy():\n",
    "                top_1.append(np.argmax(out))\n",
    "            acc.append(accuracy_score(labels.cpu().detach().numpy(), top_1))\n",
    "        writer.add_scalar(\"Loss/test\", test_loss / batches, epoch)\n",
    "        total_time = time.time() - start_test\n",
    "        writer.add_scalar(\"Accuracy/test\", np.mean(acc), epoch)\n",
    "        print(\n",
    "            \"    total_loss: {:.4f} time: {:.0f}m {:.0f}s\".format(\n",
    "                test_loss / batches, total_time // 60, total_time % 60\n",
    "            )\n",
    "        )\n",
    "        accuracy = np.mean(acc)\n",
    "        print(accuracy)\n",
    "\n",
    "    if True:\n",
    "        best_acc = accuracy\n",
    "        msg = \"Saving checkpoint: {}\".format(epoch)\n",
    "        print(msg)\n",
    "        if multi_gpus:\n",
    "            net_state_dict = net.module.state_dict()\n",
    "        else:\n",
    "            net_state_dict = net.state_dict()\n",
    "        if not os.path.exists(\"./model/\"):\n",
    "            os.mkdir(\"./model/\")\n",
    "        torch.save(\n",
    "            {\"epoch\": epoch, \"net_state_dict\": net_state_dict},\n",
    "            os.path.join(\"./model/\", \"%03d.ckpt\" % epoch),\n",
    "        )\n",
    "print(\"finishing training\")\n"
   ]
  },
  {
   "cell_type": "code",
   "execution_count": null,
   "metadata": {},
   "outputs": [],
   "source": []
  }
 ],
 "metadata": {
  "kernelspec": {
   "display_name": "ming-jupyternb-GLHjeNiZ-py3.11",
   "language": "python",
   "name": "python3"
  },
  "language_info": {
   "codemirror_mode": {
    "name": "ipython",
    "version": 3
   },
   "file_extension": ".py",
   "mimetype": "text/x-python",
   "name": "python",
   "nbconvert_exporter": "python",
   "pygments_lexer": "ipython3",
   "version": "3.11.5"
  },
  "orig_nbformat": 4
 },
 "nbformat": 4,
 "nbformat_minor": 2
}
